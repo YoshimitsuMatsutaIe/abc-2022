{
 "cells": [
  {
   "cell_type": "markdown",
   "metadata": {},
   "source": [
    "# ソルバーを使わないで微分方程式を解く\n",
    "扱う微分方程式はsolver~と同じです．  "
   ]
  },
  {
   "cell_type": "code",
   "execution_count": 33,
   "metadata": {},
   "outputs": [],
   "source": [
    "import matplotlib.pyplot as plt  # グラフを作るとき使う\n",
    "import numpy as np"
   ]
  },
  {
   "cell_type": "markdown",
   "metadata": {},
   "source": [
    "## オイラー法\n",
    "一番簡単な常微分方程式の初期値問題の解き方．  \n",
    "次のような微分方程式を考える．  \n",
    "<br>\n",
    "<img src=\"https://latex.codecogs.com/svg.image?\\dot{x}&space;=&space;f(t,&space;x),&space;\\;\\;x(t_0)=x_0\" title=\"\\dot{x} = f(t, x), \\;\\;x(t_0)=x_0\" />  \n",
    "<br>\n",
    "簡単のため微分方程式が時間に依存しないとする．  \n",
    "<br>\n",
    "<img src=\"https://latex.codecogs.com/svg.image?\\dot{x}&space;=&space;f(x),&space;\\;\\;x(t_0)=x_0\" title=\"\\dot{x} = f(x), \\;\\;x(t_0)=x_0\" />  \n",
    "<br>\n",
    "オイラー法では次の式で解を初期値から更新していく．  \n",
    "<br>\n",
    "<img src=\"https://latex.codecogs.com/svg.image?x_{n&plus;1}&space;=&space;x_{n}&space;&plus;&space;f(x_n)\\Delta{}t,\\;\\;&space;t_n&space;<&space;T\" title=\"x_{n+1} = x_{n} + f(x_n)\\Delta{}t,\\;\\; t_n < T\" />  \n",
    "<br>\n",
    "ここで<img src=\"https://latex.codecogs.com/svg.image?\\Delta{}t\" title=\"\\Delta{}t\" />は刻み時間であり，<img src=\"https://latex.codecogs.com/svg.image?T\" title=\"T\" />は終了時間はである．\n",
    "<br>"
   ]
  },
  {
   "cell_type": "markdown",
   "metadata": {},
   "source": [
    "まずは簡単な一次元の微分方程式から考える．  \n",
    "<br>\n",
    "<img src=\"https://latex.codecogs.com/png.image?\\dpi{120}&space;\\bg_white&space;\\dot{x}=ax\" title=\"\\bg_white \\dot{x}=ax\" />  \n",
    "<br>\n",
    "微分方程式を定義する．  "
   ]
  },
  {
   "cell_type": "code",
   "execution_count": 34,
   "metadata": {},
   "outputs": [],
   "source": [
    "def dX(x): return x"
   ]
  },
  {
   "cell_type": "markdown",
   "metadata": {},
   "source": [
    "forループを使って実装する．  "
   ]
  },
  {
   "cell_type": "code",
   "execution_count": 35,
   "metadata": {},
   "outputs": [],
   "source": [
    "x = []  # 解xを格納する空のリスト\n",
    "t = []  # 時刻tnを格納するリスト\n",
    "\n",
    "# 初期値代入\n",
    "x.append(1)\n",
    "t.append(0)\n",
    "\n",
    "dt = 0.1  # 刻み時間\n",
    "\n",
    "for i in range(50):\n",
    "    x_next = x[i] + dX(x[i]) * dt  # オイラー法で解を更新\n",
    "    \n",
    "    # 解を格納\n",
    "    x.append(x_next)\n",
    "    t.append(t[i] + dt)"
   ]
  },
  {
   "cell_type": "markdown",
   "metadata": {},
   "source": [
    "解をプロットしてみる．  "
   ]
  },
  {
   "cell_type": "code",
   "execution_count": 36,
   "metadata": {},
   "outputs": [
    {
     "data": {
      "text/plain": [
       "[<matplotlib.lines.Line2D at 0x1a91004c4c0>]"
      ]
     },
     "execution_count": 36,
     "metadata": {},
     "output_type": "execute_result"
    },
    {
     "data": {
      "image/png": "[encoded data removed]",
      "text/plain": [
       "<Figure size 432x288 with 1 Axes>"
      ]
     },
     "metadata": {
      "needs_background": "light"
     },
     "output_type": "display_data"
    }
   ],
   "source": [
    "plt.plot(t, x)"
   ]
  },
  {
   "cell_type": "markdown",
   "metadata": {},
   "source": [
    "### 解析解と比較\n",
    "上記の微分方程式には厳密解がある．  \n",
    "<br>\n",
    "<img src=\"https://latex.codecogs.com/svg.image?x&space;=&space;Ce^{t}\" title=\"x = Ce^{t}\" />  \n",
    "<br>\n",
    "\n",
    "\n",
    "数値解`x`と厳密解を同時にプロットしてみる．  "
   ]
  },
  {
   "cell_type": "code",
   "execution_count": 37,
   "metadata": {},
   "outputs": [
    {
     "data": {
      "text/plain": [
       "<matplotlib.legend.Legend at 0x1a910087670>"
      ]
     },
     "execution_count": 37,
     "metadata": {},
     "output_type": "execute_result"
    },
    {
     "data": {
      "image/png": "[encoded data removed]",
      "text/plain": [
       "<Figure size 432x288 with 1 Axes>"
      ]
     },
     "metadata": {
      "needs_background": "light"
     },
     "output_type": "display_data"
    }
   ],
   "source": [
    "x_anal = np.exp(t)  # 厳密解\n",
    "\n",
    "plt.plot(t, x, label = 'euler')\n",
    "plt.plot(t, x_anal, label=\"analysis\")\n",
    "plt.legend()"
   ]
  },
  {
   "cell_type": "markdown",
   "metadata": {},
   "source": [
    "オイラー法で求めた数値解はかなり誤差が大きいことがわかる．"
   ]
  },
  {
   "cell_type": "markdown",
   "metadata": {},
   "source": [
    "****\n",
    "## ルンゲクッタ法\n",
    "シミュレーションで一般に使われるのはルンゲクッタ法です．  \n",
    "ルンゲクッタの更新式は以下の通り．  \n",
    "<br>\n",
    "<img src=\"https://latex.codecogs.com/svg.image?x_{n&plus;1}&space;=&space;x_n&space;&plus;&space;\\frac{\\Delta{}t}{6}(k_1&space;&plus;&space;2k_2&space;&plus;&space;2k_3&space;&plus;&space;k_4)\\\\\\\\k_1&space;=&space;f(x_n)\\\\\\\\k_2&space;=&space;f(x_n&space;&plus;&space;\\frac{\\Delta{}t}{2}k_1)\\\\\\\\k_3&space;=&space;&space;f(x_n&space;&plus;&space;\\frac{\\Delta{}t}{2}k_2)\\\\\\\\k_4&space;=&space;f(xn&space;&plus;&space;\\Delta{}tk_3)\" title=\"x_{n+1} = x_n + \\frac{\\Delta{}t}{6}(k_1 + 2k_2 + 2k_3 + k_4)\\\\\\\\k_1 = f(x_n)\\\\\\\\k_2 = f(x_n + \\frac{\\Delta{}t}{2}k_1)\\\\\\\\k_3 = f(x_n + \\frac{\\Delta{}t}{2}k_2)\\\\\\\\k_4 = f(xn + \\Delta{}tk_3)\" />  \n",
    "<br>\n",
    "導出は自分で調べてください．  \n",
    "<br>\n",
    "ルンゲクッタ法をforループを使って実装する．  "
   ]
  },
  {
   "cell_type": "code",
   "execution_count": 40,
   "metadata": {},
   "outputs": [],
   "source": [
    "x_rk = []  # 解xを格納する空のリスト\n",
    "t = []  # 時刻tnを格納するリスト\n",
    "\n",
    "# 初期値代入\n",
    "x_rk.append(1)\n",
    "t.append(0)\n",
    "\n",
    "\n",
    "for i in range(50):\n",
    "    # 係数を計算\n",
    "    k1 = dX(x_rk[i])\n",
    "    k2 = dX(x_rk[i] + dt/2*k1)\n",
    "    k3 = dX(x_rk[i] + dt/2*k2)\n",
    "    k4 = dX(x_rk[i] + dt*k3)\n",
    "    \n",
    "    x_next = x_rk[i] + dt/6*(k1 + 2*k2 + 2*k3 + k4)  # 解を更新\n",
    "    \n",
    "    # 解を格納\n",
    "    x_rk.append(x_next)\n",
    "    t.append(t[i] + dt)"
   ]
  },
  {
   "cell_type": "markdown",
   "metadata": {},
   "source": [
    "プロットしてみる．  "
   ]
  },
  {
   "cell_type": "code",
   "execution_count": 43,
   "metadata": {},
   "outputs": [
    {
     "data": {
      "text/plain": [
       "<matplotlib.legend.Legend at 0x1a911205d90>"
      ]
     },
     "execution_count": 43,
     "metadata": {},
     "output_type": "execute_result"
    },
    {
     "data": {
      "image/png": "[encoded data removed]",
      "text/plain": [
       "<Figure size 432x288 with 1 Axes>"
      ]
     },
     "metadata": {
      "needs_background": "light"
     },
     "output_type": "display_data"
    }
   ],
   "source": [
    "plt.plot(t, x, label = 'euler')\n",
    "plt.plot(t, x_rk, label=\"runge kutta\", marker=\".\")\n",
    "plt.plot(t, x_anal, label=\"analysis\")\n",
    "plt.legend()"
   ]
  },
  {
   "cell_type": "markdown",
   "metadata": {},
   "source": [
    "オイラー法と異なり，ルンゲクッタ法ではかなり厳密解に近い解が得られていることがわかる．  "
   ]
  }
 ],
 "metadata": {
  "interpreter": {
   "hash": "f4dfc3534a11df64ca8ab5b1d0d5f00bece38226cd6557b9a8a26359d97dd2dd"
  },
  "kernelspec": {
   "display_name": "Python 3.8.8 64-bit ('base': conda)",
   "language": "python",
   "name": "python3"
  },
  "language_info": {
   "codemirror_mode": {
    "name": "ipython",
    "version": 3
   },
   "file_extension": ".py",
   "mimetype": "text/x-python",
   "name": "python",
   "nbconvert_exporter": "python",
   "pygments_lexer": "ipython3",
   "version": "3.8.8"
  },
  "orig_nbformat": 4
 },
 "nbformat": 4,
 "nbformat_minor": 2
}
