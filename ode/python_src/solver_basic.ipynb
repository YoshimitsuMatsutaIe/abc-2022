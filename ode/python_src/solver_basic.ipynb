{
 "cells": [
  {
   "cell_type": "markdown",
   "metadata": {},
   "source": [
    "# 基本\n",
    "常微分方程式を解くには```scipy.integrate```を使う．  \n",
    "ソルバーはいくつかあるが，ここでは```solve_ivp```を扱う．  "
   ]
  },
  {
   "cell_type": "code",
   "execution_count": 29,
   "metadata": {},
   "outputs": [],
   "source": [
    "import scipy.integrate as integrate\n",
    "import numpy as np\n",
    "import matplotlib.pyplot as plt"
   ]
  },
  {
   "cell_type": "markdown",
   "metadata": {},
   "source": [
    "まずは簡単な一次元の微分方程式から考える．  \n",
    "<img src=\"https://latex.codecogs.com/svg.image?\\dot{x}&space;=&space;ax\" title=\"\\dot{x} = ax\" />  \n",
    "<br>\n",
    "この微分方程式を`solve_ivp`を使って解く．"
   ]
  },
  {
   "cell_type": "markdown",
   "metadata": {},
   "source": [
    "### 微分方程式の定義\n",
    "はじめの引数を時刻`t`，次の引数を状態変数`x`にとり，状態変数の微分値を返す関数をつくる．  "
   ]
  },
  {
   "cell_type": "code",
   "execution_count": 30,
   "metadata": {},
   "outputs": [],
   "source": [
    "def dx(t, x):\n",
    "    \"\"\"微分方程式 : y' = y \"\"\"\n",
    "    return x"
   ]
  },
  {
   "cell_type": "markdown",
   "metadata": {},
   "source": [
    "#### 解く\n",
    "作った微分方程式の関数を```solve_ivp```に投げる．  \n",
    "必要な引数は以下の通り．  \n",
    "* ```fun``` : 解きたい微分方程式  \n",
    "* ```t_span``` : シミュレーション時間  \n",
    "* ```y0``` : 初期値  \n",
    "  \n",
    "以下はオプション  \n",
    "* ```t_eval``` : 刻み時間を指定  \n",
    "* ```method``` : 数値解法の種類を指定．デフォルトは精度保証付きで刻み時間を自動で調整するルンゲクッタ45．  \n",
    "  \n",
    "オプションは他にもあります．  \n",
    "公式ページ : [https://docs.scipy.org/doc/scipy/reference/generated/scipy.integrate.solve_ivp.html](https://docs.scipy.org/doc/scipy/reference/generated/scipy.integrate.solve_ivp.html)"
   ]
  },
  {
   "cell_type": "code",
   "execution_count": 31,
   "metadata": {},
   "outputs": [],
   "source": [
    "sol = integrate.solve_ivp(\n",
    "    fun = dx,  # 微分方程式\n",
    "    t_span = (0, 5),  # シミュレーション時間\n",
    "    y0=[1]  # 初期値\n",
    ")"
   ]
  },
  {
   "cell_type": "markdown",
   "metadata": {},
   "source": [
    "#### (solve_ivpの解について)\n",
    "solve_ivpは微分方程式の解を`scipy.integrate._ivp.ivp.OdeResult`として返す．  "
   ]
  },
  {
   "cell_type": "code",
   "execution_count": 32,
   "metadata": {},
   "outputs": [
    {
     "data": {
      "text/plain": [
       "  message: 'The solver successfully reached the end of the integration interval.'\n",
       "     nfev: 32\n",
       "     njev: 0\n",
       "      nlu: 0\n",
       "      sol: None\n",
       "   status: 0\n",
       "  success: True\n",
       "        t: array([0.        , 0.10001999, 1.06609106, 2.30431769, 3.64528981,\n",
       "       5.        ])\n",
       " t_events: None\n",
       "        y: array([[  1.        ,   1.10519301,   2.9040598 ,  10.01740317,\n",
       "         38.29174533, 148.39440874]])\n",
       " y_events: None"
      ]
     },
     "execution_count": 32,
     "metadata": {},
     "output_type": "execute_result"
    }
   ],
   "source": [
    "sol"
   ]
  },
  {
   "cell_type": "markdown",
   "metadata": {},
   "source": [
    "よく使うものだけ紹介する．  \n",
    "* `.message` : 成功したかどうかの文字列  \n",
    "* `.t` : ndarray．時刻歴．  \n",
    "* `.y` : ndarray．状態変数の解．  \n",
    "  \n",
    "他は公式ページ[https://docs.scipy.org/doc/scipy/reference/generated/scipy.integrate.solve_ivp.html](https://docs.scipy.org/doc/scipy/reference/generated/scipy.integrate.solve_ivp.html)をみてください．  "
   ]
  },
  {
   "cell_type": "markdown",
   "metadata": {},
   "source": [
    "#### 解をプロット\n",
    "プロットして確認してみる．  \n",
    "* ```sol.t``` :  \n",
    "時刻歴  \n",
    "* ```sol.y[i]``` :  \n",
    "解の時刻歴．ベクトルのときはiで要素を指定．"
   ]
  },
  {
   "cell_type": "code",
   "execution_count": 33,
   "metadata": {},
   "outputs": [
    {
     "data": {
      "text/plain": [
       "[<matplotlib.lines.Line2D at 0x251ec83e4c0>]"
      ]
     },
     "execution_count": 33,
     "metadata": {},
     "output_type": "execute_result"
    },
    {
     "data": {
      "image/png": "[encoded data removed]",
      "text/plain": [
       "<Figure size 432x288 with 1 Axes>"
      ]
     },
     "metadata": {
      "needs_background": "light"
     },
     "output_type": "display_data"
    }
   ],
   "source": [
    "plt.plot(sol.t, sol.y[0])"
   ]
  },
  {
   "cell_type": "markdown",
   "metadata": {},
   "source": [
    "#### 解析解と比較\n",
    "上記の微分方程式には厳密解がある．  \n",
    "<br>\n",
    "<img src=\"https://latex.codecogs.com/svg.image?x&space;=&space;Ce^{t}\" title=\"x = Ce^{t}\" />  \n",
    "<br>\n",
    "数値解`sol`と厳密解を同時にプロットしてみる．  "
   ]
  },
  {
   "cell_type": "code",
   "execution_count": 34,
   "metadata": {},
   "outputs": [
    {
     "data": {
      "text/plain": [
       "<matplotlib.legend.Legend at 0x251ec887e20>"
      ]
     },
     "execution_count": 34,
     "metadata": {},
     "output_type": "execute_result"
    },
    {
     "data": {
      "image/png": "[encoded data removed]",
      "text/plain": [
       "<Figure size 432x288 with 1 Axes>"
      ]
     },
     "metadata": {
      "needs_background": "light"
     },
     "output_type": "display_data"
    }
   ],
   "source": [
    "t = np.arange(0, 5, 0.01)\n",
    "y = np.exp(t)# 解析解\n",
    "\n",
    "plt.plot(sol.t, sol.y[0], label=\"sol\")\n",
    "plt.plot(t, y, label=\"analysis\")\n",
    "plt.legend()"
   ]
  },
  {
   "cell_type": "markdown",
   "metadata": {},
   "source": [
    "数値解と厳密解がほぼ一致していることがわかる．  "
   ]
  },
  {
   "cell_type": "markdown",
   "metadata": {},
   "source": [
    "#### (刻み幅の自動調整について)\n",
    "デフォルトの`RK45`は内部で刻み幅の自動調整を行っている．  \n",
    "`sol.t`をプロットすることで刻み幅の変化を確認できる．  "
   ]
  },
  {
   "cell_type": "code",
   "execution_count": 35,
   "metadata": {},
   "outputs": [
    {
     "data": {
      "text/plain": [
       "Text(0, 0.5, 'time interval')"
      ]
     },
     "execution_count": 35,
     "metadata": {},
     "output_type": "execute_result"
    },
    {
     "data": {
      "image/png": "[encoded data removed]",
      "text/plain": [
       "<Figure size 432x288 with 1 Axes>"
      ]
     },
     "metadata": {
      "needs_background": "light"
     },
     "output_type": "display_data"
    }
   ],
   "source": [
    "plt.plot(np.diff(sol.t), marker=\"o\")\n",
    "plt.xlabel(\"step\")\n",
    "plt.ylabel(\"time interval\")"
   ]
  },
  {
   "cell_type": "markdown",
   "metadata": {},
   "source": [
    "上図から刻み幅がだんだん大きくなっていることがわかる．  \n",
    "これは２つ上の図において，数値解のプロットが徐々に粗くなっていることからもわかる．  "
   ]
  },
  {
   "cell_type": "markdown",
   "metadata": {},
   "source": [
    "****\n",
    "#### 刻み時間を指定する\n",
    "上の例では出力された解solの刻み時間が粗いので違和感がある．  \n",
    "刻み時間を変えてなめらかにしたいときは```t_eval```で指定できる（指定しても刻み時間は可変のまま．固定刻み時間にしたい場合は，scipyを使わず自分で実装する）．  "
   ]
  },
  {
   "cell_type": "code",
   "execution_count": 36,
   "metadata": {},
   "outputs": [],
   "source": [
    "sol2 = integrate.solve_ivp(\n",
    "    fun=dx,\n",
    "    t_span=(0, 5),\n",
    "    y0=[1],\n",
    "    t_eval=np.arange(0, 5, 0.01)  # <-コレ\n",
    ")"
   ]
  },
  {
   "cell_type": "markdown",
   "metadata": {},
   "source": [
    "##### 解析解と比較\n",
    "なめらかになっていることがわかる．"
   ]
  },
  {
   "cell_type": "code",
   "execution_count": 37,
   "metadata": {},
   "outputs": [
    {
     "data": {
      "text/plain": [
       "<matplotlib.legend.Legend at 0x251ec95c1f0>"
      ]
     },
     "execution_count": 37,
     "metadata": {},
     "output_type": "execute_result"
    },
    {
     "data": {
      "image/png": "[encoded data removed]",
      "text/plain": [
       "<Figure size 432x288 with 1 Axes>"
      ]
     },
     "metadata": {
      "needs_background": "light"
     },
     "output_type": "display_data"
    }
   ],
   "source": [
    "plt.plot(sol2.t, sol2.y[0], label=\"sol\", linewidth=5)\n",
    "plt.plot(t, y, label=\"sol2\")\n",
    "plt.legend()"
   ]
  },
  {
   "cell_type": "markdown",
   "metadata": {},
   "source": [
    "****\n",
    "#### 微分方程式にパラメータをつける\n",
    "ようはy' = a*yのような微分方程式を扱いたいということです．  \n",
    "いくつか方法があります．  \n",
    "一番簡単なのはパラメータをグローバル変数にすることです．  \n",
    "```python\n",
    "a = 2\n",
    "def dx(t, x):\n",
    "    return a * x\n",
    "```\n",
    "シンプルですが，これだと汎用性がありません  \n",
    "  \n",
    "```solve_ivp```では```args```でパラメータを設定できます．  "
   ]
  },
  {
   "cell_type": "markdown",
   "metadata": {},
   "source": [
    "##### 微分方程式の定義"
   ]
  },
  {
   "cell_type": "code",
   "execution_count": 38,
   "metadata": {},
   "outputs": [],
   "source": [
    "def dx2(t, x, a):\n",
    "    return a * x"
   ]
  },
  {
   "cell_type": "markdown",
   "metadata": {},
   "source": [
    "##### 解く\n",
    "```args```にパラメータを**タプル**や**配列**で渡す．  "
   ]
  },
  {
   "cell_type": "code",
   "execution_count": 39,
   "metadata": {},
   "outputs": [],
   "source": [
    "sol3 = integrate.solve_ivp(\n",
    "    fun=dx2,\n",
    "    t_span=(0, 5),\n",
    "    y0=[1],\n",
    "    t_eval=np.arange(0, 5, 0.01),\n",
    "    args=(2,)\n",
    ")"
   ]
  },
  {
   "cell_type": "code",
   "execution_count": 40,
   "metadata": {},
   "outputs": [
    {
     "data": {
      "text/plain": [
       "[<matplotlib.lines.Line2D at 0x251ec9cf8e0>]"
      ]
     },
     "execution_count": 40,
     "metadata": {},
     "output_type": "execute_result"
    },
    {
     "data": {
      "image/png": "[encoded data removed]",
      "text/plain": [
       "<Figure size 432x288 with 1 Axes>"
      ]
     },
     "metadata": {
      "needs_background": "light"
     },
     "output_type": "display_data"
    }
   ],
   "source": [
    "plt.plot(sol3.t, sol3.y[0])"
   ]
  },
  {
   "cell_type": "markdown",
   "metadata": {},
   "source": [
    "##### よくやるミス  \n",
    "１つのパラメータだけ渡したいとき，次の間違いを犯すことが多い\n",
    "```python\n",
    "sol = integrate.solve_ivp(\n",
    "    fun=dx2,\n",
    "    t_span=(0, 5),\n",
    "    y0=[1],\n",
    "    args=(2)  # <-エラーになる\n",
    ")\n",
    "```\n",
    "pythonでは`(a)`はタプルにならず，1つの要素だけのタプルを作るためには`(a,)`としなければならない．  "
   ]
  },
  {
   "cell_type": "code",
   "execution_count": 41,
   "metadata": {},
   "outputs": [
    {
     "data": {
      "text/plain": [
       "int"
      ]
     },
     "execution_count": 41,
     "metadata": {},
     "output_type": "execute_result"
    }
   ],
   "source": [
    "hoge = (2)\n",
    "type(hoge)"
   ]
  },
  {
   "cell_type": "code",
   "execution_count": 42,
   "metadata": {},
   "outputs": [
    {
     "data": {
      "text/plain": [
       "tuple"
      ]
     },
     "execution_count": 42,
     "metadata": {},
     "output_type": "execute_result"
    }
   ],
   "source": [
    "hoge2 = (2,)\n",
    "type(hoge2)"
   ]
  },
  {
   "cell_type": "markdown",
   "metadata": {},
   "source": [
    "以下のように書けばよい\n",
    "```python\n",
    "sol = integrate.solve_ivp(\n",
    "    fun=dx2,\n",
    "    t_span=(0, 5),\n",
    "    y0=[1],\n",
    "    args=(2,)  # 正しい\n",
    ")\n",
    "```"
   ]
  }
 ],
 "metadata": {
  "interpreter": {
   "hash": "f4dfc3534a11df64ca8ab5b1d0d5f00bece38226cd6557b9a8a26359d97dd2dd"
  },
  "kernelspec": {
   "display_name": "Python 3.8.8 64-bit ('base': conda)",
   "language": "python",
   "name": "python3"
  },
  "language_info": {
   "codemirror_mode": {
    "name": "ipython",
    "version": 3
   },
   "file_extension": ".py",
   "mimetype": "text/x-python",
   "name": "python",
   "nbconvert_exporter": "python",
   "pygments_lexer": "ipython3",
   "version": "3.8.8"
  },
  "orig_nbformat": 4
 },
 "nbformat": 4,
 "nbformat_minor": 2
}
