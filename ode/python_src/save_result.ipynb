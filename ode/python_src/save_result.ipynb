{
 "cells": [
  {
   "cell_type": "markdown",
   "metadata": {},
   "source": [
    "# データの保存\n",
    "後からデータを利用するために，**シミュレーション条件**と**シミュレーション結果**の2つを保存する必要がある．  \n",
    "まずはそれらをcsvとyamlを使って保存するやり方を説明する．  "
   ]
  },
  {
   "cell_type": "code",
   "execution_count": 157,
   "metadata": {},
   "outputs": [],
   "source": [
    "import scipy.integrate as integrate\n",
    "import numpy as np"
   ]
  },
  {
   "cell_type": "markdown",
   "metadata": {},
   "source": [
    "まずはデータを準備．  \n",
    "前扱ったローレンツ方程式のシミュレーションです．  "
   ]
  },
  {
   "cell_type": "code",
   "execution_count": 158,
   "metadata": {},
   "outputs": [],
   "source": [
    "# ローレンツ方程式のシミュレーション\n",
    "def loorenz_list(t, X, p, r, b):\n",
    "    \"\"\"リスト\"\"\"\n",
    "    x, y, z = X\n",
    "    \n",
    "    dx = -p*x + p*y\n",
    "    dy = -x*z + r*x -y\n",
    "    dz = x*y - b*z\n",
    "    \n",
    "    return [dx, dy, dz]\n",
    "\n",
    "TIME_SPAN = 50\n",
    "TIME_INTERVAL = 0.01\n",
    "\n",
    "X0_list = [0, 4, 28]\n",
    "\n",
    "p = 10\n",
    "r = 28\n",
    "b = 8/3\n",
    "\n",
    "sol = integrate.solve_ivp(\n",
    "    fun = loorenz_list,\n",
    "    t_span = (0, TIME_SPAN),\n",
    "    y0 = X0_list,\n",
    "    t_eval=np.arange(0, TIME_SPAN, TIME_INTERVAL),\n",
    "    args=(p, r, b)\n",
    ")"
   ]
  },
  {
   "cell_type": "markdown",
   "metadata": {},
   "source": [
    "****\n",
    "## 条件を保存\n",
    "読みやすくて再利用しやすいのでyaml形式で保存するのが良いと思う．  \n",
    "yamlファイルについて： "
   ]
  },
  {
   "cell_type": "code",
   "execution_count": 159,
   "metadata": {},
   "outputs": [],
   "source": [
    "import yaml  # 標準では入ってない．pip imstall pyyamlかconda install pyyamlでインストール"
   ]
  },
  {
   "cell_type": "markdown",
   "metadata": {},
   "source": [
    "まずは保存した条件を辞書にする．  "
   ]
  },
  {
   "cell_type": "code",
   "execution_count": 160,
   "metadata": {},
   "outputs": [
    {
     "data": {
      "text/plain": [
       "{'TIME_SPAN': 50,\n",
       " 'TIME_INTERVAL': 0.01,\n",
       " 'X0_init': [0, 4, 28],\n",
       " 'p': 10,\n",
       " 'r': 28,\n",
       " 'b': 2.6666666666666665}"
      ]
     },
     "execution_count": 160,
     "metadata": {},
     "output_type": "execute_result"
    }
   ],
   "source": [
    "param = {\n",
    "    'TIME_SPAN' : TIME_SPAN,\n",
    "    'TIME_INTERVAL' : TIME_INTERVAL,\n",
    "    'X0_init' : X0_list,\n",
    "    'p' : p,\n",
    "    'r' : r,\n",
    "    'b' : b,\n",
    "}\n",
    "param"
   ]
  },
  {
   "cell_type": "markdown",
   "metadata": {},
   "source": [
    "### yamlで保存\n",
    "次の関数を使う．  \n",
    "```python\n",
    "yaml.dump(pythonオブジェクト, ファイル)\n",
    "```"
   ]
  },
  {
   "cell_type": "code",
   "execution_count": 161,
   "metadata": {},
   "outputs": [],
   "source": [
    "with open('parameter.yaml', \"w\") as f:  # 'w'は書き込むという意味\n",
    "    yaml.dump(param, f)"
   ]
  },
  {
   "cell_type": "markdown",
   "metadata": {},
   "source": [
    "### yamlの読み込み\n",
    "`yaml.safe_load(\"yamlファイル\")`で読み込む．  "
   ]
  },
  {
   "cell_type": "code",
   "execution_count": 162,
   "metadata": {},
   "outputs": [],
   "source": [
    "with open('parameter.yaml') as f:\n",
    "    param_read = yaml.safe_load(f)"
   ]
  },
  {
   "cell_type": "markdown",
   "metadata": {},
   "source": [
    "もとのデータと一致しているか確認"
   ]
  },
  {
   "cell_type": "code",
   "execution_count": 163,
   "metadata": {},
   "outputs": [
    {
     "data": {
      "text/plain": [
       "True"
      ]
     },
     "execution_count": 163,
     "metadata": {},
     "output_type": "execute_result"
    }
   ],
   "source": [
    "param_read == param"
   ]
  },
  {
   "cell_type": "markdown",
   "metadata": {},
   "source": [
    "### 注意\n",
    "yamlにndarrayは保存できない．  \n",
    "yaml以外の形式で保存するか，python標準のリストに変換してから保存する．  "
   ]
  },
  {
   "cell_type": "markdown",
   "metadata": {},
   "source": [
    "****\n",
    "## 結果の保存\n",
    "いろいろなソフトで読み書きしやすいのでcsvで保存するのが一般的．  \n",
    "ここでは`sol.t`と`sol.y`を保存する．  \n",
    "### csvで保存\n",
    "solve_ivpでは解はndarrayで返されるので，ndarrayをcsvに保存できる`np.savetxt()`を使う．  \n"
   ]
  },
  {
   "cell_type": "code",
   "execution_count": 164,
   "metadata": {},
   "outputs": [],
   "source": [
    "# まずはヘッダーを準備\n",
    "header = 't,x,y,z'  # カンマで区切った文字列にする．カンマの後スペースを入れないようにする.\n",
    "\n",
    "# 時刻歴tと解xを一つのndarrayにする\n",
    "data = np.concatenate(\n",
    "    [sol.t.reshape(1, len(sol.t)).T, sol.y.T],  # sol.tは1次元配列なので2次元化する\n",
    "    axis=1\n",
    ")\n",
    "\n",
    "# csvで保存\n",
    "np.savetxt(\n",
    "    'data.csv',\n",
    "    data,\n",
    "    header = header,  # ヘッダーは無くても良い\n",
    "    comments = '',\n",
    "    delimiter = \",\"  # 区切り文字を指定\n",
    ")"
   ]
  },
  {
   "cell_type": "markdown",
   "metadata": {},
   "source": [
    "### csvの読み込み\n",
    "`np.loadtxt()`で読み込める．ただし読み込むcsvファイルにヘッダーがあると少し面倒．  "
   ]
  },
  {
   "cell_type": "code",
   "execution_count": 165,
   "metadata": {},
   "outputs": [],
   "source": [
    "readed_data_np = np.loadtxt(\n",
    "    'data.csv',\n",
    "    delimiter = ',',\n",
    "    dtype = 'float64',  # デフォルト\n",
    "    skiprows = 1  # 読み込まない行を上から指定．ヘッダーがある場合は書く．\n",
    ")"
   ]
  },
  {
   "cell_type": "markdown",
   "metadata": {},
   "source": [
    "正しく読み込まれてるか確認"
   ]
  },
  {
   "cell_type": "code",
   "execution_count": 166,
   "metadata": {},
   "outputs": [
    {
     "data": {
      "text/plain": [
       "array([[ 0.00000000e+00,  0.00000000e+00,  4.00000000e+00,\n",
       "         2.80000000e+01],\n",
       "       [ 1.00000000e-02,  3.78749692e-01,  3.96114296e+00,\n",
       "         2.72707945e+01],\n",
       "       [ 2.00000000e-02,  7.18002287e-01,  3.92785283e+00,\n",
       "         2.65746616e+01],\n",
       "       ...,\n",
       "       [ 4.99700000e+01, -4.35035429e+00, -7.73222890e+00,\n",
       "         1.18648249e+01],\n",
       "       [ 4.99800000e+01, -4.70317650e+00, -8.38082233e+00,\n",
       "         1.19124333e+01],\n",
       "       [ 4.99900000e+01, -5.08649937e+00, -9.07820953e+00,\n",
       "         1.20205558e+01]])"
      ]
     },
     "execution_count": 166,
     "metadata": {},
     "output_type": "execute_result"
    }
   ],
   "source": [
    "readed_data_np  # 読み込んだデータ"
   ]
  },
  {
   "cell_type": "code",
   "execution_count": 167,
   "metadata": {},
   "outputs": [
    {
     "data": {
      "text/plain": [
       "array([[ 0.00000000e+00,  0.00000000e+00,  4.00000000e+00,\n",
       "         2.80000000e+01],\n",
       "       [ 1.00000000e-02,  3.78749692e-01,  3.96114296e+00,\n",
       "         2.72707945e+01],\n",
       "       [ 2.00000000e-02,  7.18002287e-01,  3.92785283e+00,\n",
       "         2.65746616e+01],\n",
       "       ...,\n",
       "       [ 4.99700000e+01, -4.35035429e+00, -7.73222890e+00,\n",
       "         1.18648249e+01],\n",
       "       [ 4.99800000e+01, -4.70317650e+00, -8.38082233e+00,\n",
       "         1.19124333e+01],\n",
       "       [ 4.99900000e+01, -5.08649937e+00, -9.07820953e+00,\n",
       "         1.20205558e+01]])"
      ]
     },
     "execution_count": 167,
     "metadata": {},
     "output_type": "execute_result"
    }
   ],
   "source": [
    "data  # 元のデータ"
   ]
  },
  {
   "cell_type": "markdown",
   "metadata": {},
   "source": [
    "### pandasで読み込み\n",
    "`np.loadtxt`ではヘッダーが読み込まれないので，どの列が何のデータなのかいちいちcsvファイルを開いて確認する必要がある．  \n",
    "ヘッダーを含めてcsvファイルを読みこむにはpandasが使える．  "
   ]
  },
  {
   "cell_type": "code",
   "execution_count": 168,
   "metadata": {},
   "outputs": [],
   "source": [
    "import pandas as pd"
   ]
  },
  {
   "cell_type": "markdown",
   "metadata": {},
   "source": [
    "pandasではデータをデータフレームとして扱う．  \n",
    "`pd.read_csv('csvファイルのパス')`で読み込む．  "
   ]
  },
  {
   "cell_type": "code",
   "execution_count": 169,
   "metadata": {},
   "outputs": [],
   "source": [
    "readed_data_pd = pd.read_csv('data.csv')"
   ]
  },
  {
   "cell_type": "markdown",
   "metadata": {},
   "source": [
    "読み込んだデータフレームを表示してみる．  "
   ]
  },
  {
   "cell_type": "code",
   "execution_count": 170,
   "metadata": {},
   "outputs": [
    {
     "data": {
      "text/html": [
       "<div>\n",
       "<style scoped>\n",
       "    .dataframe tbody tr th:only-of-type {\n",
       "        vertical-align: middle;\n",
       "    }\n",
       "\n",
       "    .dataframe tbody tr th {\n",
       "        vertical-align: top;\n",
       "    }\n",
       "\n",
       "    .dataframe thead th {\n",
       "        text-align: right;\n",
       "    }\n",
       "</style>\n",
       "<table border=\"1\" class=\"dataframe\">\n",
       "  <thead>\n",
       "    <tr style=\"text-align: right;\">\n",
       "      <th></th>\n",
       "      <th>t</th>\n",
       "      <th>x</th>\n",
       "      <th>y</th>\n",
       "      <th>z</th>\n",
       "    </tr>\n",
       "  </thead>\n",
       "  <tbody>\n",
       "    <tr>\n",
       "      <th>0</th>\n",
       "      <td>0.00</td>\n",
       "      <td>0.000000</td>\n",
       "      <td>4.000000</td>\n",
       "      <td>28.000000</td>\n",
       "    </tr>\n",
       "    <tr>\n",
       "      <th>1</th>\n",
       "      <td>0.01</td>\n",
       "      <td>0.378750</td>\n",
       "      <td>3.961143</td>\n",
       "      <td>27.270795</td>\n",
       "    </tr>\n",
       "    <tr>\n",
       "      <th>2</th>\n",
       "      <td>0.02</td>\n",
       "      <td>0.718002</td>\n",
       "      <td>3.927853</td>\n",
       "      <td>26.574662</td>\n",
       "    </tr>\n",
       "    <tr>\n",
       "      <th>3</th>\n",
       "      <td>0.03</td>\n",
       "      <td>1.022221</td>\n",
       "      <td>3.904224</td>\n",
       "      <td>25.909113</td>\n",
       "    </tr>\n",
       "    <tr>\n",
       "      <th>4</th>\n",
       "      <td>0.04</td>\n",
       "      <td>1.295832</td>\n",
       "      <td>3.893408</td>\n",
       "      <td>25.272026</td>\n",
       "    </tr>\n",
       "    <tr>\n",
       "      <th>...</th>\n",
       "      <td>...</td>\n",
       "      <td>...</td>\n",
       "      <td>...</td>\n",
       "      <td>...</td>\n",
       "    </tr>\n",
       "    <tr>\n",
       "      <th>4995</th>\n",
       "      <td>49.95</td>\n",
       "      <td>-3.729092</td>\n",
       "      <td>-6.575274</td>\n",
       "      <td>11.921393</td>\n",
       "    </tr>\n",
       "    <tr>\n",
       "      <th>4996</th>\n",
       "      <td>49.96</td>\n",
       "      <td>-4.026248</td>\n",
       "      <td>-7.131063</td>\n",
       "      <td>11.870006</td>\n",
       "    </tr>\n",
       "    <tr>\n",
       "      <th>4997</th>\n",
       "      <td>49.97</td>\n",
       "      <td>-4.350354</td>\n",
       "      <td>-7.732229</td>\n",
       "      <td>11.864825</td>\n",
       "    </tr>\n",
       "    <tr>\n",
       "      <th>4998</th>\n",
       "      <td>49.98</td>\n",
       "      <td>-4.703176</td>\n",
       "      <td>-8.380822</td>\n",
       "      <td>11.912433</td>\n",
       "    </tr>\n",
       "    <tr>\n",
       "      <th>4999</th>\n",
       "      <td>49.99</td>\n",
       "      <td>-5.086499</td>\n",
       "      <td>-9.078210</td>\n",
       "      <td>12.020556</td>\n",
       "    </tr>\n",
       "  </tbody>\n",
       "</table>\n",
       "<p>5000 rows × 4 columns</p>\n",
       "</div>"
      ],
      "text/plain": [
       "          t         x         y          z\n",
       "0      0.00  0.000000  4.000000  28.000000\n",
       "1      0.01  0.378750  3.961143  27.270795\n",
       "2      0.02  0.718002  3.927853  26.574662\n",
       "3      0.03  1.022221  3.904224  25.909113\n",
       "4      0.04  1.295832  3.893408  25.272026\n",
       "...     ...       ...       ...        ...\n",
       "4995  49.95 -3.729092 -6.575274  11.921393\n",
       "4996  49.96 -4.026248 -7.131063  11.870006\n",
       "4997  49.97 -4.350354 -7.732229  11.864825\n",
       "4998  49.98 -4.703176 -8.380822  11.912433\n",
       "4999  49.99 -5.086499 -9.078210  12.020556\n",
       "\n",
       "[5000 rows x 4 columns]"
      ]
     },
     "execution_count": 170,
     "metadata": {},
     "output_type": "execute_result"
    }
   ],
   "source": [
    "readed_data_pd"
   ]
  },
  {
   "cell_type": "markdown",
   "metadata": {},
   "source": [
    "どの列が何のデータなのかわかりやすい．  \n",
    "データフレームはndarrayのように扱える．  "
   ]
  },
  {
   "cell_type": "code",
   "execution_count": 171,
   "metadata": {},
   "outputs": [
    {
     "data": {
      "text/plain": [
       "0       1.000000\n",
       "1       0.929128\n",
       "2       0.753121\n",
       "3       0.521472\n",
       "4       0.271513\n",
       "          ...   \n",
       "4995   -0.832330\n",
       "4996   -0.633556\n",
       "4997   -0.354178\n",
       "4998   -0.009212\n",
       "4999    0.365445\n",
       "Name: x, Length: 5000, dtype: float64"
      ]
     },
     "execution_count": 171,
     "metadata": {},
     "output_type": "execute_result"
    }
   ],
   "source": [
    "# numpyのブロードキャストの実行例\n",
    "np.cos(readed_data_pd[\"x\"])"
   ]
  },
  {
   "cell_type": "markdown",
   "metadata": {},
   "source": [
    "#### 注意\n",
    "pandasで読み込むのはかなり遅いです．  \n",
    "巨大なcsvファイルを読み込むときは使わないほうが良い．  "
   ]
  },
  {
   "cell_type": "markdown",
   "metadata": {},
   "source": [
    "****\n",
    "## csv以外の形式で保存\n",
    "csvやyaml形式で保存するのは，後でpython以外のソフト（Excel, Matlabなど）や異なるOS上で利用したいからです．  \n",
    "保存したデータをpythonでしか使わないのならば，もっと高速な方法があります．  \n",
    "### pickeを使う\n",
    "pickleを使うと`sol`をそのまま保存できる．  "
   ]
  },
  {
   "cell_type": "code",
   "execution_count": 172,
   "metadata": {},
   "outputs": [],
   "source": [
    "import pickle"
   ]
  },
  {
   "cell_type": "markdown",
   "metadata": {},
   "source": [
    "`pickle.dump(pythonオブジェクト, ファイル)`で保存  "
   ]
  },
  {
   "cell_type": "code",
   "execution_count": 173,
   "metadata": {},
   "outputs": [],
   "source": [
    "with open('sol.binaryfile', 'wb') as f:\n",
    "    pickle.dump(sol, f)"
   ]
  },
  {
   "cell_type": "markdown",
   "metadata": {},
   "source": [
    "`pickle.load('ファイル')`で保存したpythonオブジェクトを復元する．  "
   ]
  },
  {
   "cell_type": "code",
   "execution_count": 174,
   "metadata": {},
   "outputs": [],
   "source": [
    "with open('sol.binaryfile', 'rb') as f:\n",
    "    sol2 = pickle.load(f)"
   ]
  },
  {
   "cell_type": "markdown",
   "metadata": {},
   "source": [
    "もとのオブジェクトが復元できたことを確認"
   ]
  },
  {
   "cell_type": "code",
   "execution_count": 175,
   "metadata": {},
   "outputs": [
    {
     "data": {
      "text/plain": [
       "  message: 'The solver successfully reached the end of the integration interval.'\n",
       "     nfev: 5126\n",
       "     njev: 0\n",
       "      nlu: 0\n",
       "      sol: None\n",
       "   status: 0\n",
       "  success: True\n",
       "        t: array([0.000e+00, 1.000e-02, 2.000e-02, ..., 4.997e+01, 4.998e+01,\n",
       "       4.999e+01])\n",
       " t_events: None\n",
       "        y: array([[ 0.        ,  0.37874969,  0.71800229, ..., -4.35035429,\n",
       "        -4.7031765 , -5.08649937],\n",
       "       [ 4.        ,  3.96114296,  3.92785283, ..., -7.7322289 ,\n",
       "        -8.38082233, -9.07820953],\n",
       "       [28.        , 27.27079453, 26.57466159, ..., 11.86482494,\n",
       "        11.91243329, 12.02055585]])\n",
       " y_events: None"
      ]
     },
     "execution_count": 175,
     "metadata": {},
     "output_type": "execute_result"
    }
   ],
   "source": [
    "sol  # 元のオブジェクト"
   ]
  },
  {
   "cell_type": "code",
   "execution_count": 176,
   "metadata": {},
   "outputs": [
    {
     "data": {
      "text/plain": [
       "  message: 'The solver successfully reached the end of the integration interval.'\n",
       "     nfev: 5126\n",
       "     njev: 0\n",
       "      nlu: 0\n",
       "      sol: None\n",
       "   status: 0\n",
       "  success: True\n",
       "        t: array([0.000e+00, 1.000e-02, 2.000e-02, ..., 4.997e+01, 4.998e+01,\n",
       "       4.999e+01])\n",
       " t_events: None\n",
       "        y: array([[ 0.        ,  0.37874969,  0.71800229, ..., -4.35035429,\n",
       "        -4.7031765 , -5.08649937],\n",
       "       [ 4.        ,  3.96114296,  3.92785283, ..., -7.7322289 ,\n",
       "        -8.38082233, -9.07820953],\n",
       "       [28.        , 27.27079453, 26.57466159, ..., 11.86482494,\n",
       "        11.91243329, 12.02055585]])\n",
       " y_events: None"
      ]
     },
     "execution_count": 176,
     "metadata": {},
     "output_type": "execute_result"
    }
   ],
   "source": [
    "sol2  # 復元したオブジェクト"
   ]
  },
  {
   "cell_type": "markdown",
   "metadata": {},
   "source": [
    "他にもnumpy独自のバイナリファイル`.npy`，`.npz`を使う方法があります．  "
   ]
  }
 ],
 "metadata": {
  "interpreter": {
   "hash": "f4dfc3534a11df64ca8ab5b1d0d5f00bece38226cd6557b9a8a26359d97dd2dd"
  },
  "kernelspec": {
   "display_name": "Python 3.8.8 64-bit ('base': conda)",
   "language": "python",
   "name": "python3"
  },
  "language_info": {
   "codemirror_mode": {
    "name": "ipython",
    "version": 3
   },
   "file_extension": ".py",
   "mimetype": "text/x-python",
   "name": "python",
   "nbconvert_exporter": "python",
   "pygments_lexer": "ipython3",
   "version": "3.8.8"
  },
  "orig_nbformat": 4
 },
 "nbformat": 4,
 "nbformat_minor": 2
}
