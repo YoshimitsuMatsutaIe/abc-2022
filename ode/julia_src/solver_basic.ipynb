{
 "cells": [
  {
   "cell_type": "markdown",
   "metadata": {},
   "source": [
    "# 基本\n",
    "微分方程式を解くソルバに`DifferentialEquations`がある．  \n",
    "ここでは上記のソルバを使って微分方程式を解く方法を説明する．  \n",
    "公式のwikiが非常にわかりやすいので，もっと詳しい情報が欲しい方は下記のリンクで勉強することを勧めます．  \n",
    "公式 : [https://diffeq.sciml.ai/stable/tutorials/ode_example/](https://diffeq.sciml.ai/stable/tutorials/ode_example/)  "
   ]
  },
  {
   "cell_type": "code",
   "execution_count": 55,
   "metadata": {},
   "outputs": [],
   "source": [
    "using DifferentialEquations\n",
    "using Plots"
   ]
  },
  {
   "cell_type": "markdown",
   "metadata": {},
   "source": [
    "簡単な一次元の微分方程式から考える．  \n",
    "<img src=\"https://latex.codecogs.com/png.image?\\dpi{120}&space;\\bg_white&space;\\dot{x}=ax\" title=\"\\bg_white \\dot{x}=ax\" />  \n",
    "<br>\n",
    "この微分方程式ソルバを使って解く．  "
   ]
  },
  {
   "cell_type": "markdown",
   "metadata": {},
   "source": [
    "## 一番簡単な方法\n",
    "### 微分方程式の定義"
   ]
  },
  {
   "cell_type": "code",
   "execution_count": 56,
   "metadata": {},
   "outputs": [
    {
     "data": {
      "text/plain": [
       "dx (generic function with 2 methods)"
      ]
     },
     "execution_count": 56,
     "metadata": {},
     "output_type": "execute_result"
    }
   ],
   "source": [
    "dx(x, a, t) =  a * x"
   ]
  },
  {
   "cell_type": "markdown",
   "metadata": {},
   "source": [
    "### 問題の定義\n",
    "`ODEProblem`を使って初期値問題の定義を行う．  \n",
    "```julia\n",
    "問題 = ODEProblem(微分方程式，初期値，時間，パラメータ)\n",
    "```"
   ]
  },
  {
   "cell_type": "code",
   "execution_count": 57,
   "metadata": {},
   "outputs": [
    {
     "data": {
      "text/plain": [
       "\u001b[36mODEProblem\u001b[0m with uType \u001b[36mFloat64\u001b[0m and tType \u001b[36mFloat64\u001b[0m. In-place: \u001b[36mfalse\u001b[0m\n",
       "timespan: (0.0, 5.0)\n",
       "u0: 1.0"
      ]
     },
     "execution_count": 57,
     "metadata": {},
     "output_type": "execute_result"
    }
   ],
   "source": [
    "# 初期条件など\n",
    "t_span = (0.0, 5.0)\n",
    "x₀ = 1.0\n",
    "a = 1.0\n",
    "\n",
    "prob = ODEProblem(dx, x₀, t_span, a)"
   ]
  },
  {
   "cell_type": "markdown",
   "metadata": {},
   "source": [
    "### 解く"
   ]
  },
  {
   "cell_type": "code",
   "execution_count": 58,
   "metadata": {},
   "outputs": [],
   "source": [
    "sol = solve(prob);"
   ]
  },
  {
   "cell_type": "markdown",
   "metadata": {},
   "source": [
    "### 解のプロット"
   ]
  },
  {
   "cell_type": "code",
   "execution_count": 59,
   "metadata": {},
   "outputs": [],
   "source": [
    "plot(sol, label=\"sol\")\n",
    "savefig(\"eb1.png\")"
   ]
  },
  {
   "cell_type": "markdown",
   "metadata": {},
   "source": [
    "![pic](picture/eb1.png)\n",
    "\n",
    "### 解析解と比較\n",
    "上記の微分方程式には厳密解がある．  \n",
    "<br>\n",
    "<img src=\"https://latex.codecogs.com/svg.image?x&space;=&space;Ce^{t}\" title=\"x = Ce^{t}\" />  \n",
    "<br>\n",
    "数値解`sol`と厳密解を同時にプロットしてみる．  "
   ]
  },
  {
   "cell_type": "code",
   "execution_count": 60,
   "metadata": {},
   "outputs": [],
   "source": [
    "anal = exp.(sol.t);\n",
    "plot(sol, label=\"numerical\")\n",
    "plot!(sol.t, anal, label=\"analusis\")\n",
    "savefig(\"eb2.png\")"
   ]
  },
  {
   "cell_type": "markdown",
   "metadata": {},
   "source": [
    "![pic](picture/eb2.png)"
   ]
  },
  {
   "cell_type": "markdown",
   "metadata": {},
   "source": [
    "数値解と厳密解がほぼ一致していることがわかる．  \n",
    "またDifferentialEquations.jlの解`ODECompositeSolution`には補完機能があるためプロットがなめらかである．（`scipy.integrate.solve_ivp`にはないメリット）  "
   ]
  },
  {
   "cell_type": "markdown",
   "metadata": {},
   "source": [
    "****\n",
    "## @ode_def\n",
    "マクロを使う方法"
   ]
  },
  {
   "cell_type": "code",
   "execution_count": 61,
   "metadata": {},
   "outputs": [],
   "source": [
    "using ParameterizedFunctions"
   ]
  },
  {
   "cell_type": "markdown",
   "metadata": {},
   "source": [
    "### 微分方程式の定義\n",
    "以下のように書く．  \n",
    "`end`の後ろにパラメータを書いておく．  "
   ]
  },
  {
   "cell_type": "code",
   "execution_count": 62,
   "metadata": {},
   "outputs": [
    {
     "data": {
      "text/plain": [
       "(::var\"##586\"{var\"###ParameterizedDiffEqFunction#588\", var\"###ParameterizedTGradFunction#589\", var\"###ParameterizedJacobianFunction#590\", Nothing, Nothing, ODESystem}) (generic function with 1 method)"
      ]
     },
     "execution_count": 62,
     "metadata": {},
     "output_type": "execute_result"
    }
   ],
   "source": [
    "f = @ode_def begin\n",
    "    dx = a * x\n",
    "end a"
   ]
  },
  {
   "cell_type": "markdown",
   "metadata": {},
   "source": [
    "同じように問題を定義してから解く  "
   ]
  },
  {
   "cell_type": "code",
   "execution_count": 63,
   "metadata": {},
   "outputs": [],
   "source": [
    "prob2 = ODEProblem(f, [x₀], t_span, a)\n",
    "sol2 = solve(prob2);"
   ]
  },
  {
   "cell_type": "markdown",
   "metadata": {},
   "source": [
    "プロット"
   ]
  },
  {
   "cell_type": "code",
   "execution_count": 64,
   "metadata": {},
   "outputs": [],
   "source": [
    "plot(sol2)\n",
    "savefig(\"eb3.png\")"
   ]
  },
  {
   "cell_type": "markdown",
   "metadata": {},
   "source": [
    "![pic](picture/eb3.png)"
   ]
  }
 ],
 "metadata": {
  "kernelspec": {
   "display_name": "Julia 1.6.2",
   "language": "julia",
   "name": "julia-1.6"
  },
  "language_info": {
   "file_extension": ".jl",
   "mimetype": "application/julia",
   "name": "julia",
   "version": "1.6.2"
  },
  "orig_nbformat": 4
 },
 "nbformat": 4,
 "nbformat_minor": 2
}
