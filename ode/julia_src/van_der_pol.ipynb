{
 "cells": [
  {
   "cell_type": "markdown",
   "metadata": {},
   "source": [
    "# Van Der Pol\n",
    "\n",
    "$$\n",
    "\\frac{d^2x}{dt^2} = K(1-x^2)\\frac{dx}{dt}-x\n",
    "$$\n",
    "\n",
    "## 準備\n",
    "\n",
    "まず  \n",
    "$$\n",
    "x_0 = x, \\quad x_1 = \\frac{dx}{dt}\n",
    "$$\n",
    "とおいて，一階の線形常微分方程式に変換する．  \n",
    "$$\n",
    "\\begin{bmatrix}\n",
    "\\dot{x_0}\\\\\n",
    "\\dot{x_1}\\\\\n",
    "\\end{bmatrix} = \\begin{bmatrix}\n",
    "x_1\\\\\n",
    "K(1-x_0^2)x_1-x_0\\\\\n",
    "\\end{bmatrix}\n",
    "$$\n",
    "このODEを解く．  \n",
    "  \n",
    "初期値，パラメータ，シミュレーション時間等を次にする．  "
   ]
  },
  {
   "cell_type": "code",
   "execution_count": 2,
   "metadata": {},
   "outputs": [
    {
     "data": {
      "text/plain": [
       "0.01"
      ]
     },
     "metadata": {},
     "output_type": "display_data"
    }
   ],
   "source": [
    "const K = 1\n",
    "const x₀_0 = 1\n",
    "const x₁_0 = 1\n",
    "const T_SPAN = 50\n",
    "const TIME_INTERVAL = 0.01"
   ]
  },
  {
   "cell_type": "markdown",
   "metadata": {},
   "source": [
    "## 実装\n",
    "### DifferentialEquations.jlを使用した例"
   ]
  },
  {
   "cell_type": "code",
   "execution_count": 6,
   "metadata": {},
   "outputs": [],
   "source": [
    "using DifferentialEquations\n",
    "using ParameterizedFunctions\n",
    "\n",
    "van_der_pol = @ode_def begin\n",
    "    dx₀ = x₁\n",
    "    dx₁ = K*(1-x₀^2)*x₁ - x₀\n",
    "end K\n",
    "\n",
    "prob = ODEProblem(van_der_pol, [x₀_0, x₁_0], (0, T_SPAN), (K,))\n",
    "sol = solve(prob);"
   ]
  },
  {
   "cell_type": "code",
   "execution_count": 11,
   "metadata": {},
   "outputs": [],
   "source": [
    "using Plots\n",
    "\n",
    "plot(sol)\n",
    "savefig(\"picture/vanderpol.png\")\n",
    "\n",
    "plot(sol, vars=(1,2))\n",
    "xlabel!(\"x\")\n",
    "ylabel!(\"y\")\n",
    "savefig(\"picture/vanderpol2.png\")"
   ]
  },
  {
   "cell_type": "markdown",
   "metadata": {},
   "source": [
    "![pic](picture/vanderpol.png)\n",
    "![pic2](picture/vanderpol2.png)"
   ]
  }
 ],
 "metadata": {
  "kernelspec": {
   "display_name": "Julia 1.7.2",
   "language": "julia",
   "name": "julia-1.7"
  },
  "language_info": {
   "file_extension": ".jl",
   "mimetype": "application/julia",
   "name": "julia",
   "version": "1.7.2"
  },
  "orig_nbformat": 4
 },
 "nbformat": 4,
 "nbformat_minor": 2
}
