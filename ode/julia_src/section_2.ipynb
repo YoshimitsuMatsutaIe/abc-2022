{
 "cells": [
  {
   "cell_type": "markdown",
   "metadata": {},
   "source": [
    "# ソルバを使わずに解く\n",
    "ここでは多次元の常微分方程式を扱う．  \n",
    "題材は有名なローレンツ方程式．  \n",
    "<br>\n",
    "<br>\n",
    "<!-- <img src=https://latex.codecogs.com/svg.image?\\begin{pmatrix}\\dot{x}\\\\\\dot{y}\\\\\\dot{z}\\end{pmatrix}&space;=&space;\\begin{pmatrix}-px&plus;py\\\\-xz&plus;rx-y\\\\xy-bz\\end{pmatrix}>  \n",
    "<br> -->\n",
    "\n",
    "$$\n",
    "\\begin{bmatrix}\n",
    "\\dot{x}\\\\\n",
    "\\dot{y}\\\\\n",
    "\\dot{z}\\\\\n",
    "\\end{bmatrix} = \\begin{bmatrix}\n",
    "\\ -px+py\\\\\n",
    "\\ -xz+rx-y\\\\\n",
    "\\ xy-bz\\\\\n",
    "\\end{bmatrix}\n",
    "$$\n",
    "\n",
    "ただし  \n",
    "\n",
    "$$\n",
    "\\begin{bmatrix}\n",
    "\\ x_0\\\\\n",
    "\\ y_0\\\\\n",
    "\\ z_0\\\\\n",
    "\\end{bmatrix} = \\begin{bmatrix}\n",
    "\\ 0\\\\\n",
    "\\ 4\\\\\n",
    "\\ 28\\\\\n",
    "\\end{bmatrix},  \\quad  p = 10,  \\quad  r = 28,  \\quad  b = \\frac{8}{3}\n",
    "$$\n",
    "\n",
    "とする．  "
   ]
  },
  {
   "cell_type": "markdown",
   "metadata": {},
   "source": [
    "微分方程式の定義"
   ]
  },
  {
   "cell_type": "code",
   "execution_count": 58,
   "metadata": {},
   "outputs": [
    {
     "data": {
      "text/plain": [
       "lorenz (generic function with 1 method)"
      ]
     },
     "metadata": {},
     "output_type": "display_data"
    }
   ],
   "source": [
    "function lorenz(X, p, r, b)\n",
    "    x, y, z = X\n",
    "\n",
    "    dx = -p*x + p*y\n",
    "    dy = -x*z + r*x -y\n",
    "    dz = x*y - b*z\n",
    "\n",
    "    [dx, dy, dz]\n",
    "end"
   ]
  },
  {
   "cell_type": "markdown",
   "metadata": {},
   "source": [
    "ルンゲクッタ法で解く．  "
   ]
  },
  {
   "cell_type": "code",
   "execution_count": 59,
   "metadata": {},
   "outputs": [],
   "source": [
    "### パラメータなど ###\n",
    "Δt = 0.01  # 刻み時間\n",
    "T = 50.  # 終了時間\n",
    "p = 10.\n",
    "r = 28.\n",
    "b = 8 / 3\n",
    "\n",
    "x₀ = [0., 4., 28.]  # 初期値\n",
    "\n",
    "### 解を格納する配列を準備 ###\n",
    "t = 0:Δt:T\n",
    "x = Vector{typeof(x₀)}(undef, length(t))\n",
    "\n",
    "### ループ ###\n",
    "x[1] = x₀  # 初期値代入\n",
    "\n",
    "for i in 1:length(t)-1\n",
    "    k₁ = lorenz(x[i], p, r, b)\n",
    "    k₂ = lorenz(x[i] + Δt/2*k₁, p, r, b)\n",
    "    k₃ = lorenz(x[i] + Δt/2*k₂, p, r, b)\n",
    "    k₄ = lorenz(x[i] + Δt*k₃, p, r, b)\n",
    "    x[i+1] = x[i] + (Δt/6)*(k₁ + 2k₂ + 2k₃ + k₄)\n",
    "end"
   ]
  },
  {
   "cell_type": "markdown",
   "metadata": {},
   "source": [
    "### プロット\n",
    "解は次のように格納されている．  \n",
    "```julia\n",
    "x = [[x1, y1, z1], [x2, y2, z2], ...]\n",
    "```"
   ]
  },
  {
   "cell_type": "code",
   "execution_count": 60,
   "metadata": {},
   "outputs": [
    {
     "data": {
      "text/plain": [
       "3-element Vector{Vector{Float64}}:\n",
       " [0.0, 4.0, 28.0]\n",
       " [0.37874472116333335, 3.961136328251045, 27.270796605474093]\n",
       " [0.7179816389461029, 3.927850615194513, 26.574667409845322]"
      ]
     },
     "metadata": {},
     "output_type": "display_data"
    }
   ],
   "source": [
    "x[1:3]"
   ]
  },
  {
   "cell_type": "markdown",
   "metadata": {},
   "source": [
    "このままではある要素の時刻歴が指定できず不便なので，結合して単一の行列する．  "
   ]
  },
  {
   "cell_type": "code",
   "execution_count": 61,
   "metadata": {},
   "outputs": [
    {
     "data": {
      "text/plain": [
       "3×3 Matrix{Float64}:\n",
       " 0.0       4.0      28.0\n",
       " 0.378745  3.96114  27.2708\n",
       " 0.717982  3.92785  26.5747"
      ]
     },
     "metadata": {},
     "output_type": "display_data"
    }
   ],
   "source": [
    "xc = permutedims(hcat(x...))\n",
    "xc[1:3, :]"
   ]
  },
  {
   "cell_type": "markdown",
   "metadata": {},
   "source": [
    "プロットする"
   ]
  },
  {
   "cell_type": "code",
   "execution_count": 62,
   "metadata": {},
   "outputs": [],
   "source": [
    "using Plots\n",
    "plot(xc[:, 1], xc[:, 2], xc[:, 3])\n",
    "savefig(\"sl1.png\")"
   ]
  },
  {
   "cell_type": "markdown",
   "metadata": {},
   "source": [
    "![pic](picture/sl1.png)"
   ]
  },
  {
   "cell_type": "markdown",
   "metadata": {},
   "source": [
    "****\n",
    "## 高速化"
   ]
  },
  {
   "cell_type": "code",
   "execution_count": 63,
   "metadata": {},
   "outputs": [],
   "source": [
    "using BenchmarkTools"
   ]
  },
  {
   "cell_type": "markdown",
   "metadata": {},
   "source": [
    "進藤裕之, 佐藤健太, \"1から始める Juliaプログラミング\", コロナ社, 2020を参考にやってみました．"
   ]
  },
  {
   "cell_type": "code",
   "execution_count": 64,
   "metadata": {},
   "outputs": [],
   "source": [
    "# 処理はベタ書きせず，全て関数に書いて実行する\n",
    "\n",
    "struct lorenz_param{T}\n",
    "    p::T\n",
    "    r::T\n",
    "    b::T\n",
    "end\n",
    "\n",
    "function lorenz!(dx::T, x::T, p::lorenz_param{T}) where {T}\n",
    "    dx[1] = -p.p*x[1] + p.p*x[2]\n",
    "    dx[2] = -x[1]*x[3] + p.r*x[1] - x[2]\n",
    "    dx[3] = x[1]*x[2] - p.b*x[3]\n",
    "end\n",
    "\n",
    "function solve_rk(x₀::Vector{U}, T::U, Δt::U, param) where U\n",
    "    t = 0.:Δt:T\n",
    "    x = Vector{typeof(x₀)}(undef, length(t))\n",
    "    x[1] = x₀  # 初期値代入\n",
    "\n",
    "    k₁ = zero(x₀)\n",
    "    k₂ = zero(x₀)\n",
    "    k₃ = zero(x₀)\n",
    "    k₄ = zero(x₀)\n",
    "    for i in 1:length(t)-1\n",
    "        lorenz!(k₁, x[i], param)\n",
    "        lorenz!(k₂, x[i] .+ (Δt/2).*k₁, param)  # ベクトルや行列の和は.+や.*を使うと早い．\n",
    "        lorenz!(k₃, x[i] .+ (Δt/2).*k₂, param)\n",
    "        lorenz!(k₄, x[i] .+ Δt.*k₃, param)\n",
    "        x[i+1] = x[i] .+ (Δt/6).*(k₁ .+ 2 .* k₂ .+ 2 .* k₃ .+ k₄)\n",
    "    end\n",
    "\n",
    "    t, x\n",
    "end\n",
    "\n",
    "function run()\n",
    "    Δt = 0.01  # 刻み時間\n",
    "    T = 50.  # 終了時間\n",
    "\n",
    "    param = lorenz_param(10., 28., 8/3)\n",
    "\n",
    "    x₀ = [0., 4., 28]  # 初期値\n",
    "\n",
    "    solve_rk(x₀, T, Δt, param)\n",
    "end\n",
    "t2, x2 = run();"
   ]
  },
  {
   "cell_type": "code",
   "execution_count": 65,
   "metadata": {},
   "outputs": [
    {
     "data": {
      "text/plain": [
       "BenchmarkTools.Trial: 5227 samples with 1 evaluation.\n",
       " Range \u001b[90m(\u001b[39m\u001b[36m\u001b[1mmin\u001b[22m\u001b[39m … \u001b[35mmax\u001b[39m\u001b[90m):  \u001b[39m\u001b[36m\u001b[1m709.700 μs\u001b[22m\u001b[39m … \u001b[35m 18.502 ms\u001b[39m  \u001b[90m┊\u001b[39m GC \u001b[90m(\u001b[39mmin … max\u001b[90m): \u001b[39m 0.00% …  0.00%\n",
       " Time  \u001b[90m(\u001b[39m\u001b[34m\u001b[1mmedian\u001b[22m\u001b[39m\u001b[90m):     \u001b[39m\u001b[34m\u001b[1m747.500 μs               \u001b[22m\u001b[39m\u001b[90m┊\u001b[39m GC \u001b[90m(\u001b[39mmedian\u001b[90m):    \u001b[39m 0.00%\n",
       " Time  \u001b[90m(\u001b[39m\u001b[32m\u001b[1mmean\u001b[22m\u001b[39m ± \u001b[32mσ\u001b[39m\u001b[90m):   \u001b[39m\u001b[32m\u001b[1m949.208 μs\u001b[22m\u001b[39m ± \u001b[32m599.579 μs\u001b[39m  \u001b[90m┊\u001b[39m GC \u001b[90m(\u001b[39mmean ± σ\u001b[90m):  \u001b[39m10.41% ± 14.82%\n",
       "\n",
       "  \u001b[39m█\u001b[34m▅\u001b[39m\u001b[39m▄\u001b[39m▄\u001b[39m▃\u001b[39m▃\u001b[32m▃\u001b[39m\u001b[39m▂\u001b[39m▂\u001b[39m▂\u001b[39m▁\u001b[39m▁\u001b[39m▁\u001b[39m▁\u001b[39m \u001b[39m \u001b[39m \u001b[39m \u001b[39m \u001b[39m \u001b[39m \u001b[39m \u001b[39m \u001b[39m \u001b[39m \u001b[39m \u001b[39m \u001b[39m \u001b[39m \u001b[39m \u001b[39m \u001b[39m \u001b[39m \u001b[39m \u001b[39m \u001b[39m \u001b[39m \u001b[39m \u001b[39m \u001b[39m \u001b[39m \u001b[39m \u001b[39m \u001b[39m \u001b[39m \u001b[39m \u001b[39m \u001b[39m \u001b[39m \u001b[39m \u001b[39m \u001b[39m \u001b[39m \u001b[39m \u001b[39m \u001b[39m \u001b[39m \u001b[39m \u001b[39m \u001b[39m \u001b[39m \u001b[39m \u001b[39m▁\n",
       "  \u001b[39m█\u001b[34m█\u001b[39m\u001b[39m█\u001b[39m█\u001b[39m█\u001b[39m█\u001b[32m█\u001b[39m\u001b[39m█\u001b[39m█\u001b[39m█\u001b[39m█\u001b[39m█\u001b[39m█\u001b[39m█\u001b[39m█\u001b[39m█\u001b[39m█\u001b[39m█\u001b[39m▇\u001b[39m▇\u001b[39m▇\u001b[39m▇\u001b[39m▆\u001b[39m▆\u001b[39m▆\u001b[39m▆\u001b[39m▆\u001b[39m▇\u001b[39m▅\u001b[39m▄\u001b[39m▅\u001b[39m▄\u001b[39m▄\u001b[39m▄\u001b[39m▁\u001b[39m▇\u001b[39m█\u001b[39m█\u001b[39m█\u001b[39m▇\u001b[39m▇\u001b[39m▆\u001b[39m▇\u001b[39m▅\u001b[39m▆\u001b[39m▅\u001b[39m▃\u001b[39m▅\u001b[39m▅\u001b[39m▄\u001b[39m▄\u001b[39m▃\u001b[39m▅\u001b[39m▄\u001b[39m▅\u001b[39m▅\u001b[39m▅\u001b[39m▄\u001b[39m▃\u001b[39m▅\u001b[39m▄\u001b[39m \u001b[39m█\n",
       "  710 μs\u001b[90m        \u001b[39m\u001b[90mHistogram: \u001b[39m\u001b[90m\u001b[1mlog(\u001b[22m\u001b[39m\u001b[90mfrequency\u001b[39m\u001b[90m\u001b[1m)\u001b[22m\u001b[39m\u001b[90m by time\u001b[39m       3.28 ms \u001b[0m\u001b[1m<\u001b[22m\n",
       "\n",
       " Memory estimate\u001b[90m: \u001b[39m\u001b[33m2.18 MiB\u001b[39m, allocs estimate\u001b[90m: \u001b[39m\u001b[33m20010\u001b[39m."
      ]
     },
     "metadata": {},
     "output_type": "display_data"
    }
   ],
   "source": [
    "@benchmark run()"
   ]
  },
  {
   "cell_type": "markdown",
   "metadata": {},
   "source": [
    "解をプロットして確認．  "
   ]
  },
  {
   "cell_type": "code",
   "execution_count": 66,
   "metadata": {},
   "outputs": [],
   "source": [
    "xc2 = permutedims(hcat(x2...))\n",
    "using Plots\n",
    "plot(xc2[:, 1], xc2[:, 2], xc2[:, 3])\n",
    "savefig(\"sl2.png\")"
   ]
  },
  {
   "cell_type": "markdown",
   "metadata": {},
   "source": [
    "![pic](picture/sl2.png)"
   ]
  }
 ],
 "metadata": {
  "kernelspec": {
   "display_name": "Julia 1.6.2",
   "language": "julia",
   "name": "julia-1.6"
  },
  "language_info": {
   "file_extension": ".jl",
   "mimetype": "application/julia",
   "name": "julia",
   "version": "1.6.2"
  },
  "orig_nbformat": 4
 },
 "nbformat": 4,
 "nbformat_minor": 2
}
