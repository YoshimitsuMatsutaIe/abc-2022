{
 "cells": [
  {
   "cell_type": "markdown",
   "metadata": {},
   "source": [
    "# 連立常微分方程式\n",
    "連立常微分方程式を解く場合も1次元の場合と同じ．  \n",
    "## 例：ローレンツ方程式  \n",
    "<br>\n",
    "<!-- <img src=\"https://latex.codecogs.com/png.image?\\dpi{120}&space;\\bg_white&space;\\begin{pmatrix}\\dot{x}\\\\&space;\\dot{y}\\\\&space;\\dot{z}\\end{pmatrix}=\\begin{pmatrix}-px&plus;py\\\\-xz&plus;rx-y\\\\&space;xy-bz\\\\\\end{pmatrix}\" title=\"\\bg_white \\begin{pmatrix}\\dot{x}\\\\ \\dot{y}\\\\ \\dot{z}\\end{pmatrix}=\\begin{pmatrix}-px+py\\\\-xz+rx-y\\\\ xy-bz\\\\\\end{pmatrix}\" />  \n",
    "<br> -->\n",
    "\n",
    "$$\n",
    "\\begin{bmatrix}\n",
    "\\dot{x}\\\\\n",
    "\\dot{y}\\\\\n",
    "\\dot{z}\\\\\n",
    "\\end{bmatrix} = \\begin{bmatrix}\n",
    "\\ -px+py\\\\\n",
    "\\ -xz+rx-y\\\\\n",
    "\\ xy-bz\\\\\n",
    "\\end{bmatrix}\n",
    "$$\n",
    "\n",
    "ただし  \n",
    "\n",
    "$$\n",
    "\\begin{bmatrix}\n",
    "\\ x_0\\\\\n",
    "\\ y_0\\\\\n",
    "\\ z_0\\\\\n",
    "\\end{bmatrix} = \\begin{bmatrix}\n",
    "\\ 0\\\\\n",
    "\\ 4\\\\\n",
    "\\ 28\\\\\n",
    "\\end{bmatrix},  \\quad  p = 10,  \\quad  r = 28,  \\quad  b = \\frac{8}{3}\n",
    "$$\n",
    "\n",
    "とする．  "
   ]
  },
  {
   "cell_type": "code",
   "execution_count": 1,
   "metadata": {},
   "outputs": [],
   "source": [
    "using DifferentialEquations\n",
    "using ParameterizedFunctions"
   ]
  },
  {
   "cell_type": "markdown",
   "metadata": {},
   "source": [
    "ここでは`@ode_def`マクロを使う  "
   ]
  },
  {
   "cell_type": "code",
   "execution_count": 2,
   "metadata": {},
   "outputs": [],
   "source": [
    "### 微分方程式の定義 ###\n",
    "lorenz_m = @ode_def begin\n",
    "    dx = -p*x + p*y\n",
    "    dy = -x*z + r*x -y\n",
    "    dz = x*y - b*z\n",
    "end p r b\n",
    "\n",
    "\n",
    "### 問題を定義 ###\n",
    "const x₀ = [0.0, 4.0, 28.0]\n",
    "const p = 10\n",
    "const r = 28\n",
    "const b = 8/3\n",
    "const t_span = (0, 50.0)\n",
    "prob = ODEProblem(lorenz_m, x₀, t_span, (p, r, b))\n",
    "\n",
    "\n",
    "### 解く ###\n",
    "sol = solve(prob);"
   ]
  },
  {
   "cell_type": "markdown",
   "metadata": {},
   "source": [
    "### (微分方程式の描画)\n",
    "`Latexify`を使うと定義した微分方程式を綺麗に表示できる．  \n",
    "微分方程式のチェック？などに使えるかも  "
   ]
  },
  {
   "cell_type": "code",
   "execution_count": 64,
   "metadata": {},
   "outputs": [
    {
     "data": {
      "text/latex": [
       "\\begin{align}\n",
       "\\frac{dx(t)}{dt} =& p y\\left( t \\right) - p x\\left( t \\right) \\\\\n",
       "\\frac{dy(t)}{dt} =&  - y\\left( t \\right) + r x\\left( t \\right) - x\\left( t \\right) z\\left( t \\right) \\\\\n",
       "\\frac{dz(t)}{dt} =& x\\left( t \\right) y\\left( t \\right) - b z\\left( t \\right)\n",
       "\\end{align}\n"
      ],
      "text/plain": [
       "L\"\\begin{align}\n",
       "\\frac{dx(t)}{dt} =& p y\\left( t \\right) - p x\\left( t \\right) \\\\\n",
       "\\frac{dy(t)}{dt} =&  - y\\left( t \\right) + r x\\left( t \\right) - x\\left( t \\right) z\\left( t \\right) \\\\\n",
       "\\frac{dz(t)}{dt} =& x\\left( t \\right) y\\left( t \\right) - b z\\left( t \\right)\n",
       "\\end{align}\n",
       "\""
      ]
     },
     "metadata": {},
     "output_type": "display_data"
    }
   ],
   "source": [
    "using Latexify\n",
    "latexify(lorenz_m)"
   ]
  },
  {
   "cell_type": "markdown",
   "metadata": {},
   "source": [
    "### 解のプロット"
   ]
  },
  {
   "cell_type": "code",
   "execution_count": 68,
   "metadata": {},
   "outputs": [],
   "source": [
    "using Plots\n",
    "\n",
    "plot(sol)\n",
    "savefig(\"sb2_1.png\")"
   ]
  },
  {
   "cell_type": "markdown",
   "metadata": {},
   "source": [
    "![pic](picture/sb2_1.png)\n",
    "\n",
    "### 解について\n",
    "解は`ODECompositeSolution`として返される．  \n",
    "`sol[i]`でi番目の解にアクセスできる．  "
   ]
  },
  {
   "cell_type": "code",
   "execution_count": 69,
   "metadata": {},
   "outputs": [
    {
     "data": {
      "text/plain": [
       "3-element Vector{Float64}:\n",
       "  0.0014137366927165365\n",
       "  3.999858601385078\n",
       " 27.997360736072547"
      ]
     },
     "metadata": {},
     "output_type": "display_data"
    }
   ],
   "source": [
    "sol[2]"
   ]
  },
  {
   "cell_type": "markdown",
   "metadata": {},
   "source": [
    "`sol.t` : 時刻歴の配列"
   ]
  },
  {
   "cell_type": "code",
   "execution_count": 70,
   "metadata": {},
   "outputs": [
    {
     "data": {
      "text/plain": [
       "5-element Vector{Float64}:\n",
       " 0.0\n",
       " 3.535028953698351e-5\n",
       " 0.0003888531849068186\n",
       " 0.003923882138605169\n",
       " 0.020333768098013315"
      ]
     },
     "metadata": {},
     "output_type": "display_data"
    }
   ],
   "source": [
    "sol.t[1:5]"
   ]
  },
  {
   "cell_type": "markdown",
   "metadata": {},
   "source": [
    "`sol.u` : 解ベクトルの配列"
   ]
  },
  {
   "cell_type": "code",
   "execution_count": 71,
   "metadata": {},
   "outputs": [
    {
     "data": {
      "text/plain": [
       "5-element Vector{Vector{Float64}}:\n",
       " [0.0, 4.0, 28.0]\n",
       " [0.0014137366927165365, 3.999858601385078, 27.997360736072547]\n",
       " [0.015520905424812406, 3.998444948030281, 27.970992749143974]\n",
       " [0.15361282439337523, 3.98439393599714, 27.709751122448132]\n",
       " [0.7286763765799963, 3.9268855053350147, 26.551972589469933]"
      ]
     },
     "metadata": {},
     "output_type": "display_data"
    }
   ],
   "source": [
    "sol.u[1:5]"
   ]
  },
  {
   "cell_type": "markdown",
   "metadata": {},
   "source": [
    "`sol.prob` : 初期値問題の設定内容"
   ]
  },
  {
   "cell_type": "code",
   "execution_count": 72,
   "metadata": {},
   "outputs": [
    {
     "data": {
      "text/plain": [
       "\u001b[36mODEProblem\u001b[0m with uType \u001b[36mVector{Float64}\u001b[0m and tType \u001b[36mFloat64\u001b[0m. In-place: \u001b[36mtrue\u001b[0m\n",
       "timespan: (0.0, 50.0)\n",
       "u0: 3-element Vector{Float64}:\n",
       "  0.0\n",
       "  4.0\n",
       " 28.0"
      ]
     },
     "metadata": {},
     "output_type": "display_data"
    }
   ],
   "source": [
    "sol.prob"
   ]
  },
  {
   "cell_type": "markdown",
   "metadata": {},
   "source": [
    "他にも色々なデータが入ってます．  \n",
    "おもしろい機能として解の補完があります．  \n",
    "```julia\n",
    "sol(時間)\n",
    "```\n",
    "で`t=時間`での補完した解が得られます．  \n",
    "`[]`ではなく`()`なことに注意  "
   ]
  },
  {
   "cell_type": "code",
   "execution_count": 73,
   "metadata": {},
   "outputs": [
    {
     "data": {
      "text/plain": [
       "3-element Vector{Float64}:\n",
       " 11.736388307019535\n",
       "  6.081725428276198\n",
       " 36.57200368170504"
      ]
     },
     "metadata": {},
     "output_type": "display_data"
    }
   ],
   "source": [
    "sol(1.2345)"
   ]
  },
  {
   "cell_type": "markdown",
   "metadata": {},
   "source": [
    "この機能があるため`scipy.integrate.solve_ivp`と異なり，刻み時間を指定しなくても初めからプロットがなめらかです．  \n",
    "せっかくなので解を3次元でプロットしてみます．"
   ]
  },
  {
   "cell_type": "code",
   "execution_count": 74,
   "metadata": {},
   "outputs": [],
   "source": [
    "plot(sol, vars=(1,2,3))\n",
    "savefig(\"sb2_2.png\")"
   ]
  },
  {
   "cell_type": "markdown",
   "metadata": {},
   "source": [
    "![pic](picture/sb2_2.png)"
   ]
  },
  {
   "cell_type": "markdown",
   "metadata": {},
   "source": [
    "****\n",
    "## 高速化\n",
    "微分方程式の定義方法によって計算速度はかなり変動します．  \n",
    "公式wiki : [https://diffeq.sciml.ai/stable/tutorials/faster_ode_example/#Code-Optimization-in-Julia](https://diffeq.sciml.ai/stable/tutorials/faster_ode_example/#Code-Optimization-in-Julia)"
   ]
  },
  {
   "cell_type": "code",
   "execution_count": 75,
   "metadata": {},
   "outputs": [
    {
     "data": {
      "text/plain": [
       "\u001b[36mODEProblem\u001b[0m with uType \u001b[36mVector{Float64}\u001b[0m and tType \u001b[36mFloat64\u001b[0m. In-place: \u001b[36mfalse\u001b[0m\n",
       "timespan: (0.0, 50.0)\n",
       "u0: 3-element Vector{Float64}:\n",
       "  0.0\n",
       "  4.0\n",
       " 28.0"
      ]
     },
     "metadata": {},
     "output_type": "display_data"
    }
   ],
   "source": [
    "\"\"\"ローレンツ方程式\"\"\"\n",
    "function lorenz(X, param, t)\n",
    "    x, y, z = X\n",
    "    p, r, b = param\n",
    "\n",
    "    dx = -p*x + p*y\n",
    "    dy = -x*z + r*x -y\n",
    "    dz = x*y - b*z\n",
    "    \n",
    "    [dx, dy, dz]  # ベクトルを返す\n",
    "end\n",
    "\n",
    "prob2 = ODEProblem(lorenz, x₀, t_span, (p, r, b))"
   ]
  },
  {
   "cell_type": "markdown",
   "metadata": {},
   "source": [
    "上のように速度をベクトルで返しても解けますが，配列に書き出すほうがかなり高速です  "
   ]
  },
  {
   "cell_type": "code",
   "execution_count": 76,
   "metadata": {},
   "outputs": [
    {
     "data": {
      "text/plain": [
       "\u001b[36mODEProblem\u001b[0m with uType \u001b[36mVector{Float64}\u001b[0m and tType \u001b[36mFloat64\u001b[0m. In-place: \u001b[36mtrue\u001b[0m\n",
       "timespan: (0.0, 50.0)\n",
       "u0: 3-element Vector{Float64}:\n",
       "  0.0\n",
       "  4.0\n",
       " 28.0"
      ]
     },
     "metadata": {},
     "output_type": "display_data"
    }
   ],
   "source": [
    "\"\"\"ローレンツ方程式．配列に書き出す方式\n",
    "\n",
    "juliaでは引数を破壊するような関数には!をつける\n",
    "\"\"\"\n",
    "function lorenz!(dX, X, param, t)\n",
    "    x, y, z = X\n",
    "    p, r, b = param\n",
    "\n",
    "    dX[1] = -p*x + p*y\n",
    "    dX[2] = -x*z + r*x -y\n",
    "    dX[3] = x*y - b*z\n",
    "    \n",
    "    nothing  # 何も返さない\n",
    "end\n",
    "\n",
    "prob3 = ODEProblem(lorenz!, x₀, t_span, (p, r, b))"
   ]
  },
  {
   "cell_type": "markdown",
   "metadata": {},
   "source": [
    "### ベンチマーク\n",
    "BenchmarkTools.jlを使って比較"
   ]
  },
  {
   "cell_type": "code",
   "execution_count": 77,
   "metadata": {},
   "outputs": [],
   "source": [
    "using BenchmarkTools"
   ]
  },
  {
   "cell_type": "markdown",
   "metadata": {},
   "source": [
    "1. 配列を返す：`lonrenz`"
   ]
  },
  {
   "cell_type": "code",
   "execution_count": 81,
   "metadata": {},
   "outputs": [
    {
     "data": {
      "text/plain": [
       "BenchmarkTools.Trial: 2416 samples with 1 evaluation.\n",
       " Range \u001b[90m(\u001b[39m\u001b[36m\u001b[1mmin\u001b[22m\u001b[39m … \u001b[35mmax\u001b[39m\u001b[90m):  \u001b[39m\u001b[36m\u001b[1m1.020 ms\u001b[22m\u001b[39m … \u001b[35m11.365 ms\u001b[39m  \u001b[90m┊\u001b[39m GC \u001b[90m(\u001b[39mmin … max\u001b[90m): \u001b[39m 0.00% … 81.75%\n",
       " Time  \u001b[90m(\u001b[39m\u001b[34m\u001b[1mmedian\u001b[22m\u001b[39m\u001b[90m):     \u001b[39m\u001b[34m\u001b[1m2.157 ms              \u001b[22m\u001b[39m\u001b[90m┊\u001b[39m GC \u001b[90m(\u001b[39mmedian\u001b[90m):    \u001b[39m 0.00%\n",
       " Time  \u001b[90m(\u001b[39m\u001b[32m\u001b[1mmean\u001b[22m\u001b[39m ± \u001b[32mσ\u001b[39m\u001b[90m):   \u001b[39m\u001b[32m\u001b[1m2.064 ms\u001b[22m\u001b[39m ± \u001b[32m 1.778 ms\u001b[39m  \u001b[90m┊\u001b[39m GC \u001b[90m(\u001b[39mmean ± σ\u001b[90m):  \u001b[39m18.26% ± 17.34%\n",
       "\n",
       "  \u001b[39m█\u001b[39m▂\u001b[39m \u001b[39m▁\u001b[39m▁\u001b[39m \u001b[39m \u001b[32m▇\u001b[39m\u001b[34m▆\u001b[39m\u001b[39m▂\u001b[39m \u001b[39m \u001b[39m \u001b[39m \u001b[39m \u001b[39m \u001b[39m \u001b[39m \u001b[39m \u001b[39m \u001b[39m \u001b[39m \u001b[39m \u001b[39m \u001b[39m \u001b[39m \u001b[39m \u001b[39m \u001b[39m \u001b[39m \u001b[39m \u001b[39m \u001b[39m \u001b[39m \u001b[39m \u001b[39m \u001b[39m \u001b[39m \u001b[39m \u001b[39m \u001b[39m \u001b[39m \u001b[39m \u001b[39m \u001b[39m \u001b[39m \u001b[39m \u001b[39m \u001b[39m \u001b[39m \u001b[39m \u001b[39m \u001b[39m \u001b[39m▁\u001b[39m \u001b[39m \u001b[39m \u001b[39m \u001b[39m \u001b[39m▁\n",
       "  \u001b[39m█\u001b[39m█\u001b[39m█\u001b[39m█\u001b[39m█\u001b[39m█\u001b[39m█\u001b[32m█\u001b[39m\u001b[34m█\u001b[39m\u001b[39m█\u001b[39m▇\u001b[39m▅\u001b[39m▃\u001b[39m▁\u001b[39m▁\u001b[39m▁\u001b[39m▁\u001b[39m▁\u001b[39m▁\u001b[39m▁\u001b[39m▁\u001b[39m▁\u001b[39m▁\u001b[39m▁\u001b[39m▁\u001b[39m▁\u001b[39m▁\u001b[39m▁\u001b[39m▁\u001b[39m▁\u001b[39m▁\u001b[39m▁\u001b[39m▁\u001b[39m▁\u001b[39m▁\u001b[39m▁\u001b[39m▁\u001b[39m▁\u001b[39m▁\u001b[39m▁\u001b[39m▁\u001b[39m▁\u001b[39m▁\u001b[39m▁\u001b[39m▁\u001b[39m▁\u001b[39m▁\u001b[39m▁\u001b[39m▁\u001b[39m▄\u001b[39m▆\u001b[39m▇\u001b[39m▇\u001b[39m█\u001b[39m█\u001b[39m▇\u001b[39m▆\u001b[39m▃\u001b[39m \u001b[39m█\n",
       "  1.02 ms\u001b[90m      \u001b[39m\u001b[90mHistogram: \u001b[39m\u001b[90m\u001b[1mlog(\u001b[22m\u001b[39m\u001b[90mfrequency\u001b[39m\u001b[90m\u001b[1m)\u001b[22m\u001b[39m\u001b[90m by time\u001b[39m     9.67 ms \u001b[0m\u001b[1m<\u001b[22m\n",
       "\n",
       " Memory estimate\u001b[90m: \u001b[39m\u001b[33m6.06 MiB\u001b[39m, allocs estimate\u001b[90m: \u001b[39m\u001b[33m56053\u001b[39m."
      ]
     },
     "metadata": {},
     "output_type": "display_data"
    }
   ],
   "source": [
    "bench1 = @benchmark solve(prob2)  # 書き出さない"
   ]
  },
  {
   "cell_type": "markdown",
   "metadata": {},
   "source": [
    "2. 配列書き出し：`lorenz!`"
   ]
  },
  {
   "cell_type": "code",
   "execution_count": 79,
   "metadata": {},
   "outputs": [
    {
     "data": {
      "text/plain": [
       "BenchmarkTools.Trial: 10000 samples with 1 evaluation.\n",
       " Range \u001b[90m(\u001b[39m\u001b[36m\u001b[1mmin\u001b[22m\u001b[39m … \u001b[35mmax\u001b[39m\u001b[90m):  \u001b[39m\u001b[36m\u001b[1m194.759 μs\u001b[22m\u001b[39m … \u001b[35m  8.940 ms\u001b[39m  \u001b[90m┊\u001b[39m GC \u001b[90m(\u001b[39mmin … max\u001b[90m): \u001b[39m 0.00% … 89.06%\n",
       " Time  \u001b[90m(\u001b[39m\u001b[34m\u001b[1mmedian\u001b[22m\u001b[39m\u001b[90m):     \u001b[39m\u001b[34m\u001b[1m214.483 μs               \u001b[22m\u001b[39m\u001b[90m┊\u001b[39m GC \u001b[90m(\u001b[39mmedian\u001b[90m):    \u001b[39m 0.00%\n",
       " Time  \u001b[90m(\u001b[39m\u001b[32m\u001b[1mmean\u001b[22m\u001b[39m ± \u001b[32mσ\u001b[39m\u001b[90m):   \u001b[39m\u001b[32m\u001b[1m311.209 μs\u001b[22m\u001b[39m ± \u001b[32m588.332 μs\u001b[39m  \u001b[90m┊\u001b[39m GC \u001b[90m(\u001b[39mmean ± σ\u001b[90m):  \u001b[39m14.06% ±  7.21%\n",
       "\n",
       "  \u001b[39m▁\u001b[39m█\u001b[39m▅\u001b[39m \u001b[39m \u001b[34m \u001b[39m\u001b[39m \u001b[39m \u001b[39m \u001b[39m \u001b[39m \u001b[39m \u001b[39m \u001b[39m \u001b[39m \u001b[39m \u001b[39m \u001b[39m \u001b[39m \u001b[39m \u001b[39m \u001b[39m \u001b[39m \u001b[39m \u001b[39m \u001b[39m \u001b[39m \u001b[39m \u001b[39m \u001b[39m \u001b[39m \u001b[32m \u001b[39m\u001b[39m \u001b[39m \u001b[39m \u001b[39m \u001b[39m▂\u001b[39m▃\u001b[39m▁\u001b[39m \u001b[39m \u001b[39m \u001b[39m \u001b[39m \u001b[39m \u001b[39m \u001b[39m \u001b[39m \u001b[39m \u001b[39m \u001b[39m \u001b[39m \u001b[39m \u001b[39m \u001b[39m \u001b[39m \u001b[39m \u001b[39m \u001b[39m \u001b[39m \u001b[39m \u001b[39m \u001b[39m \n",
       "  \u001b[39m█\u001b[39m█\u001b[39m█\u001b[39m█\u001b[39m▅\u001b[34m▃\u001b[39m\u001b[39m▃\u001b[39m▃\u001b[39m▂\u001b[39m▂\u001b[39m▂\u001b[39m▂\u001b[39m▂\u001b[39m▂\u001b[39m▂\u001b[39m▂\u001b[39m▂\u001b[39m▂\u001b[39m▂\u001b[39m▁\u001b[39m▂\u001b[39m▂\u001b[39m▂\u001b[39m▂\u001b[39m▂\u001b[39m▂\u001b[39m▁\u001b[39m▂\u001b[39m▂\u001b[39m▂\u001b[39m▂\u001b[32m▂\u001b[39m\u001b[39m▂\u001b[39m▂\u001b[39m▂\u001b[39m▅\u001b[39m█\u001b[39m█\u001b[39m█\u001b[39m▅\u001b[39m▄\u001b[39m▃\u001b[39m▃\u001b[39m▃\u001b[39m▂\u001b[39m▂\u001b[39m▂\u001b[39m▂\u001b[39m▂\u001b[39m▂\u001b[39m▂\u001b[39m▂\u001b[39m▂\u001b[39m▂\u001b[39m▂\u001b[39m▂\u001b[39m▂\u001b[39m▂\u001b[39m▂\u001b[39m▂\u001b[39m▂\u001b[39m \u001b[39m▃\n",
       "  195 μs\u001b[90m           Histogram: frequency by time\u001b[39m          421 μs \u001b[0m\u001b[1m<\u001b[22m\n",
       "\n",
       " Memory estimate\u001b[90m: \u001b[39m\u001b[33m747.84 KiB\u001b[39m, allocs estimate\u001b[90m: \u001b[39m\u001b[33m6185\u001b[39m."
      ]
     },
     "metadata": {},
     "output_type": "display_data"
    }
   ],
   "source": [
    "bench2 = @benchmark solve(prob3)  # 書き出し"
   ]
  },
  {
   "cell_type": "markdown",
   "metadata": {},
   "source": [
    "2.の`lorenz!`のほうがメモリ使用量も少なく，かなり高速なことがわかる．  \n",
    "<br>\n",
    "`@ode_def`マクロを使って微分方程式を定義すると，自動的に配列書き出しの関数定義になる．  \n",
    "\n",
    "3. @ode_def"
   ]
  },
  {
   "cell_type": "code",
   "execution_count": 80,
   "metadata": {},
   "outputs": [
    {
     "data": {
      "text/plain": [
       "BenchmarkTools.Trial: 10000 samples with 1 evaluation.\n",
       " Range \u001b[90m(\u001b[39m\u001b[36m\u001b[1mmin\u001b[22m\u001b[39m … \u001b[35mmax\u001b[39m\u001b[90m):  \u001b[39m\u001b[36m\u001b[1m195.039 μs\u001b[22m\u001b[39m … \u001b[35m  9.081 ms\u001b[39m  \u001b[90m┊\u001b[39m GC \u001b[90m(\u001b[39mmin … max\u001b[90m): \u001b[39m 0.00% … 88.98%\n",
       " Time  \u001b[90m(\u001b[39m\u001b[34m\u001b[1mmedian\u001b[22m\u001b[39m\u001b[90m):     \u001b[39m\u001b[34m\u001b[1m216.262 μs               \u001b[22m\u001b[39m\u001b[90m┊\u001b[39m GC \u001b[90m(\u001b[39mmedian\u001b[90m):    \u001b[39m 0.00%\n",
       " Time  \u001b[90m(\u001b[39m\u001b[32m\u001b[1mmean\u001b[22m\u001b[39m ± \u001b[32mσ\u001b[39m\u001b[90m):   \u001b[39m\u001b[32m\u001b[1m311.521 μs\u001b[22m\u001b[39m ± \u001b[32m588.314 μs\u001b[39m  \u001b[90m┊\u001b[39m GC \u001b[90m(\u001b[39mmean ± σ\u001b[90m):  \u001b[39m13.89% ±  7.13%\n",
       "\n",
       "  \u001b[39m▁\u001b[39m█\u001b[39m▄\u001b[39m \u001b[39m \u001b[34m \u001b[39m\u001b[39m \u001b[39m \u001b[39m \u001b[39m \u001b[39m \u001b[39m \u001b[39m \u001b[39m \u001b[39m \u001b[39m \u001b[39m \u001b[39m \u001b[39m \u001b[39m \u001b[39m \u001b[39m \u001b[39m \u001b[39m \u001b[39m \u001b[39m \u001b[39m \u001b[39m \u001b[39m \u001b[32m \u001b[39m\u001b[39m \u001b[39m \u001b[39m \u001b[39m▂\u001b[39m▃\u001b[39m \u001b[39m \u001b[39m \u001b[39m \u001b[39m \u001b[39m \u001b[39m \u001b[39m \u001b[39m \u001b[39m \u001b[39m \u001b[39m \u001b[39m \u001b[39m \u001b[39m \u001b[39m \u001b[39m \u001b[39m \u001b[39m \u001b[39m \u001b[39m \u001b[39m \u001b[39m \u001b[39m \u001b[39m \u001b[39m \u001b[39m \u001b[39m \n",
       "  \u001b[39m█\u001b[39m█\u001b[39m█\u001b[39m▇\u001b[39m▄\u001b[34m▃\u001b[39m\u001b[39m▃\u001b[39m▃\u001b[39m▂\u001b[39m▂\u001b[39m▂\u001b[39m▂\u001b[39m▂\u001b[39m▂\u001b[39m▂\u001b[39m▂\u001b[39m▂\u001b[39m▂\u001b[39m▂\u001b[39m▂\u001b[39m▂\u001b[39m▂\u001b[39m▂\u001b[39m▂\u001b[39m▁\u001b[39m▂\u001b[39m▂\u001b[39m▁\u001b[39m▂\u001b[32m▂\u001b[39m\u001b[39m▂\u001b[39m▂\u001b[39m▅\u001b[39m█\u001b[39m█\u001b[39m█\u001b[39m▄\u001b[39m▄\u001b[39m▃\u001b[39m▃\u001b[39m▃\u001b[39m▂\u001b[39m▂\u001b[39m▂\u001b[39m▂\u001b[39m▂\u001b[39m▂\u001b[39m▂\u001b[39m▂\u001b[39m▂\u001b[39m▂\u001b[39m▂\u001b[39m▁\u001b[39m▂\u001b[39m▂\u001b[39m▂\u001b[39m▂\u001b[39m▂\u001b[39m▂\u001b[39m▁\u001b[39m▂\u001b[39m \u001b[39m▃\n",
       "  195 μs\u001b[90m           Histogram: frequency by time\u001b[39m          443 μs \u001b[0m\u001b[1m<\u001b[22m\n",
       "\n",
       " Memory estimate\u001b[90m: \u001b[39m\u001b[33m736.95 KiB\u001b[39m, allocs estimate\u001b[90m: \u001b[39m\u001b[33m6074\u001b[39m."
      ]
     },
     "metadata": {},
     "output_type": "display_data"
    }
   ],
   "source": [
    "bench3 = @benchmark solve(prob)  # @ode_def"
   ]
  },
  {
   "cell_type": "markdown",
   "metadata": {},
   "source": [
    "2.配列書き出しとほぼ同じメモリ使用量，計算時間なことがわかる"
   ]
  }
 ],
 "metadata": {
  "kernelspec": {
   "display_name": "Julia 1.7.2",
   "language": "julia",
   "name": "julia-1.7"
  },
  "language_info": {
   "file_extension": ".jl",
   "mimetype": "application/julia",
   "name": "julia",
   "version": "1.7.2"
  },
  "orig_nbformat": 4
 },
 "nbformat": 4,
 "nbformat_minor": 2
}
