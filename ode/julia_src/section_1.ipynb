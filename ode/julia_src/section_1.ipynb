{
 "cells": [
  {
   "cell_type": "markdown",
   "metadata": {},
   "source": [
    "# ソルバを使わず解く\n",
    "pythonと異なりforループが早いため，juliaは自分で実装しても高速です．  "
   ]
  },
  {
   "cell_type": "code",
   "execution_count": 3,
   "metadata": {},
   "outputs": [],
   "source": [
    "using Plots"
   ]
  },
  {
   "cell_type": "markdown",
   "metadata": {},
   "source": [
    "## オイラー法\n",
    "一番簡単な常微分方程式の初期値問題の解き方．  \n",
    "次のような微分方程式を考える．  \n",
    "<br>\n",
    "<img src=\"https://latex.codecogs.com/svg.image?\\dot{x}&space;=&space;f(t,&space;x),&space;\\;\\;x(t_0)=x_0\" title=\"\\dot{x} = f(t, x), \\;\\;x(t_0)=x_0\" />  \n",
    "<br>\n",
    "簡単のため微分方程式が時間に依存しないとする．  \n",
    "<br>\n",
    "<img src=\"https://latex.codecogs.com/svg.image?\\dot{x}&space;=&space;f(x),&space;\\;\\;x(t_0)=x_0\" title=\"\\dot{x} = f(x), \\;\\;x(t_0)=x_0\" />  \n",
    "<br>\n",
    "オイラー法では次の式で解を初期値から更新していく．  \n",
    "<br>\n",
    "<img src=\"https://latex.codecogs.com/svg.image?x_{n&plus;1}&space;=&space;x_{n}&space;&plus;&space;f(x_n)\\Delta{}t,\\;\\;&space;t_n&space;<&space;T\" title=\"x_{n+1} = x_{n} + f(x_n)\\Delta{}t,\\;\\; t_n < T\" />  \n",
    "<br>\n",
    "ここで<img src=\"https://latex.codecogs.com/svg.image?\\Delta{}t\" title=\"\\Delta{}t\" />は刻み時間であり，<img src=\"https://latex.codecogs.com/svg.image?T\" title=\"T\" />は終了時間はである．\n",
    "<br>"
   ]
  },
  {
   "cell_type": "markdown",
   "metadata": {},
   "source": [
    "まずは簡単な一次元の微分方程式から考える．  \n",
    "<br>\n",
    "<img src=\"https://latex.codecogs.com/png.image?\\dpi{140}&space;\\bg_white&space;\\dot{x}=ax\" title=\"\\bg_white \\dot{x}=ax\" />  \n",
    "<br>\n",
    "微分方程式を定義する．  "
   ]
  },
  {
   "cell_type": "code",
   "execution_count": 4,
   "metadata": {},
   "outputs": [
    {
     "data": {
      "text/plain": [
       "dx (generic function with 1 method)"
      ]
     },
     "execution_count": 4,
     "metadata": {},
     "output_type": "execute_result"
    }
   ],
   "source": [
    "dx(x) = x"
   ]
  },
  {
   "cell_type": "markdown",
   "metadata": {},
   "source": [
    "forループで実装する．  "
   ]
  },
  {
   "cell_type": "code",
   "execution_count": 8,
   "metadata": {},
   "outputs": [],
   "source": [
    "### パラメータなど ###\n",
    "Δt = 0.1  # 刻み時間\n",
    "T = 5.  # 終了時間\n",
    "t = 0:Δt:T\n",
    "x₀ = 1.  # 初期値\n",
    "a = 1.\n",
    "\n",
    "### 解を格納する配列を準備 ###\n",
    "t = 0:Δt:T\n",
    "x_e = Vector{typeof(x₀)}(undef, length(t))\n",
    "\n",
    "### ループ ###\n",
    "x_e[1] = x₀  # 初期値代入\n",
    "\n",
    "for i in 1:length(t)-1\n",
    "    x_e[i+1] = x_e[i] + Δt*dx(x_e[i])\n",
    "end"
   ]
  },
  {
   "cell_type": "markdown",
   "metadata": {},
   "source": [
    "解をプロットして確認する．  "
   ]
  },
  {
   "cell_type": "code",
   "execution_count": 9,
   "metadata": {},
   "outputs": [],
   "source": [
    "plot(t, x_e, label=\"euler\")\n",
    "savefig(\"se_1.png\")"
   ]
  },
  {
   "cell_type": "markdown",
   "metadata": {},
   "source": [
    "![pic](picture/se_1.png)"
   ]
  },
  {
   "cell_type": "markdown",
   "metadata": {},
   "source": [
    "****\n",
    "## ルンゲクッタ法\n",
    "シミュレーションで一般に使われるのはルンゲクッタ法です．  \n",
    "ルンゲクッタの更新式は以下の通り．  \n",
    "<br>\n",
    "<img src=\"https://latex.codecogs.com/svg.image?x_{n&plus;1}&space;=&space;x_n&space;&plus;&space;\\frac{\\Delta{}t}{6}(k_1&space;&plus;&space;2k_2&space;&plus;&space;2k_3&space;&plus;&space;k_4)\\\\\\\\k_1&space;=&space;f(x_n)\\\\\\\\k_2&space;=&space;f(x_n&space;&plus;&space;\\frac{\\Delta{}t}{2}k_1)\\\\\\\\k_3&space;=&space;&space;f(x_n&space;&plus;&space;\\frac{\\Delta{}t}{2}k_2)\\\\\\\\k_4&space;=&space;f(xn&space;&plus;&space;\\Delta{}tk_3)\" title=\"x_{n+1} = x_n + \\frac{\\Delta{}t}{6}(k_1 + 2k_2 + 2k_3 + k_4)\\\\\\\\k_1 = f(x_n)\\\\\\\\k_2 = f(x_n + \\frac{\\Delta{}t}{2}k_1)\\\\\\\\k_3 = f(x_n + \\frac{\\Delta{}t}{2}k_2)\\\\\\\\k_4 = f(xn + \\Delta{}tk_3)\" />  \n",
    "<br>\n",
    "導出は自分で調べてください．  \n",
    "<br>\n",
    "ルンゲクッタ法をforループを使って実装する．  "
   ]
  },
  {
   "cell_type": "code",
   "execution_count": 16,
   "metadata": {},
   "outputs": [],
   "source": [
    "x_rk = Vector{typeof(x₀)}(undef, length(t))\n",
    "\n",
    "### ループ ###\n",
    "x_rk[1] = x₀  # 初期値代入\n",
    "\n",
    "for i in 1:length(t)-1\n",
    "    k₁ = dx(x_rk[i])\n",
    "    k₂ = dx(x_rk[i] + Δt/2*k₁)\n",
    "    k₃ = dx(x_rk[i] + Δt/2*k₂)\n",
    "    k₄ = dx(x_rk[i] + Δt*k₃)\n",
    "    x_rk[i+1] = x_rk[i] + (Δt/6)*(k₁ + 2k₂ + 2k₃ + k₄)\n",
    "end"
   ]
  },
  {
   "cell_type": "markdown",
   "metadata": {},
   "source": [
    "## 解析解と比較\n",
    "この微分方程式には厳密解がある．  \n",
    "<br>\n",
    "<img src=\"https://latex.codecogs.com/svg.image?x&space;=&space;Ce^{t}\" title=\"x = Ce^{t}\" />  \n",
    "<br>\n",
    "オイラー法で求めた数値解`x_e`とルンゲクッタ法で求めた数値解`x_rk`，厳密解を同時にプロットしてみる．  "
   ]
  },
  {
   "cell_type": "code",
   "execution_count": 18,
   "metadata": {},
   "outputs": [
    {
     "name": "stderr",
     "output_type": "stream",
     "text": [
      "┌ Warning: Skipped marker arg ..\n",
      "└ @ Plots C:\\Users\\Yoshi\\.julia\\packages\\Plots\\Awg62\\src\\args.jl:890\n"
     ]
    }
   ],
   "source": [
    "x_a = exp.(t)  # 厳密解\n",
    "\n",
    "plot(t, x_e, label=\"euler\")\n",
    "plot!(t, x_rk, label=\"runge kutta\", marker=\".\")\n",
    "plot!(t, x_a, label=\"analysis\")\n",
    "savefig(\"sek_1.png\")"
   ]
  },
  {
   "cell_type": "markdown",
   "metadata": {},
   "source": [
    "![pic](picture/sek_1.png)\n",
    "\n",
    "ルンゲクッタ法による数値解は解析解とほぼ一致していることがわかる．  "
   ]
  }
 ],
 "metadata": {
  "kernelspec": {
   "display_name": "Julia 1.6.2",
   "language": "julia",
   "name": "julia-1.6"
  },
  "language_info": {
   "file_extension": ".jl",
   "mimetype": "application/julia",
   "name": "julia",
   "version": "1.6.2"
  },
  "orig_nbformat": 4
 },
 "nbformat": 4,
 "nbformat_minor": 2
}
