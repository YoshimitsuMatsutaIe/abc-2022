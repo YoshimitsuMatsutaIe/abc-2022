{
 "cells": [
  {
   "cell_type": "markdown",
   "metadata": {},
   "source": [
    "# グラフ化\n",
    "Cで計算したデータをグラフで確認する．"
   ]
  },
  {
   "cell_type": "code",
   "execution_count": null,
   "metadata": {},
   "outputs": [],
   "source": [
    "import matplotlib.pyplot as plt\n",
    "import numpy as np\n",
    "import pandas as pd"
   ]
  },
  {
   "cell_type": "markdown",
   "metadata": {},
   "source": [
    "## y'=ax\n",
    "### オイラー法\n",
    "csv読み込み"
   ]
  },
  {
   "cell_type": "code",
   "execution_count": null,
   "metadata": {},
   "outputs": [],
   "source": [
    "data_exp_e = pd.read_csv(\"exp_euler.csv\")\n",
    "data_exp_e.head()"
   ]
  },
  {
   "cell_type": "markdown",
   "metadata": {},
   "source": [
    "グラフ化"
   ]
  },
  {
   "cell_type": "code",
   "execution_count": null,
   "metadata": {},
   "outputs": [],
   "source": [
    "plt.plot(data_exp_e[\"t\"], data_exp_e[\"x\"], label=\"euler\")\n",
    "plt.legend()"
   ]
  },
  {
   "cell_type": "markdown",
   "metadata": {},
   "source": [
    "### ルンゲクッタ法"
   ]
  },
  {
   "cell_type": "code",
   "execution_count": null,
   "metadata": {},
   "outputs": [],
   "source": [
    "data_exp_rk = pd.read_csv(\"exp_runge_kutta.csv\")\n",
    "data_exp_rk.head()"
   ]
  },
  {
   "cell_type": "markdown",
   "metadata": {},
   "source": [
    "プロット"
   ]
  },
  {
   "cell_type": "code",
   "execution_count": null,
   "metadata": {},
   "outputs": [],
   "source": [
    "plt.plot(data_exp_e[\"t\"], data_exp_e[\"x\"], label=\"euler\")\n",
    "plt.plot(data_exp_rk[\"t\"], data_exp_rk[\"x\"], label=\"runge kutta\")\n",
    "plt.legend()"
   ]
  },
  {
   "cell_type": "markdown",
   "metadata": {},
   "source": [
    "### 厳密解と比較"
   ]
  },
  {
   "cell_type": "code",
   "execution_count": null,
   "metadata": {},
   "outputs": [],
   "source": [
    "data_a = np.exp(data_exp_e[\"t\"])  # 厳密解\n",
    "\n",
    "plt.plot(data_exp_e[\"t\"], data_exp_e[\"x\"], label=\"euler\")\n",
    "plt.plot(data_exp_rk[\"t\"], data_exp_rk[\"x\"], label=\"runge kutta\", marker=\".\")\n",
    "plt.plot(data_exp_e[\"t\"], data_a, label=\"analysis\")\n",
    "plt.legend()"
   ]
  },
  {
   "cell_type": "markdown",
   "metadata": {},
   "source": [
    "****\n",
    "## ローレンツ方程式\n",
    "読み込み"
   ]
  },
  {
   "cell_type": "code",
   "execution_count": null,
   "metadata": {},
   "outputs": [],
   "source": [
    "data_lorenz = pd.read_csv('lorenz_runge_kutta.csv')\n",
    "data_lorenz.head()"
   ]
  },
  {
   "cell_type": "markdown",
   "metadata": {},
   "source": [
    "プロット"
   ]
  },
  {
   "cell_type": "code",
   "execution_count": null,
   "metadata": {},
   "outputs": [],
   "source": [
    "fig = plt.figure(figsize=(8, 8))\n",
    "ax = fig.add_subplot(projection='3d')\n",
    "ax.plot(data_lorenz['x'], data_lorenz['y'], data_lorenz['z'])\n",
    "ax.set_xlabel(\"x\")\n",
    "ax.set_ylabel(\"y\")\n",
    "ax.set_zlabel(\"z\")"
   ]
  }
 ],
 "metadata": {
  "kernelspec": {
   "display_name": "Python 3.9.12 ('base')",
   "language": "python",
   "name": "python3"
  },
  "language_info": {
   "codemirror_mode": {
    "name": "ipython",
    "version": 3
   },
   "file_extension": ".py",
   "mimetype": "text/x-python",
   "name": "python",
   "nbconvert_exporter": "python",
   "pygments_lexer": "ipython3",
   "version": "3.9.12"
  },
  "orig_nbformat": 4,
  "vscode": {
   "interpreter": {
    "hash": "368756e83d2084993ac505becbe47825c8a72b0fc53c20a5043bb5b908d065dc"
   }
  }
 },
 "nbformat": 4,
 "nbformat_minor": 2
}
