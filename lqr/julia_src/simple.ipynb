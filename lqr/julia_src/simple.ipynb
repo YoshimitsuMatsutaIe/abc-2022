{
 "cells": [
  {
   "cell_type": "markdown",
   "metadata": {},
   "source": [
    "# 自分で実装\n",
    "ソルバを使わずに自力で実装．茨の道．"
   ]
  },
  {
   "cell_type": "code",
   "execution_count": 1,
   "metadata": {},
   "outputs": [],
   "source": [
    "using Plots\n",
    "using LinearAlgebra"
   ]
  },
  {
   "cell_type": "code",
   "execution_count": 2,
   "metadata": {},
   "outputs": [],
   "source": [
    "# テスト用のシステムを定義\n",
    "x₀ = [1, 0.5]\n",
    "test = (\n",
    "    A = [\n",
    "        1.1 2\n",
    "        -0.3 -1\n",
    "    ],\n",
    "    B = [\n",
    "        1 2\n",
    "        0.847 3\n",
    "    ],\n",
    "    C = [\n",
    "        1. 0.\n",
    "        0. 1.\n",
    "    ],\n",
    "    Q = diagm([10.0, 10.0]),\n",
    "    R = diagm([1., 1.])\n",
    ");"
   ]
  },
  {
   "cell_type": "markdown",
   "metadata": {},
   "source": [
    "ソルバを使って求めたリカッティ方程式の解"
   ]
  },
  {
   "cell_type": "code",
   "execution_count": 3,
   "metadata": {},
   "outputs": [
    {
     "data": {
      "text/plain": [
       "2×2 Matrix{Float64}:\n",
       "  3.34568  -1.07266\n",
       " -1.07266   1.30235"
      ]
     },
     "metadata": {},
     "output_type": "display_data"
    }
   ],
   "source": [
    "using MatrixEquations\n",
    "P_solver, _, _ = arec(test.A, test.B, test.R, test.Q, zero(test.B))\n",
    "P_solver"
   ]
  },
  {
   "cell_type": "markdown",
   "metadata": {},
   "source": [
    "# 微分方程式を解いて求める\n",
    "力技．こちらは簡単．  "
   ]
  },
  {
   "cell_type": "code",
   "execution_count": 4,
   "metadata": {},
   "outputs": [
    {
     "data": {
      "text/plain": [
       "2×2 Matrix{Float64}:\n",
       "  3.34567  -1.07265\n",
       " -1.07265   1.30235"
      ]
     },
     "metadata": {},
     "output_type": "display_data"
    }
   ],
   "source": [
    "\"\"\"離散時間リカッティ方程式を解く\"\"\"\n",
    "function solve_dare(A, B, Q, R, max=100000, step=0.01)\n",
    "    P = zero(Q)  # 初期値\n",
    "    P_old = zero(Q)\n",
    "\n",
    "    for i in 1:max\n",
    "        copy!(P_old, P)\n",
    "        P = P .+ (P*A .+ A'*P .- P*B*inv(R)*B'*P .+ Q) .* step\n",
    "        if abs.(P_old .- P) |> maximum < 1e-6\n",
    "            break\n",
    "        end\n",
    "    end\n",
    "\n",
    "    P\n",
    "end\n",
    "\n",
    "P = solve_dare(test.A, test.B, test.Q, test.R)\n",
    "P"
   ]
  },
  {
   "cell_type": "markdown",
   "metadata": {},
   "source": [
    "ソルバを使って求めた解と比較"
   ]
  },
  {
   "cell_type": "code",
   "execution_count": 5,
   "metadata": {},
   "outputs": [
    {
     "data": {
      "text/plain": [
       "2×2 Matrix{Float64}:\n",
       " -1.64684e-5   7.15116e-6\n",
       "  7.15116e-6  -3.10528e-6"
      ]
     },
     "metadata": {},
     "output_type": "display_data"
    }
   ],
   "source": [
    "P - P_solver"
   ]
  },
  {
   "cell_type": "markdown",
   "metadata": {},
   "source": [
    "ほぼ合ってる．  \n",
    "\n",
    "****\n",
    "## 有本・ポッターの方法\n"
   ]
  },
  {
   "cell_type": "code",
   "execution_count": 6,
   "metadata": {},
   "outputs": [
    {
     "name": "stdout",
     "output_type": "stream",
     "text": [
      "ℋ の固有値 = [-12.115649317394531, -1.1811568980949894, 1.181156898094985, 12.115649317394515]\n",
      "ℋ の固有ベク"
     ]
    },
    {
     "name": "stdout",
     "output_type": "stream",
     "text": [
      "トル[0.4310250642775694 -0.11749083590616366 0.06591382480071023 -0.4565630106001564; 0.615524177216082 0.09633872852743659 -0.034812361893898296 -0.629353217746572; 0.47452065278940414 -0.8183679104191277 -0.8049907185369575 0.2587304638582561; 0.4584512311067556 0.5542460789757726 0.5885859412429612 0.5731695139620121]\n",
      "1実部が負\n",
      "2実部が負\n",
      "3実部が正\n",
      "4実部が正\n",
      "ℋ の固有値の実部が負なのは, "
     ]
    },
    {
     "name": "stdout",
     "output_type": "stream",
     "text": [
      "Any[1, 2]\n"
     ]
    },
    {
     "data": {
      "text/plain": [
       "2×2 Matrix{Float64}:\n",
       "  0.874702  -0.829872\n",
       " -0.120532   6.5232"
      ]
     },
     "metadata": {},
     "output_type": "display_data"
    }
   ],
   "source": [
    "\"\"\"有本・ポッター\"\"\"\n",
    "function aimoto_poter(A, B, Q, R)\n",
    "    \n",
    "    ℋ = [\n",
    "        A' -B*inv(R)*B'\n",
    "        -Q -A\n",
    "    ]  #  ハミルトン行列\n",
    "    #println(\"ℋ = \", ℋ)\n",
    "\n",
    "    λ_ = eigvals(ℋ)  # ハミルトン行列の固有値\n",
    "    ω_ = eigvecs(ℋ)  # ハミルトン行列の固有ベクトル\n",
    "    println(\"ℋ の固有値 = \", λ_)\n",
    "    println(\"ℋ の固有ベクトル\", ω_)\n",
    "\n",
    "    # ハミルトン行列の固有値が負のものを探す\n",
    "    index = []\n",
    "    for i in 1:size(λ_)[1]\n",
    "        print(i)\n",
    "        if real(λ_[i]) < 0\n",
    "            println(\"実部が負\")\n",
    "            push!(index, i)\n",
    "        else\n",
    "            println(\"実部が正\")\n",
    "        end\n",
    "    end\n",
    "    println(\"ℋ の固有値の実部が負なのは, \", index)\n",
    "    n = size(index)[1]\n",
    "\n",
    "    # Y,Zを計算\n",
    "    ω = Matrix{Float64}(undef, size(ω_)[1], n)  # 未初期化のMatrix\n",
    "\n",
    "    for i in 1:n\n",
    "        ω[:, i] .= ω_[:, index[i]]\n",
    "    end\n",
    "\n",
    "    Y = ω[1:n, :]\n",
    "    Z = ω[n+1:end, :]\n",
    "\n",
    "    P = Z' * inv(Y')\n",
    "    return P\n",
    "\n",
    "end\n",
    "\n",
    "P_arimoto = aimoto_poter(test.A, test.B, test.Q, test.R)\n",
    "P_arimoto"
   ]
  }
 ],
 "metadata": {
  "kernelspec": {
   "display_name": "Julia 1.6.2",
   "language": "julia",
   "name": "julia-1.6"
  },
  "language_info": {
   "file_extension": ".jl",
   "mimetype": "application/julia",
   "name": "julia",
   "version": "1.6.2"
  },
  "orig_nbformat": 4
 },
 "nbformat": 4,
 "nbformat_minor": 2
}
