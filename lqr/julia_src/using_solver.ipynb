{
 "cells": [
  {
   "cell_type": "markdown",
   "metadata": {},
   "source": [
    "# ソルバを使う\n",
    "\n",
    "**MatrixEquations.jl**を使って最適レギュレータを設計する．  \n",
    "公式ページ : [https://docs.juliahub.com/MatrixEquations/1uOBF/1.1.4/](https://docs.juliahub.com/MatrixEquations/1uOBF/1.1.4/)"
   ]
  },
  {
   "cell_type": "code",
   "execution_count": 11,
   "metadata": {},
   "outputs": [],
   "source": [
    "using Plots\n",
    "using LinearAlgebra\n",
    "using MatrixEquations"
   ]
  },
  {
   "cell_type": "markdown",
   "metadata": {},
   "source": [
    "システムを定義"
   ]
  },
  {
   "cell_type": "code",
   "execution_count": 12,
   "metadata": {},
   "outputs": [],
   "source": [
    "x₀ = [1, 0.5]\n",
    "A = [\n",
    "    1.1 2\n",
    "    -0.3 -1\n",
    "]\n",
    "B = [\n",
    "    1 2\n",
    "    0.847 3\n",
    "]\n",
    "C = [\n",
    "    1. 0.\n",
    "    0. 1.\n",
    "];"
   ]
  },
  {
   "cell_type": "markdown",
   "metadata": {},
   "source": [
    "安定性を調べてみる"
   ]
  },
  {
   "cell_type": "code",
   "execution_count": 13,
   "metadata": {},
   "outputs": [
    {
     "data": {
      "text/plain": [
       "2-element Vector{Float64}:\n",
       " -0.6588723439378912\n",
       "  0.7588723439378913"
      ]
     },
     "metadata": {},
     "output_type": "display_data"
    }
   ],
   "source": [
    "eigvals(A)"
   ]
  },
  {
   "cell_type": "markdown",
   "metadata": {},
   "source": [
    "負の固有値を持つので不安定．  \n",
    "初期値応答を調べる．  "
   ]
  },
  {
   "cell_type": "code",
   "execution_count": 14,
   "metadata": {},
   "outputs": [],
   "source": [
    "t = 0:0.01:5\n",
    "x = Vector{typeof(x₀)}(undef, length(t))\n",
    "for i in 1:length(t)\n",
    "    x[i] = exp(A .* t[i]) * x₀\n",
    "end\n",
    "\n",
    "x = permutedims(hcat(x...))\n",
    "plot(t, x[:, 1], label=\"x1\")\n",
    "plot!(t, x[:, 2], label=\"x2\")\n",
    "plot!(xlabel=\"t\")\n",
    "savefig(\"lqr.png\")"
   ]
  },
  {
   "cell_type": "markdown",
   "metadata": {},
   "source": [
    "![1](lqr.png)  \n",
    "発散することがわかる．  \n",
    "\n",
    "## リカッチ方程式を解く\n",
    "`MatrixEquations`の`arec`を使う．  \n",
    "ドキュメント : [https://docs.juliahub.com/MatrixEquations/1uOBF/1.1.4/autodocs/#MatrixEquations.arec](https://docs.juliahub.com/MatrixEquations/1uOBF/1.1.4/autodocs/#MatrixEquations.arec)  \n",
    "\n",
    "`arec`は次の連続代数リカッチ方程式を解く．  \n",
    "\n",
    "<img src=\"https://latex.codecogs.com/png.image?\\dpi{120}&space;\\bg_white&space;A^{\\top}P&plus;PA-(PB&plus;S)R^{-1}(B^{\\top}P&plus;S^{\\top})&plus;Q=0\" title=\"\\bg_white A^{\\top}P+PA-(PB+S)R^{-1}(B^{\\top}P+S^{\\top})+Q=0\" />"
   ]
  },
  {
   "cell_type": "code",
   "execution_count": 15,
   "metadata": {},
   "outputs": [],
   "source": [
    "Q = diagm([10.0, 10.0])\n",
    "R = diagm([1., 1.])\n",
    "S = zero(B)\n",
    "P, E, F = arec(A, B, R, Q, S);"
   ]
  },
  {
   "cell_type": "markdown",
   "metadata": {},
   "source": [
    "戻り値は次の通り．  \n",
    "* `P` : リカッチ方程式の解  \n",
    "* `E` : 最適レギュレータの閉ループの固有値  \n",
    "* `F` : 最適フィードバック行列  "
   ]
  },
  {
   "cell_type": "code",
   "execution_count": 16,
   "metadata": {},
   "outputs": [
    {
     "data": {
      "text/plain": [
       "2×2 Matrix{Float64}:\n",
       "  3.34568  -1.07266\n",
       " -1.07266   1.30235"
      ]
     },
     "metadata": {},
     "output_type": "display_data"
    }
   ],
   "source": [
    "P  # リカッチ方程式の解"
   ]
  },
  {
   "cell_type": "code",
   "execution_count": 17,
   "metadata": {},
   "outputs": [
    {
     "data": {
      "text/plain": [
       "2-element Vector{Float64}:\n",
       " -11.862446758953242\n",
       "  -2.732479989130699"
      ]
     },
     "metadata": {},
     "output_type": "display_data"
    }
   ],
   "source": [
    "E  # 閉ループの固有値"
   ]
  },
  {
   "cell_type": "code",
   "execution_count": 18,
   "metadata": {},
   "outputs": [
    {
     "data": {
      "text/plain": [
       "2×2 Matrix{Float64}:\n",
       " 2.43714  0.0304348\n",
       " 3.47339  1.76174"
      ]
     },
     "metadata": {},
     "output_type": "display_data"
    }
   ],
   "source": [
    "F  # 最適フィードバック行列"
   ]
  },
  {
   "cell_type": "markdown",
   "metadata": {},
   "source": [
    "最適フィードバック行列を入力に使ったときのシステムの時間発展を調べる．  "
   ]
  },
  {
   "cell_type": "code",
   "execution_count": 19,
   "metadata": {},
   "outputs": [],
   "source": [
    "Ā = A .- (B * F)  # 新しいA行列\n",
    "\n",
    "x2 = Vector{typeof(x₀)}(undef, length(t))\n",
    "u2 = Vector{typeof(x₀)}(undef, length(t))\n",
    "for i in 1:length(t)\n",
    "    x2[i] = exp(Ā .* t[i]) * x₀\n",
    "    u2[i] = -F * x2[i]\n",
    "end\n",
    "\n",
    "x2 = permutedims(hcat(x2...))\n",
    "figx = plot(t, x2[:, 1], label=\"x1\")\n",
    "plot!(figx, t, x2[:, 2], label=\"x2\")\n",
    "plot!(figx, xlabel=\"t\")\n",
    "savefig(figx, \"lqr2.png\")\n",
    "\n",
    "u2 = permutedims(hcat(u2...))\n",
    "figu = plot(t, u2[:, 1], label=\"u1\")\n",
    "plot!(figu, t, u2[:, 2], label=\"u2\")\n",
    "plot!(figu, xlabel=\"t\")\n",
    "savefig(figu, \"lqr2u.png\")"
   ]
  },
  {
   "cell_type": "markdown",
   "metadata": {},
   "source": [
    "![2](lqr2.png)  \n",
    "![u](lqr2u.png)  \n",
    "  \n",
    "安定化されていることがわかる．  "
   ]
  }
 ],
 "metadata": {
  "kernelspec": {
   "display_name": "Julia 1.6.2",
   "language": "julia",
   "name": "julia-1.6"
  },
  "language_info": {
   "file_extension": ".jl",
   "mimetype": "application/julia",
   "name": "julia",
   "version": "1.6.2"
  },
  "orig_nbformat": 4
 },
 "nbformat": 4,
 "nbformat_minor": 2
}
