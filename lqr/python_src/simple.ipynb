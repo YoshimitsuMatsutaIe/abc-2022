{
 "cells": [
  {
   "cell_type": "markdown",
   "metadata": {},
   "source": [
    "# 自分で実装"
   ]
  },
  {
   "cell_type": "code",
   "execution_count": 90,
   "metadata": {},
   "outputs": [],
   "source": [
    "import matplotlib.pyplot as plt\n",
    "import numpy as np\n",
    "import scipy as sp\n",
    "from scipy import linalg as LA"
   ]
  },
  {
   "cell_type": "markdown",
   "metadata": {},
   "source": [
    "リカッチ代数方程式\n",
    "$$\n",
    "PA+A^{\\top}P-PBR^{-1}B^{\\top}P+Q=0\n",
    "$$\n",
    "の正定解$P$を求める．  "
   ]
  },
  {
   "cell_type": "code",
   "execution_count": 91,
   "metadata": {},
   "outputs": [
    {
     "data": {
      "text/plain": [
       "array([[ 3.34568216, -1.07265801],\n",
       "       [-1.07265801,  1.30235279]])"
      ]
     },
     "execution_count": 91,
     "metadata": {},
     "output_type": "execute_result"
    }
   ],
   "source": [
    "A = np.array([\n",
    "    [1.1, 2],\n",
    "    [-0.3, -1],\n",
    "])\n",
    "B = np.array([\n",
    "    [1, 2],\n",
    "    [0.847, 3],\n",
    "])\n",
    "Q = np.diag([10.0, 10.0])\n",
    "R = np.diag([1., 1.])\n",
    "\n",
    "P_solver = LA.solve_continuous_are(A, B, Q, R)\n",
    "P_solver  # ソルバを使って求めた解"
   ]
  },
  {
   "cell_type": "markdown",
   "metadata": {},
   "source": [
    "# リカッチの非線形行列微分方程式を解いて求める\n",
    "[教科書](#1)のp.160にある方法．力技．こちらは簡単．  "
   ]
  },
  {
   "cell_type": "code",
   "execution_count": 92,
   "metadata": {},
   "outputs": [
    {
     "data": {
      "text/plain": [
       "array([[ 3.34568216, -1.07265801],\n",
       "       [-1.07265801,  1.30235279]])"
      ]
     },
     "execution_count": 92,
     "metadata": {},
     "output_type": "execute_result"
    }
   ],
   "source": [
    "def solve_care(A, B, Q, R):\n",
    "    P = np.zeros_like(A)\n",
    "    P_ = P.copy()\n",
    "    \n",
    "    invR = np.linalg.inv(R)\n",
    "    \n",
    "    while True:\n",
    "        P += (P @ A + A.T @ P - P @ B @ invR @ B.T @ P + Q) * 0.001\n",
    "        if np.abs(P - P_).max() < 1e-12:\n",
    "            break\n",
    "        P_ = P.copy()\n",
    "    \n",
    "    return P\n",
    "\n",
    "\n",
    "P = solve_care(A, B, Q, R)\n",
    "P"
   ]
  },
  {
   "cell_type": "markdown",
   "metadata": {},
   "source": [
    "scipyの結果と比較"
   ]
  },
  {
   "cell_type": "code",
   "execution_count": 93,
   "metadata": {},
   "outputs": [
    {
     "data": {
      "text/plain": [
       "array([[-1.81811899e-10,  7.89479593e-11],\n",
       "       [ 7.89479593e-11, -3.42814666e-11]])"
      ]
     },
     "execution_count": 93,
     "metadata": {},
     "output_type": "execute_result"
    }
   ],
   "source": [
    "P - P_solver"
   ]
  },
  {
   "cell_type": "markdown",
   "metadata": {},
   "source": [
    "ほぼ同じ．"
   ]
  },
  {
   "cell_type": "markdown",
   "metadata": {},
   "source": [
    "****\n",
    "## 有本・ポッターの方法\n",
    "[教科書](#1)のp.160にある方法．  \n",
    "まずはハミルトン行列$H$をつくる．  \n",
    "$$\n",
    "H = \\begin{bmatrix}\n",
    "A & -BR^{-1}B^{\\top}\\\\\n",
    "-Q & -A^{\\top}\n",
    "\\end{bmatrix}\n",
    "$$"
   ]
  },
  {
   "cell_type": "code",
   "execution_count": 94,
   "metadata": {},
   "outputs": [
    {
     "data": {
      "text/plain": [
       "array([[  1.1     ,   2.      ,  -5.      ,  -6.847   ],\n",
       "       [ -0.3     ,  -1.      ,  -6.847   ,  -9.717409],\n",
       "       [-10.      ,  -0.      ,  -1.1     ,   0.3     ],\n",
       "       [ -0.      , -10.      ,  -2.      ,   1.      ]])"
      ]
     },
     "execution_count": 94,
     "metadata": {},
     "output_type": "execute_result"
    }
   ],
   "source": [
    "H = np.block([\n",
    "    [A, -B @ np.linalg.inv(R) @ B.T],\n",
    "    [-Q, -A.T],\n",
    "])\n",
    "H"
   ]
  },
  {
   "cell_type": "markdown",
   "metadata": {},
   "source": [
    "ハミルトン行列の固有値，固有ベクトルを求める．  "
   ]
  },
  {
   "cell_type": "code",
   "execution_count": 95,
   "metadata": {},
   "outputs": [
    {
     "data": {
      "text/plain": [
       "Text(0, 0.5, 'Im')"
      ]
     },
     "execution_count": 95,
     "metadata": {},
     "output_type": "execute_result"
    },
    {
     "data": {
      "image/png": "[encoded data removed]",
      "text/plain": [
       "<Figure size 432x288 with 1 Axes>"
      ]
     },
     "metadata": {
      "needs_background": "light"
     },
     "output_type": "display_data"
    }
   ],
   "source": [
    "L, W = np.linalg.eig(H)  # 固有値と固有ベクトル\n",
    "\n",
    "plt.scatter(np.real(L), np.imag(L), label=\"eigvals\")\n",
    "plt.legend(); plt.grid()\n",
    "plt.xlabel(\"Re\"); plt.ylabel(\"Im\")"
   ]
  },
  {
   "cell_type": "markdown",
   "metadata": {},
   "source": [
    "最適極は左半面にあるもの全てである．\n",
    "今回は-11.86...と-2.73...の２つが最適極となる．  \n",
    "$i$番目の最適極の固有ベクトル$\\omega_i$を2つに分割する．  \n",
    "$$\n",
    "\\omega_i = \\begin{bmatrix}\n",
    "u_i\\\\\n",
    "v_i\n",
    "\\end{bmatrix}\n",
    "$$"
   ]
  },
  {
   "cell_type": "code",
   "execution_count": 96,
   "metadata": {},
   "outputs": [
    {
     "data": {
      "text/plain": [
       "array([-11.86244676,  -2.73247999,   2.73247999,  11.86244676])"
      ]
     },
     "execution_count": 96,
     "metadata": {},
     "output_type": "execute_result"
    }
   ],
   "source": [
    "L"
   ]
  },
  {
   "cell_type": "code",
   "execution_count": 97,
   "metadata": {},
   "outputs": [
    {
     "data": {
      "text/plain": [
       "array([[ 0.30455389, -0.10098247,  0.31818607, -0.57472618],\n",
       "       [ 0.70135795,  0.36076402,  0.06773247, -0.54094263],\n",
       "       [ 0.26662328, -0.72483166, -0.78949562,  0.45297307],\n",
       "       [ 0.58673332,  0.57816168,  0.52044847,  0.41459169]])"
      ]
     },
     "execution_count": 97,
     "metadata": {},
     "output_type": "execute_result"
    }
   ],
   "source": [
    "W"
   ]
  },
  {
   "cell_type": "code",
   "execution_count": 98,
   "metadata": {},
   "outputs": [],
   "source": [
    "# -11.16...について\n",
    "w1 = W[:, 0:1]\n",
    "u1 = w1[:2, :]\n",
    "v1 = w1[2:, :]\n",
    "\n",
    "# -2.13...について\n",
    "w2 = W[:, 1:2]\n",
    "u2 = w2[:2, :]\n",
    "v2 = w2[2:, :]"
   ]
  },
  {
   "cell_type": "markdown",
   "metadata": {},
   "source": [
    "リカッチ解は次式となる．  \n",
    "$$\n",
    "P = [v_1, v_2, ...,v_n][u_1, u_2, ...,u_n]^{-1}\n",
    "$$"
   ]
  },
  {
   "cell_type": "code",
   "execution_count": 99,
   "metadata": {},
   "outputs": [
    {
     "data": {
      "text/plain": [
       "array([[ 3.34568216, -1.07265801],\n",
       "       [-1.07265801,  1.30235279]])"
      ]
     },
     "execution_count": 99,
     "metadata": {},
     "output_type": "execute_result"
    }
   ],
   "source": [
    "U = np.block([u1, u2])\n",
    "V = np.block([v1, v2])\n",
    "P_ap = V @ np.linalg.inv(U)\n",
    "P_ap"
   ]
  },
  {
   "cell_type": "markdown",
   "metadata": {},
   "source": [
    "ソルバー解と比較"
   ]
  },
  {
   "cell_type": "code",
   "execution_count": 100,
   "metadata": {},
   "outputs": [
    {
     "data": {
      "text/plain": [
       "array([[-3.55271368e-15, -4.44089210e-16],\n",
       "       [ 2.22044605e-15,  4.44089210e-16]])"
      ]
     },
     "execution_count": 100,
     "metadata": {},
     "output_type": "execute_result"
    }
   ],
   "source": [
    "P_ap - P_solver"
   ]
  },
  {
   "cell_type": "markdown",
   "metadata": {},
   "source": [
    "以上を１つの関数にまとめたもの⇓"
   ]
  },
  {
   "cell_type": "code",
   "execution_count": 101,
   "metadata": {},
   "outputs": [],
   "source": [
    "def arimoto_potter(A, B, Q, R):\n",
    "    \"\"\"有本・ポッターの方法\"\"\"\n",
    "    n = len(A)\n",
    "    H = np.block([\n",
    "        [A, -B @ np.linalg.inv(R) @ B.T],\n",
    "        [-Q, -A.T],\n",
    "    ])  # ハミルトン行列\n",
    "    \n",
    "    L, W = np.linalg.eig(H)  # 固有値と固有ベクトル\n",
    "    U, V = [], []\n",
    "    for i, l in enumerate(L):\n",
    "        if np.real(l) < 0:  # 固有値が負の最適極の場合\n",
    "            U.append(W[:n, i:i+1])\n",
    "            V.append(W[n:, i:i+1])\n",
    "    U = np.concatenate(U, axis=1)\n",
    "    V = np.concatenate(V, axis=1)\n",
    "    \n",
    "    return V @ np.linalg.inv(U)"
   ]
  }
 ],
 "metadata": {
  "interpreter": {
   "hash": "f4dfc3534a11df64ca8ab5b1d0d5f00bece38226cd6557b9a8a26359d97dd2dd"
  },
  "kernelspec": {
   "display_name": "Python 3.8.8 ('base')",
   "language": "python",
   "name": "python3"
  },
  "language_info": {
   "codemirror_mode": {
    "name": "ipython",
    "version": 3
   },
   "file_extension": ".py",
   "mimetype": "text/x-python",
   "name": "python",
   "nbconvert_exporter": "python",
   "pygments_lexer": "ipython3",
   "version": "3.8.8"
  },
  "orig_nbformat": 4
 },
 "nbformat": 4,
 "nbformat_minor": 2
}
