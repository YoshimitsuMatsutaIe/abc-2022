{
 "cells": [
  {
   "cell_type": "markdown",
   "metadata": {},
   "source": [
    "# 自分で実装"
   ]
  },
  {
   "cell_type": "code",
   "execution_count": 56,
   "metadata": {},
   "outputs": [],
   "source": [
    "import numpy as np\n",
    "import scipy as sp"
   ]
  },
  {
   "cell_type": "markdown",
   "metadata": {},
   "source": [
    "リカッチ代数方程式\n",
    "$$\n",
    "PA+A^{\\top}P-PBR^{-1}B^{\\top}P+Q=0\n",
    "$$\n",
    "の正定解$P$を求める．  "
   ]
  },
  {
   "cell_type": "code",
   "execution_count": 57,
   "metadata": {},
   "outputs": [
    {
     "data": {
      "text/plain": [
       "array([[ 3.34568216, -1.07265801],\n",
       "       [-1.07265801,  1.30235279]])"
      ]
     },
     "execution_count": 57,
     "metadata": {},
     "output_type": "execute_result"
    }
   ],
   "source": [
    "A = np.array([\n",
    "    [1.1, 2],\n",
    "    [-0.3, -1],\n",
    "])\n",
    "B = np.array([\n",
    "    [1, 2],\n",
    "    [0.847, 3],\n",
    "])\n",
    "Q = np.diag([10.0, 10.0])\n",
    "R = np.diag([1., 1.])\n",
    "\n",
    "P_solver = sp.linalg.solve_continuous_are(A, B, Q, R)\n",
    "P_solver  # ソルバを使って求めた解"
   ]
  },
  {
   "cell_type": "markdown",
   "metadata": {},
   "source": [
    "# リカッチの非線形行列微分方程式を解いて求める\n",
    "[教科書](#1)のp.160にある方法．力技．こちらは簡単．  "
   ]
  },
  {
   "cell_type": "code",
   "execution_count": 58,
   "metadata": {},
   "outputs": [
    {
     "data": {
      "text/plain": [
       "array([[ 3.34568216, -1.07265801],\n",
       "       [-1.07265801,  1.30235279]])"
      ]
     },
     "execution_count": 58,
     "metadata": {},
     "output_type": "execute_result"
    }
   ],
   "source": [
    "def solve_care(A, B, Q, R):\n",
    "    P = np.zeros_like(A)\n",
    "    P_ = P.copy()\n",
    "    \n",
    "    invR = np.linalg.inv(R)\n",
    "    \n",
    "    while True:\n",
    "        P += (P @ A + A.T @ P - P @ B @ invR @ B.T @ P + Q) * 0.001\n",
    "        if np.abs(P - P_).max() < 1e-12:\n",
    "            break\n",
    "        P_ = P.copy()\n",
    "    \n",
    "    return P\n",
    "\n",
    "\n",
    "P = solve_care(A, B, Q, R)\n",
    "P"
   ]
  },
  {
   "cell_type": "markdown",
   "metadata": {},
   "source": [
    "scipyの結果と比較"
   ]
  },
  {
   "cell_type": "code",
   "execution_count": 59,
   "metadata": {},
   "outputs": [
    {
     "data": {
      "text/plain": [
       "array([[-1.81811899e-10,  7.89479593e-11],\n",
       "       [ 7.89479593e-11, -3.42814666e-11]])"
      ]
     },
     "execution_count": 59,
     "metadata": {},
     "output_type": "execute_result"
    }
   ],
   "source": [
    "P - P_solver"
   ]
  },
  {
   "cell_type": "markdown",
   "metadata": {},
   "source": [
    "ほぼ同じ．"
   ]
  },
  {
   "cell_type": "markdown",
   "metadata": {},
   "source": [
    "****\n",
    "## 有本・ポッターの方法\n",
    "[教科書](#1)のp.160にある方法．  \n",
    "詳しくは[julia](../julia_src/simple.ipynb)を見てください．  "
   ]
  },
  {
   "cell_type": "code",
   "execution_count": 69,
   "metadata": {},
   "outputs": [
    {
     "data": {
      "text/plain": [
       "array([[ 3.34568216, -1.07265801],\n",
       "       [-1.07265801,  1.30235279]])"
      ]
     },
     "execution_count": 69,
     "metadata": {},
     "output_type": "execute_result"
    }
   ],
   "source": [
    "def arimoto_potter(A, B, Q, R):\n",
    "    \"\"\"有本・ポッターの方法\"\"\"\n",
    "    n = len(A)\n",
    "    H = np.block([\n",
    "        [A, -B @ np.linalg.inv(R) @ B.T],\n",
    "        [-Q, -A.T],\n",
    "    ])  # ハミルトン行列\n",
    "    \n",
    "    L, W = np.linalg.eig(H)  # 固有値と固有ベクトル\n",
    "    U, V = [], []\n",
    "    for i, l in enumerate(L):\n",
    "        if np.real(l) < 0:  # 固有値が負の最適極の場合\n",
    "            U.append(W[:n, i:i+1])\n",
    "            V.append(W[n:, i:i+1])\n",
    "    U = np.concatenate(U, axis=1)\n",
    "    V = np.concatenate(V, axis=1)\n",
    "    \n",
    "    return V @ np.linalg.inv(U)\n",
    "\n",
    "P_ap = arimoto_potter(A, B, Q, R)\n",
    "P_ap"
   ]
  },
  {
   "cell_type": "code",
   "execution_count": 70,
   "metadata": {},
   "outputs": [
    {
     "data": {
      "text/plain": [
       "array([[-3.55271368e-15, -4.44089210e-16],\n",
       "       [ 2.22044605e-15,  4.44089210e-16]])"
      ]
     },
     "execution_count": 70,
     "metadata": {},
     "output_type": "execute_result"
    }
   ],
   "source": [
    "P_ap - P_solver"
   ]
  }
 ],
 "metadata": {
  "interpreter": {
   "hash": "f4dfc3534a11df64ca8ab5b1d0d5f00bece38226cd6557b9a8a26359d97dd2dd"
  },
  "kernelspec": {
   "display_name": "Python 3.8.8 ('base')",
   "language": "python",
   "name": "python3"
  },
  "language_info": {
   "codemirror_mode": {
    "name": "ipython",
    "version": 3
   },
   "file_extension": ".py",
   "mimetype": "text/x-python",
   "name": "python",
   "nbconvert_exporter": "python",
   "pygments_lexer": "ipython3",
   "version": "3.8.8"
  },
  "orig_nbformat": 4
 },
 "nbformat": 4,
 "nbformat_minor": 2
}
