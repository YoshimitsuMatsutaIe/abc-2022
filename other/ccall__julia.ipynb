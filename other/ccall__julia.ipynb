{
 "cells": [
  {
   "cell_type": "markdown",
   "metadata": {},
   "source": [
    "# julia\n",
    "# C関数の呼び出し\n",
    "PythonやMATLABよりは簡単に呼び出せる． `ccall`を使う．  \n",
    "\n",
    "### 流れ  \n",
    "1. C言語で呼び出したい関数のソースコードを作る\n",
    "2. 作ったソースコードを共有ライブラリ（.so形式）としてビルドする\n",
    "3. juliaで共有ライブラリを呼び出す関数（ラッパー）を書く\n",
    "4. 終わり\n",
    "\n",
    "## 簡単な例\n",
    "シグモイド関数を作ってみる．  \n",
    "$$\n",
    "\\zeta(x) = \\frac{1}{1+e^{-ax}}\n",
    "$$\n",
    "以下C言語のソース  \n",
    "**sigmoid.c**  \n",
    "```c\n",
    "#include <math.h>\n",
    "double sigmoid(double x, double a)\n",
    "{\n",
    "    return 1 / (1 + exp(-a*x));\n",
    "}\n",
    "```\n",
    "\n",
    "共有ライブラリとしてビルドする．  \n",
    "```bash\n",
    "gcc -shared -fPIC -o sigmoid.so sigmoid.c\n",
    "```\n",
    "\n",
    "共有ライブラリ`sigmoid.so`が作成される．  \n",
    "最後に`ccall`を使ってラッパーを書く．  \n",
    "\n",
    "```julia\n",
    "ccall(\n",
    "    (:呼びたい関数名, 共有ライブラリのパス),\n",
    "    戻り値の型,\n",
    "    (引数の型A, 引数の型B, ...),\n",
    "    引数A, 引数B, ...\n",
    ")\n",
    "```"
   ]
  },
  {
   "cell_type": "code",
   "execution_count": 1,
   "metadata": {},
   "outputs": [
    {
     "data": {
      "text/plain": [
       "sigmoid (generic function with 1 method)"
      ]
     },
     "metadata": {},
     "output_type": "display_data"
    }
   ],
   "source": [
    "function sigmoid(x::Float64, a::Float64)\n",
    "    ccall(\n",
    "        (:sigmoid, \"sigmoid.so\"),\n",
    "        Cdouble,\n",
    "        (Cdouble, Cdouble),\n",
    "        x, a\n",
    "    )\n",
    "end"
   ]
  },
  {
   "cell_type": "markdown",
   "metadata": {},
   "source": [
    "普通の関数と同じように利用できる．  "
   ]
  },
  {
   "cell_type": "code",
   "execution_count": 11,
   "metadata": {},
   "outputs": [
    {
     "data": {
      "text/plain": [
       "0.8807970779778823"
      ]
     },
     "metadata": {},
     "output_type": "display_data"
    }
   ],
   "source": [
    "sigmoid(1., 2.)"
   ]
  },
  {
   "cell_type": "markdown",
   "metadata": {},
   "source": [
    "C言語の型とjuliaの型の対応関係は以下の通り．  \n",
    "|C|Alias|julia|\n",
    "|----|----|----|\n",
    "|void|Cvoid|Cvoid|\n",
    "|int|Cint|Int32|\n",
    "|doube|Cdouble|Float64|\n",
    "\n",
    "[https://docs.julialang.org/en/v1/manual/calling-c-and-fortran-code/#mapping-c-types-to-julia](https://docs.julialang.org/en/v1/manual/calling-c-and-fortran-code/#mapping-c-types-to-julia)"
   ]
  },
  {
   "cell_type": "code",
   "execution_count": 10,
   "metadata": {},
   "outputs": [
    {
     "data": {
      "text/plain": [
       "0.8807970779778823"
      ]
     },
     "metadata": {},
     "output_type": "display_data"
    }
   ],
   "source": []
  }
 ],
 "metadata": {
  "kernelspec": {
   "display_name": "Julia 1.6.2",
   "language": "julia",
   "name": "julia-1.6"
  },
  "language_info": {
   "file_extension": ".jl",
   "mimetype": "application/julia",
   "name": "julia",
   "version": "1.6.2"
  },
  "orig_nbformat": 4
 },
 "nbformat": 4,
 "nbformat_minor": 2
}
