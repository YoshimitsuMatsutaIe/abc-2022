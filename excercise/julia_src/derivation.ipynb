{
 "cells": [
  {
   "cell_type": "markdown",
   "metadata": {},
   "source": [
    "# 状態方程式の導出"
   ]
  },
  {
   "cell_type": "code",
   "execution_count": 1,
   "metadata": {},
   "outputs": [],
   "source": [
    "using Symbolics\n",
    "using Latexify"
   ]
  },
  {
   "cell_type": "code",
   "execution_count": 2,
   "metadata": {},
   "outputs": [
    {
     "data": {
      "text/plain": [
       "(::Differential) (generic function with 2 methods)"
      ]
     },
     "metadata": {},
     "output_type": "display_data"
    }
   ],
   "source": [
    "@variables t M m l g D_θ D_x u\n",
    "@variables x(t) θ(t)\n",
    "\n",
    "Dt = Differential(t)\n",
    "\n",
    "v = Dt(x)\n",
    "ω = Dt(θ)\n",
    "\n",
    "\n",
    "Dx = Differential(x)\n",
    "Dv = Differential(v)\n",
    "Dθ = Differential(θ)\n",
    "Dω = Differential(ω)"
   ]
  },
  {
   "cell_type": "markdown",
   "metadata": {},
   "source": [
    "## エネルギー\n",
    "運動エネルギー<img src=\"https://latex.codecogs.com/png.image?\\dpi{120}&space;\\bg_white&space;\\mathfrak{K}\" title=\"\\bg_white \\mathfrak{K}\" />，ポテンシャルエネルギー<img src=\"https://latex.codecogs.com/png.image?\\dpi{120}&space;\\bg_white&space;\\mathfrak{U}\" title=\"\\bg_white \\mathfrak{U}\" />，損失エネルギー<img src=\"https://latex.codecogs.com/png.image?\\dpi{120}&space;\\bg_white&space;\\mathfrak{D}\" title=\"\\bg_white \\mathfrak{D}\" />は次である．  \n",
    "<br>  \n",
    "<img src=\"https://latex.codecogs.com/png.image?\\dpi{120}&space;\\bg_white&space;\\mathfrak{K}=\\frac{2}{3}ml^2\\dot{\\theta}^2&plus;ml\\dot{x}\\dot{\\theta}&plus;\\frac{1}{2}(M&plus;m)\\dot{x}^2\\\\\\\\~~~~~~\\mathfrak{U}=&space;mgl\\cos(\\theta)\\\\\\\\~~~~~~\\mathfrak{D}=&space;\\frac{1}{2}D_{\\theta}\\dot{\\theta}^2&plus;\\frac{1}{2}D_{x}\\dot{x}^2\\\\\" title=\"\\bg_white \\mathfrak{K}=\\frac{2}{3}ml^2\\dot{\\theta}^2+ml\\dot{x}\\dot{\\theta}+\\frac{1}{2}(M+m)\\dot{x}^2\\\\\\\\~~~~~~\\mathfrak{U}= mgl\\cos(\\theta)\\\\\\\\~~~~~~\\mathfrak{D}= \\frac{1}{2}D_{\\theta}\\dot{\\theta}^2+\\frac{1}{2}D_{x}\\dot{x}^2\\\\\" />"
   ]
  },
  {
   "cell_type": "markdown",
   "metadata": {},
   "source": [
    "運動エネルギーを定義"
   ]
  },
  {
   "cell_type": "code",
   "execution_count": 3,
   "metadata": {},
   "outputs": [
    {
     "data": {
      "text/latex": [
       "\\begin{equation}\n",
       "\\left( \\frac{dx(t)}{dt} \\right)^{2} \\left( \\frac{1}{2} M + \\frac{1}{2} m \\right) + \\frac{2}{3} \\left( \\frac{d\\theta(t)}{dt} \\right)^{2} l^{2} m + l m \\frac{dx(t)}{dt} \\frac{d\\theta(t)}{dt} \\cos\\left( \\theta\\left( t \\right) \\right)\n",
       "\\end{equation}\n"
      ],
      "text/plain": [
       "(Differential(t)(x(t))^2)*((1//2)*M + (1//2)*m) + (2//3)*m*(l^2)*(Differential(t)(θ(t))^2) + l*m*Differential(t)(x(t))*Differential(t)(θ(t))*cos(θ(t))"
      ]
     },
     "metadata": {},
     "output_type": "display_data"
    }
   ],
   "source": [
    "K = 2//3*m*l^2*ω^2 + m*l*v*ω*cos(θ) + 1//2*(M+m)*v^2"
   ]
  },
  {
   "cell_type": "markdown",
   "metadata": {},
   "source": [
    "ポテンシャルエネルギーを定義"
   ]
  },
  {
   "cell_type": "code",
   "execution_count": 4,
   "metadata": {},
   "outputs": [
    {
     "data": {
      "text/latex": [
       "\\begin{equation}\n",
       "g l m \\cos\\left( \\theta\\left( t \\right) \\right)\n",
       "\\end{equation}\n"
      ],
      "text/plain": [
       "g*l*m*cos(θ(t))"
      ]
     },
     "metadata": {},
     "output_type": "display_data"
    }
   ],
   "source": [
    "U = m*g*l*cos(θ)"
   ]
  },
  {
   "cell_type": "markdown",
   "metadata": {},
   "source": [
    "ポテンシャルエネルギーを定義"
   ]
  },
  {
   "cell_type": "code",
   "execution_count": 5,
   "metadata": {},
   "outputs": [
    {
     "data": {
      "text/latex": [
       "\\begin{equation}\n",
       "\\frac{1}{2} \\left( \\frac{dx(t)}{dt} \\right)^{2} D_{x} + \\frac{1}{2} \\left( \\frac{d\\theta(t)}{dt} \\right)^{2} D_{\\theta}\n",
       "\\end{equation}\n"
      ],
      "text/plain": [
       "(1//2)*D_x*(Differential(t)(x(t))^2) + (1//2)*D_θ*(Differential(t)(θ(t))^2)"
      ]
     },
     "metadata": {},
     "output_type": "display_data"
    }
   ],
   "source": [
    "D = 1//2*D_θ*ω^2 + 1//2*D_x*v^2"
   ]
  },
  {
   "cell_type": "markdown",
   "metadata": {},
   "source": [
    "## ラグランジュの運動方程式に代入\n",
    "ラグランジュの運動方程式は次式．  \n",
    "<br>\n",
    "<img src=\"https://latex.codecogs.com/png.image?\\dpi{120}&space;\\bg_white&space;\\frac{\\mathrm{d}&space;}{\\mathrm{d}&space;t}(\\frac{\\partial&space;\\mathfrak{K}}{\\partial&space;\\dot{q}_i})-\\frac{\\partial&space;\\mathfrak{K}}{\\partial&space;q_i}&plus;\\frac{\\partial&space;\\mathfrak{U}}{\\partial&space;q_i}&plus;\\frac{\\partial&space;\\mathfrak{D}}{\\partial&space;\\dot{q}_i}=u_i,~i=1,...,l\" title=\"\\bg_white \\frac{\\mathrm{d} }{\\mathrm{d} t}(\\frac{\\partial \\mathfrak{K}}{\\partial \\dot{q}_i})-\\frac{\\partial \\mathfrak{K}}{\\partial q_i}+\\frac{\\partial \\mathfrak{U}}{\\partial q_i}+\\frac{\\partial \\mathfrak{D}}{\\partial \\dot{q}_i}=u_i,~i=1,...,l\" />\n",
    "<br>\n",
    "\n",
    "### x方向\n",
    "運動エネルギーの速度偏微分の時間微分"
   ]
  },
  {
   "cell_type": "code",
   "execution_count": 6,
   "metadata": {},
   "outputs": [
    {
     "data": {
      "text/latex": [
       "\\begin{equation}\n",
       "2 \\mathrm{\\frac{d}{d t}}\\left( \\frac{dx(t)}{dt} \\right) \\left( \\frac{1}{2} M + \\frac{1}{2} m \\right) + l m \\cos\\left( \\theta\\left( t \\right) \\right) \\mathrm{\\frac{d}{d t}}\\left( \\frac{d\\theta(t)}{dt} \\right) - \\left( \\frac{d\\theta(t)}{dt} \\right)^{2} l m \\sin\\left( \\theta\\left( t \\right) \\right)\n",
       "\\end{equation}\n"
      ],
      "text/plain": [
       "2Differential(t)(Differential(t)(x(t)))*((1//2)*M + (1//2)*m) + l*m*cos(θ(t))*Differential(t)(Differential(t)(θ(t))) - (l*m*sin(θ(t))*(Differential(t)(θ(t))^2))"
      ]
     },
     "metadata": {},
     "output_type": "display_data"
    }
   ],
   "source": [
    "dKdv_dot = K |> (Dv * Dt) |> expand_derivatives"
   ]
  },
  {
   "cell_type": "markdown",
   "metadata": {},
   "source": [
    "運動エネルギーの位置偏微分"
   ]
  },
  {
   "cell_type": "code",
   "execution_count": 7,
   "metadata": {},
   "outputs": [
    {
     "data": {
      "text/latex": [
       "\\begin{equation}\n",
       "0\n",
       "\\end{equation}\n"
      ],
      "text/plain": [
       "0"
      ]
     },
     "metadata": {},
     "output_type": "display_data"
    }
   ],
   "source": [
    "dKdx = K |> Dx |> expand_derivatives"
   ]
  },
  {
   "cell_type": "markdown",
   "metadata": {},
   "source": [
    "ポテンシャルエネルギーの位置偏微分"
   ]
  },
  {
   "cell_type": "code",
   "execution_count": 8,
   "metadata": {},
   "outputs": [
    {
     "data": {
      "text/latex": [
       "\\begin{equation}\n",
       "0\n",
       "\\end{equation}\n"
      ],
      "text/plain": [
       "0"
      ]
     },
     "metadata": {},
     "output_type": "display_data"
    }
   ],
   "source": [
    "dUdx = U |> Dx |> expand_derivatives"
   ]
  },
  {
   "cell_type": "markdown",
   "metadata": {},
   "source": [
    "損失エネルギーの速度偏微分"
   ]
  },
  {
   "cell_type": "code",
   "execution_count": 9,
   "metadata": {},
   "outputs": [
    {
     "data": {
      "text/latex": [
       "\\begin{equation}\n",
       "D_{x} \\frac{dx(t)}{dt}\n",
       "\\end{equation}\n"
      ],
      "text/plain": [
       "D_x*Differential(t)(x(t))"
      ]
     },
     "metadata": {},
     "output_type": "display_data"
    }
   ],
   "source": [
    "dDdv = D |> Dv |> expand_derivatives"
   ]
  },
  {
   "cell_type": "markdown",
   "metadata": {},
   "source": [
    "x方向の入力"
   ]
  },
  {
   "cell_type": "code",
   "execution_count": 10,
   "metadata": {},
   "outputs": [
    {
     "data": {
      "text/latex": [
       "\\begin{equation}\n",
       "u\n",
       "\\end{equation}\n"
      ],
      "text/plain": [
       "u"
      ]
     },
     "metadata": {},
     "output_type": "display_data"
    }
   ],
   "source": [
    "u_x = u"
   ]
  },
  {
   "cell_type": "markdown",
   "metadata": {},
   "source": [
    "### theta方向\n",
    "運動エネルギーの角速度偏微分の時間微分"
   ]
  },
  {
   "cell_type": "code",
   "execution_count": 11,
   "metadata": {},
   "outputs": [
    {
     "data": {
      "text/latex": [
       "\\begin{equation}\n",
       "l m \\cos\\left( \\theta\\left( t \\right) \\right) \\mathrm{\\frac{d}{d t}}\\left( \\frac{dx(t)}{dt} \\right) + \\frac{4}{3} l^{2} m \\mathrm{\\frac{d}{d t}}\\left( \\frac{d\\theta(t)}{dt} \\right) - 2 l m \\frac{dx(t)}{dt} \\frac{d\\theta(t)}{dt} \\sin\\left( \\theta\\left( t \\right) \\right)\n",
       "\\end{equation}\n"
      ],
      "text/plain": [
       "l*m*cos(θ(t))*Differential(t)(Differential(t)(x(t))) + (4//3)*m*Differential(t)(Differential(t)(θ(t)))*(l^2) - (2l*m*Differential(t)(x(t))*Differential(t)(θ(t))*sin(θ(t)))"
      ]
     },
     "metadata": {},
     "output_type": "display_data"
    }
   ],
   "source": [
    "dKdω_dot = K |> (Dω * Dt) |> expand_derivatives"
   ]
  },
  {
   "cell_type": "markdown",
   "metadata": {},
   "source": [
    "運動エネルギーの角度偏微分"
   ]
  },
  {
   "cell_type": "code",
   "execution_count": 12,
   "metadata": {},
   "outputs": [
    {
     "data": {
      "text/latex": [
       "\\begin{equation}\n",
       " - l m \\frac{dx(t)}{dt} \\frac{d\\theta(t)}{dt} \\sin\\left( \\theta\\left( t \\right) \\right)\n",
       "\\end{equation}\n"
      ],
      "text/plain": [
       "-l*m*Differential(t)(x(t))*Differential(t)(θ(t))*sin(θ(t))"
      ]
     },
     "metadata": {},
     "output_type": "display_data"
    }
   ],
   "source": [
    "dKdθ = K |> Dθ |> expand_derivatives"
   ]
  },
  {
   "cell_type": "markdown",
   "metadata": {},
   "source": [
    "ポテンシャルエネルギーの角度偏微分"
   ]
  },
  {
   "cell_type": "code",
   "execution_count": 13,
   "metadata": {},
   "outputs": [
    {
     "data": {
      "text/latex": [
       "\\begin{equation}\n",
       " - g l m \\sin\\left( \\theta\\left( t \\right) \\right)\n",
       "\\end{equation}\n"
      ],
      "text/plain": [
       "-g*l*m*sin(θ(t))"
      ]
     },
     "metadata": {},
     "output_type": "display_data"
    }
   ],
   "source": [
    "dUdθ = U |> Dθ |> expand_derivatives"
   ]
  },
  {
   "cell_type": "markdown",
   "metadata": {},
   "source": [
    "損失エネルギーの角速度偏微分"
   ]
  },
  {
   "cell_type": "code",
   "execution_count": 14,
   "metadata": {},
   "outputs": [
    {
     "data": {
      "text/latex": [
       "\\begin{equation}\n",
       "D_{\\theta} \\frac{d\\theta(t)}{dt}\n",
       "\\end{equation}\n"
      ],
      "text/plain": [
       "D_θ*Differential(t)(θ(t))"
      ]
     },
     "metadata": {},
     "output_type": "display_data"
    }
   ],
   "source": [
    "dDdω = D |> Dω |> expand_derivatives"
   ]
  },
  {
   "cell_type": "markdown",
   "metadata": {},
   "source": [
    "回転方向の入力"
   ]
  },
  {
   "cell_type": "code",
   "execution_count": 15,
   "metadata": {},
   "outputs": [
    {
     "data": {
      "text/plain": [
       "0"
      ]
     },
     "metadata": {},
     "output_type": "display_data"
    }
   ],
   "source": [
    "u_θ = 0"
   ]
  },
  {
   "cell_type": "markdown",
   "metadata": {},
   "source": [
    "## 加速度を求める\n",
    "これまでの演算から運動方程式が得られた．  \n",
    "x方向の運動方程式"
   ]
  },
  {
   "cell_type": "code",
   "execution_count": 16,
   "metadata": {},
   "outputs": [
    {
     "data": {
      "text/latex": [
       "\\begin{equation}\n",
       "D_{x} \\frac{dx(t)}{dt} - u + 2 \\mathrm{\\frac{d}{d t}}\\left( \\frac{dx(t)}{dt} \\right) \\left( \\frac{1}{2} M + \\frac{1}{2} m \\right) + l m \\cos\\left( \\theta\\left( t \\right) \\right) \\mathrm{\\frac{d}{d t}}\\left( \\frac{d\\theta(t)}{dt} \\right) - \\left( \\frac{d\\theta(t)}{dt} \\right)^{2} l m \\sin\\left( \\theta\\left( t \\right) \\right)\n",
       "\\end{equation}\n"
      ],
      "text/plain": [
       "D_x*Differential(t)(x(t)) + 2Differential(t)(Differential(t)(x(t)))*((1//2)*M + (1//2)*m) + l*m*cos(θ(t))*Differential(t)(Differential(t)(θ(t))) - u - (l*m*sin(θ(t))*(Differential(t)(θ(t))^2))"
      ]
     },
     "metadata": {},
     "output_type": "display_data"
    }
   ],
   "source": [
    "f_x = dKdv_dot - dKdx + dUdx + dDdv - u_x"
   ]
  },
  {
   "cell_type": "markdown",
   "metadata": {},
   "source": [
    "theta方向の運動方程式"
   ]
  },
  {
   "cell_type": "code",
   "execution_count": 17,
   "metadata": {},
   "outputs": [
    {
     "data": {
      "text/latex": [
       "\\begin{equation}\n",
       "D_{\\theta} \\frac{d\\theta(t)}{dt} + l m \\cos\\left( \\theta\\left( t \\right) \\right) \\mathrm{\\frac{d}{d t}}\\left( \\frac{dx(t)}{dt} \\right) + \\frac{4}{3} l^{2} m \\mathrm{\\frac{d}{d t}}\\left( \\frac{d\\theta(t)}{dt} \\right) - g l m \\sin\\left( \\theta\\left( t \\right) \\right) - l m \\frac{dx(t)}{dt} \\frac{d\\theta(t)}{dt} \\sin\\left( \\theta\\left( t \\right) \\right)\n",
       "\\end{equation}\n"
      ],
      "text/plain": [
       "D_θ*Differential(t)(θ(t)) + l*m*cos(θ(t))*Differential(t)(Differential(t)(x(t))) + (4//3)*m*Differential(t)(Differential(t)(θ(t)))*(l^2) - (g*l*m*sin(θ(t))) - (l*m*Differential(t)(x(t))*Differential(t)(θ(t))*sin(θ(t)))"
      ]
     },
     "metadata": {},
     "output_type": "display_data"
    }
   ],
   "source": [
    "f_θ = dKdω_dot - dKdθ + dUdθ + dDdω - u_θ"
   ]
  },
  {
   "cell_type": "markdown",
   "metadata": {},
   "source": [
    "状態方程式を求めるために，加速度を求める．  \n",
    "運動方程式は加速度<img src=\"https://latex.codecogs.com/png.image?\\dpi{120}&space;\\bg_white&space;\\ddot{x}\" title=\"\\bg_white \\ddot{x}\" />と角加速度<img src=\"https://latex.codecogs.com/png.image?\\dpi{120}&space;\\bg_white&space;\\ddot{\\theta}\" title=\"\\bg_white \\ddot{\\theta}\" />の連立方程式になっているため，`sy.solve`を使って解く．  \n",
    "ついでに式を簡略化．  "
   ]
  },
  {
   "cell_type": "code",
   "execution_count": 28,
   "metadata": {},
   "outputs": [],
   "source": [
    "@variables x_dot, θ_dot, x_ddot, θ_ddot, h, f\n",
    "f_x = substitute(\n",
    "    f_x,\n",
    "    Dict([\n",
    "        expand_derivatives(Dt(v)) => x_ddot,\n",
    "        expand_derivatives(Dt(ω)) => θ_ddot,\n",
    "        expand_derivatives(Dt(x)) => x_dot,\n",
    "        expand_derivatives(Dt(θ)) => θ_dot,\n",
    "        x => h,\n",
    "        θ => f,\n",
    "    ]))\n",
    "f_θ = substitute(\n",
    "    f_θ,\n",
    "    Dict([\n",
    "        expand_derivatives(Dt(v)) => x_ddot,\n",
    "        expand_derivatives(Dt(ω)) => θ_ddot,\n",
    "        expand_derivatives(Dt(x)) => x_dot,\n",
    "        expand_derivatives(Dt(θ)) => θ_dot,\n",
    "        x => h,\n",
    "        θ => f,\n",
    "    ]));"
   ]
  },
  {
   "cell_type": "code",
   "execution_count": 35,
   "metadata": {},
   "outputs": [
    {
     "data": {
      "text/latex": [
       "\\begin{equation}\n",
       "D_{x} x_{dot} - u + 2 x_{ddot} \\left( \\frac{1}{2} M + \\frac{1}{2} m \\right) + l m \\theta_{ddot} \\cos\\left( f \\right) - \\theta_{dot}^{2} l m \\sin\\left( f \\right)\n",
       "\\end{equation}\n"
      ],
      "text/plain": [
       "D_x*x_dot + 2x_ddot*((1//2)*M + (1//2)*m) + l*m*θ_ddot*cos(f) - u - (l*m*sin(f)*(θ_dot^2))"
      ]
     },
     "metadata": {},
     "output_type": "display_data"
    }
   ],
   "source": [
    "f_x"
   ]
  },
  {
   "cell_type": "code",
   "execution_count": 30,
   "metadata": {},
   "outputs": [
    {
     "data": {
      "text/latex": [
       "\\begin{equation}\n",
       "D_{\\theta} \\theta_{dot} + l m x_{ddot} \\cos\\left( f \\right) + \\frac{4}{3} l^{2} m \\theta_{ddot} - g l m \\sin\\left( f \\right) - l m x_{dot} \\theta_{dot} \\sin\\left( f \\right)\n",
       "\\end{equation}\n"
      ],
      "text/plain": [
       "D_θ*θ_dot + l*m*x_ddot*cos(f) + (4//3)*m*θ_ddot*(l^2) - (g*l*m*sin(f)) - (l*m*x_dot*θ_dot*sin(f))"
      ]
     },
     "metadata": {},
     "output_type": "display_data"
    }
   ],
   "source": [
    "f_θ"
   ]
  },
  {
   "cell_type": "code",
   "execution_count": 31,
   "metadata": {},
   "outputs": [
    {
     "ename": "TypeError",
     "evalue": "TypeError: non-boolean (SymbolicUtils.Term{Bool, Nothing}) used in boolean context",
     "output_type": "error",
     "traceback": [
      "TypeError: non-boolean (SymbolicUtils.Term{Bool, Nothing}) used in boolean context\n",
      "\n",
      "Stacktrace:\n",
      "  [1] _remove_zeros!(p::DynamicPolynomials.Polynomial{true, SymbolicUtils.Mul{Real, Int64, Dict{Any, Number}, Nothing}})\n",
      "    @ DynamicPolynomials C:\\Users\\Yoshi\\.julia\\packages\\DynamicPolynomials\\mpulO\\src\\poly.jl:148\n",
      "  [2] Polynomial\n",
      "    @ C:\\Users\\Yoshi\\.julia\\packages\\DynamicPolynomials\\mpulO\\src\\poly.jl:14 [inlined]\n",
      "  [3] Polynomial\n",
      "    @ C:\\Users\\Yoshi\\.julia\\packages\\DynamicPolynomials\\mpulO\\src\\poly.jl:30 [inlined]\n",
      "  [4] DynamicPolynomials.Polynomial(t::DynamicPolynomials.Term{true, SymbolicUtils.Mul{Real, Int64, Dict{Any, Number}, Nothing}})\n",
      "    @ DynamicPolynomials C:\\Users\\Yoshi\\.julia\\packages\\DynamicPolynomials\\mpulO\\src\\poly.jl:60\n",
      "  [5] convertconstant\n",
      "    @ C:\\Users\\Yoshi\\.julia\\packages\\DynamicPolynomials\\mpulO\\src\\poly.jl:53 [inlined]\n",
      "  [6] convert\n",
      "    @ C:\\Users\\Yoshi\\.julia\\packages\\MultivariatePolynomials\\vqcb5\\src\\conversion.jl:4 [inlined]\n",
      "  [7] setindex!(A::Vector{DynamicPolynomials.Polynomial{true, Any}}, x::SymbolicUtils.Mul{Real, Int64, Dict{Any, Number}, Nothing}, i1::Int64)\n",
      "    @ Base .\\array.jl:839\n",
      "  [8] copyto!(dest::Vector{DynamicPolynomials.Polynomial{true, Any}}, src::Tuple{DynamicPolynomials.Polynomial{true, Rational{Int64}}, DynamicPolynomials.Term{true, Int64}, DynamicPolynomials.Polynomial{true, Rational{Int64}}, SymbolicUtils.Mul{Real, Int64, Dict{Any, Number}, Nothing}})\n",
      "    @ Base .\\abstractarray.jl:846\n",
      "  [9] vect(::DynamicPolynomials.Polynomial{true, Rational{Int64}}, ::Vararg{Any, N} where N)\n",
      "    @ Base .\\array.jl:129\n",
      " [10] (::SymbolicUtils.ACRule{typeof(Combinatorics.permutations), SymbolicUtils.Rule{SymbolicUtils.Term{Any, Nothing}, SymbolicUtils.var\"#term_matcher#102\"{Tuple{SymbolicUtils.var\"#literal_matcher#98\"{typeof(+)}, SymbolicUtils.var\"#slot_matcher#99\"{SymbolicUtils.Slot{typeof(SymbolicUtils.ismpoly)}}, SymbolicUtils.var\"#slot_matcher#99\"{SymbolicUtils.Slot{typeof(SymbolicUtils.ismpoly)}}}}, SymbolicUtils.var\"#117#129\"}})(term::SymbolicUtils.Add{Real, Int64, Dict{Any, Number}, Nothing})\n",
      "    @ SymbolicUtils C:\\Users\\Yoshi\\.julia\\packages\\SymbolicUtils\\4n4Gz\\src\\rule.jl:332\n",
      " [11] (::SymbolicUtils.Rewriters.RestartedChain{Vector{SymbolicUtils.AbstractRule}})(x::SymbolicUtils.Add{Real, Int64, Dict{Any, Number}, Nothing})\n",
      "    @ SymbolicUtils.Rewriters C:\\Users\\Yoshi\\.julia\\packages\\SymbolicUtils\\4n4Gz\\src\\rewriters.jl:77\n",
      " [12] (::SymbolicUtils.Rewriters.PassThrough{SymbolicUtils.Rewriters.RestartedChain{Vector{SymbolicUtils.AbstractRule}}})(x::SymbolicUtils.Add{Real, Int64, Dict{Any, Number}, Nothing})\n",
      "    @ SymbolicUtils.Rewriters C:\\Users\\Yoshi\\.julia\\packages\\SymbolicUtils\\4n4Gz\\src\\rewriters.jl:132\n",
      " [13] (::SymbolicUtils.Rewriters.Walk{:post, SymbolicUtils.Rewriters.PassThrough{SymbolicUtils.Rewriters.RestartedChain{Vector{SymbolicUtils.AbstractRule}}}, SymbolicUtils.var\"#simterm#125\"{SymbolicUtils.var\"#simterm#114#126\"}, false})(x::SymbolicUtils.Add{Real, Int64, Dict{Any, Number}, Nothing})\n",
      "    @ SymbolicUtils.Rewriters C:\\Users\\Yoshi\\.julia\\packages\\SymbolicUtils\\4n4Gz\\src\\rewriters.jl:144\n",
      " [14] (::SymbolicUtils.Rewriters.Fixpoint{SymbolicUtils.Rewriters.Walk{:post, SymbolicUtils.Rewriters.PassThrough{SymbolicUtils.Rewriters.RestartedChain{Vector{SymbolicUtils.AbstractRule}}}, SymbolicUtils.var\"#simterm#125\"{SymbolicUtils.var\"#simterm#114#126\"}, false}})(x::SymbolicUtils.Add{Real, Int64, Dict{Any, Number}, Nothing})\n",
      "    @ SymbolicUtils.Rewriters C:\\Users\\Yoshi\\.julia\\packages\\SymbolicUtils\\4n4Gz\\src\\rewriters.jl:104\n",
      " [15] to_mpoly(t::SymbolicUtils.Add{Real, Int64, Dict{Any, Number}, Nothing}, variable_type::Type, dicts::Tuple{OrderedCollections.OrderedDict{SymbolicUtils.Sym, Any}, OrderedCollections.OrderedDict{Any, SymbolicUtils.Sym}})\n",
      "    @ SymbolicUtils C:\\Users\\Yoshi\\.julia\\packages\\SymbolicUtils\\4n4Gz\\src\\abstractalgebra.jl:91\n",
      " [16] to_mpoly\n",
      "    @ C:\\Users\\Yoshi\\.julia\\packages\\SymbolicUtils\\4n4Gz\\src\\abstractalgebra.jl:78 [inlined]\n",
      " [17] expand(expr::SymbolicUtils.Add{Real, Int64, Dict{Any, Number}, Nothing}, variable_type::Type) (repeats 2 times)\n",
      "    @ SymbolicUtils C:\\Users\\Yoshi\\.julia\\packages\\SymbolicUtils\\4n4Gz\\src\\abstractalgebra.jl:173\n",
      " [18] (::SymbolicUtils.Rewriters.Chain)(x::SymbolicUtils.Add{Real, Int64, Dict{Any, Number}, Nothing})\n",
      "    @ SymbolicUtils.Rewriters C:\\Users\\Yoshi\\.julia\\packages\\SymbolicUtils\\4n4Gz\\src\\rewriters.jl:62\n",
      " [19] (::SymbolicUtils.Rewriters.Fixpoint{SymbolicUtils.Rewriters.Chain})(x::SymbolicUtils.Add{Real, Int64, Dict{Any, Number}, Nothing})\n",
      "    @ SymbolicUtils.Rewriters C:\\Users\\Yoshi\\.julia\\packages\\SymbolicUtils\\4n4Gz\\src\\rewriters.jl:104\n",
      " [20] IfElse\n",
      "    @ C:\\Users\\Yoshi\\.julia\\packages\\SymbolicUtils\\4n4Gz\\src\\rewriters.jl:51 [inlined]\n",
      " [21] (::SymbolicUtils.Rewriters.PassThrough{SymbolicUtils.Rewriters.IfElse{typeof(SymbolicUtils.istree), SymbolicUtils.Rewriters.Fixpoint{SymbolicUtils.Rewriters.Chain}, SymbolicUtils.Rewriters.Empty}})(x::SymbolicUtils.Add{Real, Int64, Dict{Any, Number}, Nothing})\n",
      "    @ SymbolicUtils.Rewriters C:\\Users\\Yoshi\\.julia\\packages\\SymbolicUtils\\4n4Gz\\src\\rewriters.jl:132\n",
      " [22] simplify(x::SymbolicUtils.Add{Real, Int64, Dict{Any, Number}, Nothing}; expand::Bool, polynorm::Nothing, threaded::Bool, thread_subtree_cutoff::Int64, rewriter::Nothing)\n",
      "    @ SymbolicUtils C:\\Users\\Yoshi\\.julia\\packages\\SymbolicUtils\\4n4Gz\\src\\api.jl:37\n",
      " [23] simplify(n::Num; kw::Base.Iterators.Pairs{Symbol, Bool, Tuple{Symbol}, NamedTuple{(:expand,), Tuple{Bool}}})\n",
      "    @ Symbolics C:\\Users\\Yoshi\\.julia\\packages\\Symbolics\\fd3w9\\src\\Symbolics.jl:126\n",
      " [24] #31\n",
      "    @ .\\broadcast.jl:1297 [inlined]\n",
      " [25] _broadcast_getindex_evalf\n",
      "    @ .\\broadcast.jl:648 [inlined]\n",
      " [26] _broadcast_getindex\n",
      "    @ .\\broadcast.jl:621 [inlined]\n",
      " [27] getindex\n",
      "    @ .\\broadcast.jl:575 [inlined]\n",
      " [28] copy\n",
      "    @ .\\broadcast.jl:922 [inlined]\n",
      " [29] materialize\n",
      "    @ .\\broadcast.jl:883 [inlined]\n",
      " [30] _solve(A::Matrix{Num}, b::Vector{Num}, do_simplify::Bool)\n",
      "    @ Symbolics C:\\Users\\Yoshi\\.julia\\packages\\Symbolics\\fd3w9\\src\\linear_algebra.jl:101\n",
      " [31] solve_for(eqs::Vector{Equation}, vars::Vector{Num}; simplify::Bool, check::Bool)\n",
      "    @ Symbolics C:\\Users\\Yoshi\\.julia\\packages\\Symbolics\\fd3w9\\src\\linear_algebra.jl:95\n",
      " [32] solve_for(eqs::Vector{Equation}, vars::Vector{Num})\n",
      "    @ Symbolics C:\\Users\\Yoshi\\.julia\\packages\\Symbolics\\fd3w9\\src\\linear_algebra.jl:92\n",
      " [33] top-level scope\n",
      "    @ c:\\Users\\Yoshi\\source_control_study\\ans_2022\\excercise\\julia_src\\derivation.ipynb:1\n",
      " [34] eval\n",
      "    @ .\\boot.jl:360 [inlined]\n",
      " [35] include_string(mapexpr::typeof(REPL.softscope), mod::Module, code::String, filename::String)\n",
      "    @ Base .\\loading.jl:1116\n",
      " [36] #invokelatest#2\n",
      "    @ .\\essentials.jl:708 [inlined]\n",
      " [37] invokelatest\n",
      "    @ .\\essentials.jl:706 [inlined]\n",
      " [38] (::VSCodeServer.var\"#146#147\"{VSCodeServer.NotebookRunCellArguments, String})()\n",
      "    @ VSCodeServer c:\\Users\\Yoshi\\.vscode\\extensions\\julialang.language-julia-1.5.10\\scripts\\packages\\VSCodeServer\\src\\serve_notebook.jl:18\n",
      " [39] withpath(f::VSCodeServer.var\"#146#147\"{VSCodeServer.NotebookRunCellArguments, String}, path::String)\n",
      "    @ VSCodeServer c:\\Users\\Yoshi\\.vscode\\extensions\\julialang.language-julia-1.5.10\\scripts\\packages\\VSCodeServer\\src\\repl.jl:185\n",
      " [40] notebook_runcell_request(conn::VSCodeServer.JSONRPC.JSONRPCEndpoint{Base.PipeEndpoint, Base.PipeEndpoint}, params::VSCodeServer.NotebookRunCellArguments)\n",
      "    @ VSCodeServer c:\\Users\\Yoshi\\.vscode\\extensions\\julialang.language-julia-1.5.10\\scripts\\packages\\VSCodeServer\\src\\serve_notebook.jl:14\n",
      " [41] dispatch_msg(x::VSCodeServer.JSONRPC.JSONRPCEndpoint{Base.PipeEndpoint, Base.PipeEndpoint}, dispatcher::VSCodeServer.JSONRPC.MsgDispatcher, msg::Dict{String, Any})\n",
      "    @ VSCodeServer.JSONRPC c:\\Users\\Yoshi\\.vscode\\extensions\\julialang.language-julia-1.5.10\\scripts\\packages\\JSONRPC\\src\\typed.jl:67\n",
      " [42] serve_notebook(pipename::String; crashreporting_pipename::String)\n",
      "    @ VSCodeServer c:\\Users\\Yoshi\\.vscode\\extensions\\julialang.language-julia-1.5.10\\scripts\\packages\\VSCodeServer\\src\\serve_notebook.jl:94\n",
      " [43] top-level scope\n",
      "    @ c:\\Users\\Yoshi\\.vscode\\extensions\\julialang.language-julia-1.5.10\\scripts\\notebook\\notebook.jl:12\n",
      " [44] include(mod::Module, _path::String)\n",
      "    @ Base .\\Base.jl:386\n",
      " [45] exec_options(opts::Base.JLOptions)\n",
      "    @ Base .\\client.jl:285\n",
      " [46] _start()\n",
      "    @ Base .\\client.jl:485"
     ]
    }
   ],
   "source": [
    "Symbolics.solve_for([f_x~0, f_θ~0], [x_ddot, θ_ddot])"
   ]
  }
 ],
 "metadata": {
  "kernelspec": {
   "display_name": "Julia 1.6.2",
   "language": "julia",
   "name": "julia-1.6"
  },
  "language_info": {
   "file_extension": ".jl",
   "mimetype": "application/julia",
   "name": "julia",
   "version": "1.6.2"
  },
  "orig_nbformat": 4
 },
 "nbformat": 4,
 "nbformat_minor": 2
}
