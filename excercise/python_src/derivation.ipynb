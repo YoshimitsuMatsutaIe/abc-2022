{
 "cells": [
  {
   "cell_type": "markdown",
   "metadata": {},
   "source": [
    "# 状態方程式の導出\n",
    "倒立振子のダイナミクスをラグランジュの運動方程式から導出する．  "
   ]
  },
  {
   "cell_type": "code",
   "execution_count": 29,
   "metadata": {},
   "outputs": [],
   "source": [
    "import sympy as sy"
   ]
  },
  {
   "cell_type": "markdown",
   "metadata": {},
   "source": [
    "## 必要なシンボリック文字を用意"
   ]
  },
  {
   "cell_type": "code",
   "execution_count": 30,
   "metadata": {},
   "outputs": [],
   "source": [
    "t = sy.Symbol(\"t\")  # 時刻\n",
    "M = sy.Symbol(\"M\")  # 台車の質量\n",
    "m = sy.Symbol(\"m\")  # 振り子の質量\n",
    "l = sy.Symbol(\"l\")  # 長さ\n",
    "L = 2*l\n",
    "g = sy.Symbol(\"g\")  # 重力加速度\n",
    "D_theta, D_x = sy.symbols(\"D_theta, D_x\")  # 回転方向と並進方向の摩擦係数\n",
    "\n",
    "x = sy.Function(\"x\")  # 台車の位置\n",
    "theta = sy.Function(\"theta\")  # 振り子の角度\n",
    "u = sy.Symbol(\"u\")  # 制御入力"
   ]
  },
  {
   "cell_type": "markdown",
   "metadata": {},
   "source": [
    "## エネルギー\n",
    "運動エネルギー<img src=\"https://latex.codecogs.com/png.image?\\dpi{120}&space;\\bg_white&space;\\mathfrak{K}\" title=\"\\bg_white \\mathfrak{K}\" />，ポテンシャルエネルギー<img src=\"https://latex.codecogs.com/png.image?\\dpi{120}&space;\\bg_white&space;\\mathfrak{U}\" title=\"\\bg_white \\mathfrak{U}\" />，損失エネルギー<img src=\"https://latex.codecogs.com/png.image?\\dpi{120}&space;\\bg_white&space;\\mathfrak{D}\" title=\"\\bg_white \\mathfrak{D}\" />は次である．  \n",
    "<br>  \n",
    "<img src=\"https://latex.codecogs.com/png.image?\\dpi{120}&space;\\bg_white&space;\\mathfrak{K}=\\frac{2}{3}ml^2\\dot{\\theta}^2&plus;ml\\dot{x}\\dot{\\theta}&plus;\\frac{1}{2}(M&plus;m)\\dot{x}^2\\\\\\\\~~~~~~\\mathfrak{U}=&space;mgl\\cos(\\theta)\\\\\\\\~~~~~~\\mathfrak{D}=&space;\\frac{1}{2}D_{\\theta}\\dot{\\theta}^2&plus;\\frac{1}{2}D_{x}\\dot{x}^2\\\\\" title=\"\\bg_white \\mathfrak{K}=\\frac{2}{3}ml^2\\dot{\\theta}^2+ml\\dot{x}\\dot{\\theta}+\\frac{1}{2}(M+m)\\dot{x}^2\\\\\\\\~~~~~~\\mathfrak{U}= mgl\\cos(\\theta)\\\\\\\\~~~~~~\\mathfrak{D}= \\frac{1}{2}D_{\\theta}\\dot{\\theta}^2+\\frac{1}{2}D_{x}\\dot{x}^2\\\\\" />"
   ]
  },
  {
   "cell_type": "markdown",
   "metadata": {},
   "source": [
    "運動エネルギーを定義"
   ]
  },
  {
   "cell_type": "code",
   "execution_count": 31,
   "metadata": {},
   "outputs": [
    {
     "data": {
      "text/latex": [
       "$\\displaystyle \\frac{2 l^{2} m \\left(\\frac{d}{d t} \\theta{\\left(t \\right)}\\right)^{2}}{3} + l m \\cos{\\left(\\theta{\\left(t \\right)} \\right)} \\frac{d}{d t} \\theta{\\left(t \\right)} \\frac{d}{d t} x{\\left(t \\right)} + \\left(\\frac{M}{2} + \\frac{m}{2}\\right) \\left(\\frac{d}{d t} x{\\left(t \\right)}\\right)^{2}$"
      ],
      "text/plain": [
       "2*l**2*m*Derivative(theta(t), t)**2/3 + l*m*cos(theta(t))*Derivative(theta(t), t)*Derivative(x(t), t) + (M/2 + m/2)*Derivative(x(t), t)**2"
      ]
     },
     "execution_count": 31,
     "metadata": {},
     "output_type": "execute_result"
    }
   ],
   "source": [
    "K = sy.Rational(2, 3)*m*l**2*sy.Derivative(theta(t), t)**2 +\\\n",
    "    m*l*sy.Derivative(x(t), t)*sy.Derivative(theta(t), t)*sy.cos(theta(t)) +\\\n",
    "        sy.Rational(1, 2)*(M+m)*sy.Derivative(x(t), t)**2\n",
    "K"
   ]
  },
  {
   "cell_type": "markdown",
   "metadata": {},
   "source": [
    "ポテンシャルエネルギーを定義"
   ]
  },
  {
   "cell_type": "code",
   "execution_count": 32,
   "metadata": {},
   "outputs": [
    {
     "data": {
      "text/latex": [
       "$\\displaystyle g l m \\cos{\\left(\\theta{\\left(t \\right)} \\right)}$"
      ],
      "text/plain": [
       "g*l*m*cos(theta(t))"
      ]
     },
     "execution_count": 32,
     "metadata": {},
     "output_type": "execute_result"
    }
   ],
   "source": [
    "U = m*g*l*sy.cos(theta(t))\n",
    "U"
   ]
  },
  {
   "cell_type": "markdown",
   "metadata": {},
   "source": [
    "損失エネルギーを定義"
   ]
  },
  {
   "cell_type": "code",
   "execution_count": 33,
   "metadata": {},
   "outputs": [
    {
     "data": {
      "text/latex": [
       "$\\displaystyle \\frac{D_{\\theta} \\left(\\frac{d}{d t} \\theta{\\left(t \\right)}\\right)^{2}}{2} + \\frac{D_{x} \\left(\\frac{d}{d t} x{\\left(t \\right)}\\right)^{2}}{2}$"
      ],
      "text/plain": [
       "D_theta*Derivative(theta(t), t)**2/2 + D_x*Derivative(x(t), t)**2/2"
      ]
     },
     "execution_count": 33,
     "metadata": {},
     "output_type": "execute_result"
    }
   ],
   "source": [
    "D = sy.Rational(1, 2)*D_theta*sy.Derivative(theta(t), t)**2 + sy.Rational(1, 2)*D_x*sy.Derivative(x(t), t)**2\n",
    "D"
   ]
  },
  {
   "cell_type": "markdown",
   "metadata": {},
   "source": [
    "## ラグランジュの運動方程式に代入\n",
    "ラグランジュの運動方程式は次式．  \n",
    "<br>\n",
    "<img src=\"https://latex.codecogs.com/png.image?\\dpi{120}&space;\\bg_white&space;\\frac{\\mathrm{d}&space;}{\\mathrm{d}&space;t}(\\frac{\\partial&space;\\mathfrak{K}}{\\partial&space;\\dot{q}_i})-\\frac{\\partial&space;\\mathfrak{K}}{\\partial&space;q_i}&plus;\\frac{\\partial&space;\\mathfrak{U}}{\\partial&space;q_i}&plus;\\frac{\\partial&space;\\mathfrak{D}}{\\partial&space;\\dot{q}_i}=u_i,~i=1,...,l\" title=\"\\bg_white \\frac{\\mathrm{d} }{\\mathrm{d} t}(\\frac{\\partial \\mathfrak{K}}{\\partial \\dot{q}_i})-\\frac{\\partial \\mathfrak{K}}{\\partial q_i}+\\frac{\\partial \\mathfrak{U}}{\\partial q_i}+\\frac{\\partial \\mathfrak{D}}{\\partial \\dot{q}_i}=u_i,~i=1,...,l\" />\n",
    "<br>\n",
    "\n",
    "### x方向\n",
    "運動エネルギーの速度偏微分の時間微分"
   ]
  },
  {
   "cell_type": "code",
   "execution_count": 34,
   "metadata": {},
   "outputs": [
    {
     "data": {
      "text/latex": [
       "$\\displaystyle - l m \\sin{\\left(\\theta{\\left(t \\right)} \\right)} \\left(\\frac{d}{d t} \\theta{\\left(t \\right)}\\right)^{2} + l m \\cos{\\left(\\theta{\\left(t \\right)} \\right)} \\frac{d^{2}}{d t^{2}} \\theta{\\left(t \\right)} + \\left(M + m\\right) \\frac{d^{2}}{d t^{2}} x{\\left(t \\right)}$"
      ],
      "text/plain": [
       "-l*m*sin(theta(t))*Derivative(theta(t), t)**2 + l*m*cos(theta(t))*Derivative(theta(t), (t, 2)) + (M + m)*Derivative(x(t), (t, 2))"
      ]
     },
     "execution_count": 34,
     "metadata": {},
     "output_type": "execute_result"
    }
   ],
   "source": [
    "dKdv = sy.diff(K, sy.Derivative(x(t), t))\n",
    "dKdv_dot = sy.diff(dKdv, t)\n",
    "dKdv_dot"
   ]
  },
  {
   "cell_type": "markdown",
   "metadata": {},
   "source": [
    "運動エネルギーの位置偏微分"
   ]
  },
  {
   "cell_type": "code",
   "execution_count": 35,
   "metadata": {},
   "outputs": [
    {
     "data": {
      "text/latex": [
       "$\\displaystyle 0$"
      ],
      "text/plain": [
       "0"
      ]
     },
     "execution_count": 35,
     "metadata": {},
     "output_type": "execute_result"
    }
   ],
   "source": [
    "dKdx = sy.diff(K, x(t))\n",
    "dKdx"
   ]
  },
  {
   "cell_type": "markdown",
   "metadata": {},
   "source": [
    "ポテンシャルエネルギーの位置偏微分"
   ]
  },
  {
   "cell_type": "code",
   "execution_count": 36,
   "metadata": {},
   "outputs": [
    {
     "data": {
      "text/latex": [
       "$\\displaystyle 0$"
      ],
      "text/plain": [
       "0"
      ]
     },
     "execution_count": 36,
     "metadata": {},
     "output_type": "execute_result"
    }
   ],
   "source": [
    "dUdx = sy.diff(U, x(t))\n",
    "dUdx"
   ]
  },
  {
   "cell_type": "markdown",
   "metadata": {},
   "source": [
    "損失エネルギーの速度偏微分"
   ]
  },
  {
   "cell_type": "code",
   "execution_count": 37,
   "metadata": {},
   "outputs": [
    {
     "data": {
      "text/latex": [
       "$\\displaystyle D_{x} \\frac{d}{d t} x{\\left(t \\right)}$"
      ],
      "text/plain": [
       "D_x*Derivative(x(t), t)"
      ]
     },
     "execution_count": 37,
     "metadata": {},
     "output_type": "execute_result"
    }
   ],
   "source": [
    "dDdv = sy.diff(D, sy.Derivative(x(t), t))\n",
    "dDdv"
   ]
  },
  {
   "cell_type": "markdown",
   "metadata": {},
   "source": [
    "x方向の入力"
   ]
  },
  {
   "cell_type": "code",
   "execution_count": 38,
   "metadata": {},
   "outputs": [
    {
     "data": {
      "text/latex": [
       "$\\displaystyle u$"
      ],
      "text/plain": [
       "u"
      ]
     },
     "execution_count": 38,
     "metadata": {},
     "output_type": "execute_result"
    }
   ],
   "source": [
    "u_x = u\n",
    "u_x"
   ]
  },
  {
   "cell_type": "markdown",
   "metadata": {},
   "source": [
    "### theta方向\n",
    "運動エネルギーの角速度偏微分の時間微分"
   ]
  },
  {
   "cell_type": "code",
   "execution_count": 39,
   "metadata": {},
   "outputs": [
    {
     "data": {
      "text/latex": [
       "$\\displaystyle \\frac{4 l^{2} m \\frac{d^{2}}{d t^{2}} \\theta{\\left(t \\right)}}{3} - l m \\sin{\\left(\\theta{\\left(t \\right)} \\right)} \\frac{d}{d t} \\theta{\\left(t \\right)} \\frac{d}{d t} x{\\left(t \\right)} + l m \\cos{\\left(\\theta{\\left(t \\right)} \\right)} \\frac{d^{2}}{d t^{2}} x{\\left(t \\right)}$"
      ],
      "text/plain": [
       "4*l**2*m*Derivative(theta(t), (t, 2))/3 - l*m*sin(theta(t))*Derivative(theta(t), t)*Derivative(x(t), t) + l*m*cos(theta(t))*Derivative(x(t), (t, 2))"
      ]
     },
     "execution_count": 39,
     "metadata": {},
     "output_type": "execute_result"
    }
   ],
   "source": [
    "dKdomega = sy.diff(K, sy.Derivative(theta(t), t))\n",
    "dKdomega_dot = sy.diff(dKdomega, t)\n",
    "dKdomega_dot"
   ]
  },
  {
   "cell_type": "markdown",
   "metadata": {},
   "source": [
    "運動エネルギーの角度偏微分"
   ]
  },
  {
   "cell_type": "code",
   "execution_count": 40,
   "metadata": {},
   "outputs": [
    {
     "data": {
      "text/latex": [
       "$\\displaystyle - l m \\sin{\\left(\\theta{\\left(t \\right)} \\right)} \\frac{d}{d t} \\theta{\\left(t \\right)} \\frac{d}{d t} x{\\left(t \\right)}$"
      ],
      "text/plain": [
       "-l*m*sin(theta(t))*Derivative(theta(t), t)*Derivative(x(t), t)"
      ]
     },
     "execution_count": 40,
     "metadata": {},
     "output_type": "execute_result"
    }
   ],
   "source": [
    "dKdtheta = sy.diff(K, theta(t))\n",
    "dKdtheta"
   ]
  },
  {
   "cell_type": "markdown",
   "metadata": {},
   "source": [
    "ポテンシャルエネルギーの角度偏微分"
   ]
  },
  {
   "cell_type": "code",
   "execution_count": 41,
   "metadata": {},
   "outputs": [
    {
     "data": {
      "text/latex": [
       "$\\displaystyle - g l m \\sin{\\left(\\theta{\\left(t \\right)} \\right)}$"
      ],
      "text/plain": [
       "-g*l*m*sin(theta(t))"
      ]
     },
     "execution_count": 41,
     "metadata": {},
     "output_type": "execute_result"
    }
   ],
   "source": [
    "dUdtheta = sy.diff(U, theta(t))\n",
    "dUdtheta"
   ]
  },
  {
   "cell_type": "markdown",
   "metadata": {},
   "source": [
    "損失エネルギーの角速度偏微分"
   ]
  },
  {
   "cell_type": "code",
   "execution_count": 42,
   "metadata": {},
   "outputs": [
    {
     "data": {
      "text/latex": [
       "$\\displaystyle D_{\\theta} \\frac{d}{d t} \\theta{\\left(t \\right)}$"
      ],
      "text/plain": [
       "D_theta*Derivative(theta(t), t)"
      ]
     },
     "execution_count": 42,
     "metadata": {},
     "output_type": "execute_result"
    }
   ],
   "source": [
    "dDdomega = sy.diff(D, sy.Derivative(theta(t), t))\n",
    "dDdomega"
   ]
  },
  {
   "cell_type": "markdown",
   "metadata": {},
   "source": [
    "回転方向の入力"
   ]
  },
  {
   "cell_type": "code",
   "execution_count": 43,
   "metadata": {},
   "outputs": [
    {
     "data": {
      "text/plain": [
       "0"
      ]
     },
     "execution_count": 43,
     "metadata": {},
     "output_type": "execute_result"
    }
   ],
   "source": [
    "u_theta = 0\n",
    "u_theta"
   ]
  },
  {
   "cell_type": "markdown",
   "metadata": {},
   "source": [
    "## 加速度を求める\n",
    "これまでの演算から運動方程式が得られた．  \n",
    "x方向の運動方程式"
   ]
  },
  {
   "cell_type": "code",
   "execution_count": 44,
   "metadata": {},
   "outputs": [
    {
     "data": {
      "text/latex": [
       "$\\displaystyle D_{x} \\frac{d}{d t} x{\\left(t \\right)} - l m \\sin{\\left(\\theta{\\left(t \\right)} \\right)} \\left(\\frac{d}{d t} \\theta{\\left(t \\right)}\\right)^{2} + l m \\cos{\\left(\\theta{\\left(t \\right)} \\right)} \\frac{d^{2}}{d t^{2}} \\theta{\\left(t \\right)} - u + \\left(M + m\\right) \\frac{d^{2}}{d t^{2}} x{\\left(t \\right)}$"
      ],
      "text/plain": [
       "D_x*Derivative(x(t), t) - l*m*sin(theta(t))*Derivative(theta(t), t)**2 + l*m*cos(theta(t))*Derivative(theta(t), (t, 2)) - u + (M + m)*Derivative(x(t), (t, 2))"
      ]
     },
     "execution_count": 44,
     "metadata": {},
     "output_type": "execute_result"
    }
   ],
   "source": [
    "f_x = dKdv_dot - dKdx + dUdx + dDdv - u_x\n",
    "f_x"
   ]
  },
  {
   "cell_type": "markdown",
   "metadata": {},
   "source": [
    "theta方向の運動方程式"
   ]
  },
  {
   "cell_type": "code",
   "execution_count": 45,
   "metadata": {},
   "outputs": [
    {
     "data": {
      "text/latex": [
       "$\\displaystyle D_{\\theta} \\frac{d}{d t} \\theta{\\left(t \\right)} - g l m \\sin{\\left(\\theta{\\left(t \\right)} \\right)} + \\frac{4 l^{2} m \\frac{d^{2}}{d t^{2}} \\theta{\\left(t \\right)}}{3} + l m \\cos{\\left(\\theta{\\left(t \\right)} \\right)} \\frac{d^{2}}{d t^{2}} x{\\left(t \\right)}$"
      ],
      "text/plain": [
       "D_theta*Derivative(theta(t), t) - g*l*m*sin(theta(t)) + 4*l**2*m*Derivative(theta(t), (t, 2))/3 + l*m*cos(theta(t))*Derivative(x(t), (t, 2))"
      ]
     },
     "execution_count": 45,
     "metadata": {},
     "output_type": "execute_result"
    }
   ],
   "source": [
    "f_theta = dKdomega_dot - dKdtheta + dUdtheta + dDdomega - u_theta\n",
    "f_theta"
   ]
  },
  {
   "cell_type": "markdown",
   "metadata": {},
   "source": [
    "状態方程式を求めるために，加速度を求める．  \n",
    "運動方程式は加速度<img src=\"https://latex.codecogs.com/png.image?\\dpi{120}&space;\\bg_white&space;\\ddot{x}\" title=\"\\bg_white \\ddot{x}\" />と角加速度<img src=\"https://latex.codecogs.com/png.image?\\dpi{120}&space;\\bg_white&space;\\ddot{\\theta}\" title=\"\\bg_white \\ddot{\\theta}\" />の連立方程式になっているため，`sy.solve`を使って解く．  \n",
    "ついでに式を簡略化．  "
   ]
  },
  {
   "cell_type": "code",
   "execution_count": 46,
   "metadata": {},
   "outputs": [],
   "source": [
    "sol = sy.solve(\n",
    "    [f_x, f_theta],\n",
    "    [sy.Derivative(sy.Derivative(x(t), t), t), sy.Derivative(sy.Derivative(theta(t), t), t)]\n",
    ")\n",
    "for k in sol.keys():\n",
    "    sol[k] = sol[k].simplify()"
   ]
  },
  {
   "cell_type": "markdown",
   "metadata": {},
   "source": [
    "求まった加速度は以下の通り．  "
   ]
  },
  {
   "cell_type": "code",
   "execution_count": 47,
   "metadata": {},
   "outputs": [
    {
     "data": {
      "text/latex": [
       "$\\displaystyle \\frac{3 D_{\\theta} \\cos{\\left(\\theta{\\left(t \\right)} \\right)} \\frac{d}{d t} \\theta{\\left(t \\right)} - 4 D_{x} l \\frac{d}{d t} x{\\left(t \\right)} - \\frac{3 g l m \\sin{\\left(2 \\theta{\\left(t \\right)} \\right)}}{2} + 4 l^{2} m \\sin{\\left(\\theta{\\left(t \\right)} \\right)} \\left(\\frac{d}{d t} \\theta{\\left(t \\right)}\\right)^{2} + 4 l u}{l \\left(4 M + 3 m \\sin^{2}{\\left(\\theta{\\left(t \\right)} \\right)} + m\\right)}$"
      ],
      "text/plain": [
       "(3*D_theta*cos(theta(t))*Derivative(theta(t), t) - 4*D_x*l*Derivative(x(t), t) - 3*g*l*m*sin(2*theta(t))/2 + 4*l**2*m*sin(theta(t))*Derivative(theta(t), t)**2 + 4*l*u)/(l*(4*M + 3*m*sin(theta(t))**2 + m))"
      ]
     },
     "execution_count": 47,
     "metadata": {},
     "output_type": "execute_result"
    }
   ],
   "source": [
    "a_x = sol[sy.Derivative(x(t), (t, 2))]\n",
    "a_x"
   ]
  },
  {
   "cell_type": "code",
   "execution_count": 48,
   "metadata": {},
   "outputs": [
    {
     "data": {
      "text/latex": [
       "$\\displaystyle \\frac{3 \\left(- D_{\\theta} M \\frac{d}{d t} \\theta{\\left(t \\right)} - D_{\\theta} m \\frac{d}{d t} \\theta{\\left(t \\right)} + D_{x} l m \\cos{\\left(\\theta{\\left(t \\right)} \\right)} \\frac{d}{d t} x{\\left(t \\right)} + M g l m \\sin{\\left(\\theta{\\left(t \\right)} \\right)} + g l m^{2} \\sin{\\left(\\theta{\\left(t \\right)} \\right)} - \\frac{l^{2} m^{2} \\sin{\\left(2 \\theta{\\left(t \\right)} \\right)} \\left(\\frac{d}{d t} \\theta{\\left(t \\right)}\\right)^{2}}{2} - l m u \\cos{\\left(\\theta{\\left(t \\right)} \\right)}\\right)}{l^{2} m \\left(4 M + 3 m \\sin^{2}{\\left(\\theta{\\left(t \\right)} \\right)} + m\\right)}$"
      ],
      "text/plain": [
       "3*(-D_theta*M*Derivative(theta(t), t) - D_theta*m*Derivative(theta(t), t) + D_x*l*m*cos(theta(t))*Derivative(x(t), t) + M*g*l*m*sin(theta(t)) + g*l*m**2*sin(theta(t)) - l**2*m**2*sin(2*theta(t))*Derivative(theta(t), t)**2/2 - l*m*u*cos(theta(t)))/(l**2*m*(4*M + 3*m*sin(theta(t))**2 + m))"
      ]
     },
     "execution_count": 48,
     "metadata": {},
     "output_type": "execute_result"
    }
   ],
   "source": [
    "a_theta = sol[sy.Derivative(theta(t), (t, 2))]\n",
    "a_theta"
   ]
  },
  {
   "cell_type": "markdown",
   "metadata": {},
   "source": [
    "## 状態変数\n",
    "次のように状態変数をおく．  \n",
    "<img src=\"https://latex.codecogs.com/png.image?\\dpi{120}&space;\\bg_white&space;x=x_1,~\\dot{x}=x_2,~\\theta=x_3,~\\dot{\\theta}=x_4\" title=\"\\bg_white x=x_1,~\\dot{x}=x_2,~\\theta=x_3,~\\dot{\\theta}=x_4\" />  \n",
    "<br>\n",
    "<img src=\"https://latex.codecogs.com/png.image?\\dpi{120}&space;\\bg_white&space;\\textbf{x}=\\begin{pmatrix}x_1&space;\\\\x_2&space;\\\\x_3&space;\\\\x_4\\end{pmatrix}\" title=\"\\bg_white \\textbf{x}=\\begin{pmatrix}x_1 \\\\x_2 \\\\x_3 \\\\x_4\\end{pmatrix}\" />"
   ]
  },
  {
   "cell_type": "code",
   "execution_count": 49,
   "metadata": {},
   "outputs": [
    {
     "data": {
      "text/latex": [
       "$\\displaystyle \\left[\\begin{array}{c}x_{0, 0}\\\\x_{1, 0}\\\\x_{2, 0}\\\\x_{3, 0}\\end{array}\\right]$"
      ],
      "text/plain": [
       "Matrix([\n",
       "[x[0, 0]],\n",
       "[x[1, 0]],\n",
       "[x[2, 0]],\n",
       "[x[3, 0]]])"
      ]
     },
     "execution_count": 49,
     "metadata": {},
     "output_type": "execute_result"
    }
   ],
   "source": [
    "X = sy.Matrix(sy.MatrixSymbol('x', 4, 1))\n",
    "X"
   ]
  },
  {
   "cell_type": "markdown",
   "metadata": {},
   "source": [
    "状態変数を運動方程式に代入"
   ]
  },
  {
   "cell_type": "code",
   "execution_count": 53,
   "metadata": {},
   "outputs": [
    {
     "data": {
      "text/latex": [
       "$\\displaystyle \\left[\\begin{matrix}x_{1, 0}\\\\\\frac{3 D_{\\theta} \\cos{\\left(x_{2, 0} \\right)} x_{3, 0} - 4 D_{x} l x_{1, 0} - \\frac{3 g l m \\sin{\\left(2 x_{2, 0} \\right)}}{2} + 4 l^{2} m \\sin{\\left(x_{2, 0} \\right)} x_{3, 0}^{2} + 4 l u}{l \\left(4 M + 3 m \\sin^{2}{\\left(x_{2, 0} \\right)} + m\\right)}\\\\x_{3, 0}\\\\\\frac{3 \\left(- D_{\\theta} M x_{3, 0} - D_{\\theta} m x_{3, 0} + D_{x} l m \\cos{\\left(x_{2, 0} \\right)} x_{1, 0} + M g l m \\sin{\\left(x_{2, 0} \\right)} + g l m^{2} \\sin{\\left(x_{2, 0} \\right)} - \\frac{l^{2} m^{2} \\sin{\\left(2 x_{2, 0} \\right)} x_{3, 0}^{2}}{2} - l m u \\cos{\\left(x_{2, 0} \\right)}\\right)}{l^{2} m \\left(4 M + 3 m \\sin^{2}{\\left(x_{2, 0} \\right)} + m\\right)}\\end{matrix}\\right]$"
      ],
      "text/plain": [
       "Matrix([\n",
       "[                                                                                                                                                                                                                       x[1, 0]],\n",
       "[                                                                  (3*D_theta*cos(x[2, 0])*x[3, 0] - 4*D_x*l*x[1, 0] - 3*g*l*m*sin(2*x[2, 0])/2 + 4*l**2*m*sin(x[2, 0])*x[3, 0]**2 + 4*l*u)/(l*(4*M + 3*m*sin(x[2, 0])**2 + m))],\n",
       "[                                                                                                                                                                                                                       x[3, 0]],\n",
       "[3*(-D_theta*M*x[3, 0] - D_theta*m*x[3, 0] + D_x*l*m*cos(x[2, 0])*x[1, 0] + M*g*l*m*sin(x[2, 0]) + g*l*m**2*sin(x[2, 0]) - l**2*m**2*sin(2*x[2, 0])*x[3, 0]**2/2 - l*m*u*cos(x[2, 0]))/(l**2*m*(4*M + 3*m*sin(x[2, 0])**2 + m))]])"
      ]
     },
     "execution_count": 53,
     "metadata": {},
     "output_type": "execute_result"
    }
   ],
   "source": [
    "x1_dot = X[1, 0]\n",
    "x3_dot = X[3, 0]\n",
    "\n",
    "x2_dot = a_x.subs([\n",
    "    (sy.Derivative(x(t), t), X[1, 0]),\n",
    "    (sy.Derivative(theta(t), t), X[3, 0]),\n",
    "    (x(t), X[0, 0]),\n",
    "    (theta(t), X[2, 0])\n",
    "])\n",
    "\n",
    "x4_dot = a_theta.subs([\n",
    "    (sy.Derivative(x(t), t), X[1, 0]),\n",
    "    (sy.Derivative(theta(t), t), X[3, 0]),\n",
    "    (x(t), X[0, 0]),\n",
    "    (theta(t), X[2, 0])\n",
    "])\n",
    "\n",
    "\n",
    "Fxu = sy.Matrix([\n",
    "    [x1_dot],\n",
    "    [x2_dot],\n",
    "    [x3_dot],\n",
    "    [x4_dot],\n",
    "])\n",
    "Fxu"
   ]
  },
  {
   "cell_type": "markdown",
   "metadata": {},
   "source": [
    "状態方程式が求まった．  \n",
    "<img src=\"https://latex.codecogs.com/png.image?\\dpi{120}&space;\\bg_white&space;\\dot{\\textbf{x}}=f(\\textbf{x},&space;u)\" title=\"\\bg_white \\dot{\\textbf{x}}=f(\\textbf{x}, u)\" />\n",
    "\n",
    "****\n",
    "# 状態方程式の線形化\n",
    "まず状態方程式を入力アフィンの形にする  \n",
    "<img src=\"https://latex.codecogs.com/png.image?\\dpi{120}&space;\\bg_white&space;\\dot{\\textbf{x}}=f(\\textbf{x})&space;&plus;&space;\\textbf{B}u\" title=\"\\bg_white \\dot{\\textbf{x}}=f(\\textbf{x}) + \\textbf{B}u\" />"
   ]
  },
  {
   "cell_type": "code",
   "execution_count": null,
   "metadata": {},
   "outputs": [
    {
     "data": {
      "text/latex": [
       "$\\displaystyle \\left[\\begin{matrix}x_{1, 0}\\\\\\frac{3 D_{\\theta} \\cos{\\left(x_{2, 0} \\right)} x_{3, 0} - 4 D_{x} l x_{1, 0} - \\frac{3 g l m \\sin{\\left(2 x_{2, 0} \\right)}}{2} + 4 l^{2} m \\sin{\\left(x_{2, 0} \\right)} x_{3, 0}^{2}}{l \\left(4 M + 3 m \\sin^{2}{\\left(x_{2, 0} \\right)} + m\\right)}\\\\x_{3, 0}\\\\\\frac{3 \\left(- D_{\\theta} M x_{3, 0} - D_{\\theta} m x_{3, 0} + D_{x} l m \\cos{\\left(x_{2, 0} \\right)} x_{1, 0} + M g l m \\sin{\\left(x_{2, 0} \\right)} + g l m^{2} \\sin{\\left(x_{2, 0} \\right)} - \\frac{l^{2} m^{2} \\sin{\\left(2 x_{2, 0} \\right)} x_{3, 0}^{2}}{2}\\right)}{l^{2} m \\left(4 M + 3 m \\sin^{2}{\\left(x_{2, 0} \\right)} + m\\right)}\\end{matrix}\\right]$"
      ],
      "text/plain": [
       "Matrix([\n",
       "[                                                                                                                                                                                                  x[1, 0]],\n",
       "[                                                     (3*D_theta*cos(x[2, 0])*x[3, 0] - 4*D_x*l*x[1, 0] - 3*g*l*m*sin(2*x[2, 0])/2 + 4*l**2*m*sin(x[2, 0])*x[3, 0]**2)/(l*(4*M + 3*m*sin(x[2, 0])**2 + m))],\n",
       "[                                                                                                                                                                                                  x[3, 0]],\n",
       "[3*(-D_theta*M*x[3, 0] - D_theta*m*x[3, 0] + D_x*l*m*cos(x[2, 0])*x[1, 0] + M*g*l*m*sin(x[2, 0]) + g*l*m**2*sin(x[2, 0]) - l**2*m**2*sin(2*x[2, 0])*x[3, 0]**2/2)/(l**2*m*(4*M + 3*m*sin(x[2, 0])**2 + m))]])"
      ]
     },
     "execution_count": 25,
     "metadata": {},
     "output_type": "execute_result"
    }
   ],
   "source": [
    "fx = Fxu.subs(u, 0)\n",
    "fx"
   ]
  },
  {
   "cell_type": "code",
   "execution_count": null,
   "metadata": {},
   "outputs": [
    {
     "data": {
      "text/latex": [
       "$\\displaystyle \\left[\\begin{matrix}0\\\\\\frac{4 l}{4 M l + 3 l m \\sin^{2}{\\left(x_{2, 0} \\right)} + l m}\\\\0\\\\- \\frac{3 l m \\cos{\\left(x_{2, 0} \\right)}}{4 M l^{2} m + 3 l^{2} m^{2} \\sin^{2}{\\left(x_{2, 0} \\right)} + l^{2} m^{2}}\\end{matrix}\\right]$"
      ],
      "text/plain": [
       "Matrix([\n",
       "[                                                                         0],\n",
       "[                                 4*l/(4*M*l + 3*l*m*sin(x[2, 0])**2 + l*m)],\n",
       "[                                                                         0],\n",
       "[-3*l*m*cos(x[2, 0])/(4*M*l**2*m + 3*l**2*m**2*sin(x[2, 0])**2 + l**2*m**2)]])"
      ]
     },
     "execution_count": 26,
     "metadata": {},
     "output_type": "execute_result"
    }
   ],
   "source": [
    "Fxu = Fxu.expand()\n",
    "B = sy.Matrix([\n",
    "    [Fxu[0,0].coeff(u, 1)],\n",
    "    [Fxu[1,0].coeff(u, 1)],\n",
    "    [Fxu[2,0].coeff(u, 1)],\n",
    "    [Fxu[3,0].coeff(u, 1)],\n",
    "])\n",
    "B"
   ]
  },
  {
   "cell_type": "markdown",
   "metadata": {},
   "source": [
    "fxを状態ベクトルで偏微分し，x'近傍で線形化する  \n",
    "<img src=\"https://latex.codecogs.com/png.image?\\dpi{120}&space;\\bg_white&space;f(\\textbf{x})\\approx\\left.\\begin{matrix}\\frac{\\partial&space;f}{\\partial&space;\\textbf{x}}\\end{matrix}\\right|_{\\textbf{x}=\\textbf{x}'}\\textbf{x}=\\textbf{A}\\textbf{x}&space;\" title=\"\\bg_white f(\\textbf{x})\\approx\\left.\\begin{matrix}\\frac{\\partial f}{\\partial \\textbf{x}}\\end{matrix}\\right|_{\\textbf{x}=\\textbf{x}'}\\textbf{x}=\\textbf{A}\\textbf{x} \" />"
   ]
  },
  {
   "cell_type": "code",
   "execution_count": null,
   "metadata": {},
   "outputs": [
    {
     "data": {
      "text/latex": [
       "$\\displaystyle \\left[\\begin{matrix}0 & 1 & 0 & 0\\\\0 & - \\frac{4 D_{x}}{4 M + 3 m \\sin^{2}{\\left(x_{2, 0} \\right)} + m} & - \\frac{6 m \\left(3 D_{\\theta} \\cos{\\left(x_{2, 0} \\right)} x_{3, 0} - 4 D_{x} l x_{1, 0} - \\frac{3 g l m \\sin{\\left(2 x_{2, 0} \\right)}}{2} + 4 l^{2} m \\sin{\\left(x_{2, 0} \\right)} x_{3, 0}^{2}\\right) \\sin{\\left(x_{2, 0} \\right)} \\cos{\\left(x_{2, 0} \\right)}}{l \\left(4 M + 3 m \\sin^{2}{\\left(x_{2, 0} \\right)} + m\\right)^{2}} + \\frac{- 3 D_{\\theta} \\sin{\\left(x_{2, 0} \\right)} x_{3, 0} - 3 g l m \\cos{\\left(2 x_{2, 0} \\right)} + 4 l^{2} m \\cos{\\left(x_{2, 0} \\right)} x_{3, 0}^{2}}{l \\left(4 M + 3 m \\sin^{2}{\\left(x_{2, 0} \\right)} + m\\right)} & \\frac{3 D_{\\theta} \\cos{\\left(x_{2, 0} \\right)} + 8 l^{2} m \\sin{\\left(x_{2, 0} \\right)} x_{3, 0}}{l \\left(4 M + 3 m \\sin^{2}{\\left(x_{2, 0} \\right)} + m\\right)}\\\\0 & 0 & 0 & 1\\\\0 & \\frac{3 D_{x} \\cos{\\left(x_{2, 0} \\right)}}{l \\left(4 M + 3 m \\sin^{2}{\\left(x_{2, 0} \\right)} + m\\right)} & - \\frac{18 \\left(- D_{\\theta} M x_{3, 0} - D_{\\theta} m x_{3, 0} + D_{x} l m \\cos{\\left(x_{2, 0} \\right)} x_{1, 0} + M g l m \\sin{\\left(x_{2, 0} \\right)} + g l m^{2} \\sin{\\left(x_{2, 0} \\right)} - \\frac{l^{2} m^{2} \\sin{\\left(2 x_{2, 0} \\right)} x_{3, 0}^{2}}{2}\\right) \\sin{\\left(x_{2, 0} \\right)} \\cos{\\left(x_{2, 0} \\right)}}{l^{2} \\left(4 M + 3 m \\sin^{2}{\\left(x_{2, 0} \\right)} + m\\right)^{2}} + \\frac{3 \\left(- D_{x} l m \\sin{\\left(x_{2, 0} \\right)} x_{1, 0} + M g l m \\cos{\\left(x_{2, 0} \\right)} + g l m^{2} \\cos{\\left(x_{2, 0} \\right)} - l^{2} m^{2} \\cos{\\left(2 x_{2, 0} \\right)} x_{3, 0}^{2}\\right)}{l^{2} m \\left(4 M + 3 m \\sin^{2}{\\left(x_{2, 0} \\right)} + m\\right)} & \\frac{3 \\left(- D_{\\theta} M - D_{\\theta} m - l^{2} m^{2} \\sin{\\left(2 x_{2, 0} \\right)} x_{3, 0}\\right)}{l^{2} m \\left(4 M + 3 m \\sin^{2}{\\left(x_{2, 0} \\right)} + m\\right)}\\end{matrix}\\right]$"
      ],
      "text/plain": [
       "Matrix([\n",
       "[0,                                                      1,                                                                                                                                                                                                                                                                                                                                                                                                        0,                                                                                                      0],\n",
       "[0,                 -4*D_x/(4*M + 3*m*sin(x[2, 0])**2 + m),                                                                               -6*m*(3*D_theta*cos(x[2, 0])*x[3, 0] - 4*D_x*l*x[1, 0] - 3*g*l*m*sin(2*x[2, 0])/2 + 4*l**2*m*sin(x[2, 0])*x[3, 0]**2)*sin(x[2, 0])*cos(x[2, 0])/(l*(4*M + 3*m*sin(x[2, 0])**2 + m)**2) + (-3*D_theta*sin(x[2, 0])*x[3, 0] - 3*g*l*m*cos(2*x[2, 0]) + 4*l**2*m*cos(x[2, 0])*x[3, 0]**2)/(l*(4*M + 3*m*sin(x[2, 0])**2 + m)),           (3*D_theta*cos(x[2, 0]) + 8*l**2*m*sin(x[2, 0])*x[3, 0])/(l*(4*M + 3*m*sin(x[2, 0])**2 + m))],\n",
       "[0,                                                      0,                                                                                                                                                                                                                                                                                                                                                                                                        0,                                                                                                      1],\n",
       "[0, 3*D_x*cos(x[2, 0])/(l*(4*M + 3*m*sin(x[2, 0])**2 + m)), -18*(-D_theta*M*x[3, 0] - D_theta*m*x[3, 0] + D_x*l*m*cos(x[2, 0])*x[1, 0] + M*g*l*m*sin(x[2, 0]) + g*l*m**2*sin(x[2, 0]) - l**2*m**2*sin(2*x[2, 0])*x[3, 0]**2/2)*sin(x[2, 0])*cos(x[2, 0])/(l**2*(4*M + 3*m*sin(x[2, 0])**2 + m)**2) + 3*(-D_x*l*m*sin(x[2, 0])*x[1, 0] + M*g*l*m*cos(x[2, 0]) + g*l*m**2*cos(x[2, 0]) - l**2*m**2*cos(2*x[2, 0])*x[3, 0]**2)/(l**2*m*(4*M + 3*m*sin(x[2, 0])**2 + m)), 3*(-D_theta*M - D_theta*m - l**2*m**2*sin(2*x[2, 0])*x[3, 0])/(l**2*m*(4*M + 3*m*sin(x[2, 0])**2 + m))]])"
      ]
     },
     "execution_count": 27,
     "metadata": {},
     "output_type": "execute_result"
    }
   ],
   "source": [
    "A = fx.jacobian(X)\n",
    "A"
   ]
  },
  {
   "cell_type": "markdown",
   "metadata": {},
   "source": [
    "****\n",
    "# ファイルに出力\n",
    "求めた状態方程式をファイルに書き出す．  \n",
    "## py出力"
   ]
  },
  {
   "cell_type": "code",
   "execution_count": null,
   "metadata": {},
   "outputs": [],
   "source": [
    "from sympy.printing.numpy import NumPyPrinter\n",
    "\n",
    "with open(\"state_eq.py\", \"w\") as f:\n",
    "    numpy_word = \"import numpy\\n\\ndef f(x, u, m, M, l, g, D_x, D_theta):\\n    return \"\n",
    "    f.write(numpy_word)\n",
    "    f.write(NumPyPrinter().doprint(Fxu))\n",
    "\n",
    "with open(\"A.py\", \"w\") as f:\n",
    "    numpy_word = \"import numpy\\n\\ndef f(x, m, M, l, g, D_x, D_theta):\\n    return \"\n",
    "    f.write(numpy_word)\n",
    "    f.write(NumPyPrinter().doprint(A))\n",
    "\n",
    "with open(\"B.py\", \"w\") as f:\n",
    "    numpy_word = \"import numpy\\n\\ndef f(x, m, M, l, g, D_x, D_theta):\\n    return \"\n",
    "    f.write(numpy_word)\n",
    "    f.write(NumPyPrinter().doprint(B))"
   ]
  },
  {
   "cell_type": "markdown",
   "metadata": {},
   "source": [
    "## Cコード出力\n"
   ]
  },
  {
   "cell_type": "code",
   "execution_count": null,
   "metadata": {},
   "outputs": [],
   "source": [
    "from sympy.utilities.codegen import codegen\n",
    "\n",
    "codegen(\n",
    "    name_expr = (\"state_eq\", Fxu),\n",
    "    language = \"C\",\n",
    "    project= \"state_eq\",\n",
    "    to_files = True\n",
    ")\n",
    "\n",
    "codegen(\n",
    "    name_expr = (\"A\", A),\n",
    "    language = \"C\",\n",
    "    project= \"A\",\n",
    "    to_files = True\n",
    ")\n",
    "codegen(\n",
    "    name_expr = (\"B\", B),\n",
    "    language = \"C\",\n",
    "    project= \"B\",\n",
    "    to_files = True\n",
    ")"
   ]
  },
  {
   "cell_type": "code",
   "execution_count": null,
   "metadata": {},
   "outputs": [],
   "source": [
    "from sympy import julia_code\n",
    "with open(\"ju.txt\", \"w\") as f:\n",
    "    f.write(julia_code(Fxu))\n",
    "    f.write(\"\\n\")\n",
    "    f.write(julia_code(A))\n",
    "    f.write(\"\\n\")\n",
    "    f.write(julia_code(B))"
   ]
  }
 ],
 "metadata": {
  "interpreter": {
   "hash": "f4dfc3534a11df64ca8ab5b1d0d5f00bece38226cd6557b9a8a26359d97dd2dd"
  },
  "kernelspec": {
   "display_name": "Python 3.8.8 64-bit ('base': conda)",
   "language": "python",
   "name": "python3"
  },
  "language_info": {
   "codemirror_mode": {
    "name": "ipython",
    "version": 3
   },
   "file_extension": ".py",
   "mimetype": "text/x-python",
   "name": "python",
   "nbconvert_exporter": "python",
   "pygments_lexer": "ipython3",
   "version": "3.8.8"
  },
  "orig_nbformat": 4
 },
 "nbformat": 4,
 "nbformat_minor": 2
}
