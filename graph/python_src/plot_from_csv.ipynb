{
 "cells": [
  {
   "cell_type": "markdown",
   "metadata": {},
   "source": [
    "# csvからのグラフ化\n",
    "シミュレーション結果はcsv形式で保存することが多い．  \n",
    "ここではcsvデータからグラフを作る方法を説明する．  "
   ]
  },
  {
   "cell_type": "code",
   "execution_count": 2,
   "metadata": {},
   "outputs": [],
   "source": [
    "import matplotlib.pyplot as plt\n",
    "\n",
    "import numpy as np\n",
    "import pandas as pd"
   ]
  },
  {
   "cell_type": "markdown",
   "metadata": {},
   "source": [
    "同ディレクトリにあるwith_header.csvとwithout_header.csvを使用する．  \n",
    "どちらもsデータは同じ．"
   ]
  },
  {
   "cell_type": "markdown",
   "metadata": {},
   "source": [
    "## ヘッダーがない場合\n",
    "正確にはcsvに文字列，bool値がなく数値のみの場合．この場合はnumpyを使うのが簡単．"
   ]
  },
  {
   "cell_type": "code",
   "execution_count": 8,
   "metadata": {},
   "outputs": [],
   "source": [
    "data1 = np.loadtxt(\"without_header.csv\", delimiter=',', dtype='float64')"
   ]
  },
  {
   "cell_type": "markdown",
   "metadata": {},
   "source": [
    "プロットはいつもどおり"
   ]
  },
  {
   "cell_type": "code",
   "execution_count": 14,
   "metadata": {},
   "outputs": [
    {
     "data": {
      "text/plain": [
       "<matplotlib.legend.Legend at 0x1ba2e7ba490>"
      ]
     },
     "execution_count": 14,
     "metadata": {},
     "output_type": "execute_result"
    },
    {
     "data": {
      "image/png": "[encoded data removed]",
      "text/plain": [
       "<Figure size 432x288 with 1 Axes>"
      ]
     },
     "metadata": {
      "needs_background": "light"
     },
     "output_type": "display_data"
    }
   ],
   "source": [
    "plt.plot(data1[:, 0], data1[:, 1], label=\"l_0_0\")\n",
    "plt.plot(data1[:, 0], data1[:, 2], label=\"l_0_1\")\n",
    "plt.plot(data1[:, 0], data1[:, 3], label=\"l_0_2\")\n",
    "plt.legend()"
   ]
  },
  {
   "cell_type": "markdown",
   "metadata": {},
   "source": [
    "## ヘッダーがある場合\n",
    "`np.loadtxt`でもヘッダーをスキップすれば読み込めるが，多くの場合ヘッダーも利用したい．  \n",
    "ヘッダーを含めてcsvファイルを読み込むにはpandasを使うのが楽（ヘッダーがある場合でもpandasのほうがやりやすい）．  \n",
    "* `pandas.read_csv(csvのパス)` : データフレーム形式でcsvを読み込む  "
   ]
  },
  {
   "cell_type": "code",
   "execution_count": 3,
   "metadata": {},
   "outputs": [],
   "source": [
    "data2 = pd.read_csv(\"with_header.csv\")"
   ]
  },
  {
   "cell_type": "markdown",
   "metadata": {},
   "source": [
    "pandasのデータフレームだとcsvデータをExcelのように可視化できる．直感的でわかりやすい．"
   ]
  },
  {
   "cell_type": "code",
   "execution_count": 4,
   "metadata": {},
   "outputs": [
    {
     "data": {
      "text/html": [
       "<div>\n",
       "<style scoped>\n",
       "    .dataframe tbody tr th:only-of-type {\n",
       "        vertical-align: middle;\n",
       "    }\n",
       "\n",
       "    .dataframe tbody tr th {\n",
       "        vertical-align: top;\n",
       "    }\n",
       "\n",
       "    .dataframe thead th {\n",
       "        text-align: right;\n",
       "    }\n",
       "</style>\n",
       "<table border=\"1\" class=\"dataframe\">\n",
       "  <thead>\n",
       "    <tr style=\"text-align: right;\">\n",
       "      <th></th>\n",
       "      <th>t</th>\n",
       "      <th>l_0_0</th>\n",
       "      <th>l_0_1</th>\n",
       "      <th>l_0_2</th>\n",
       "      <th>l_1_0</th>\n",
       "      <th>l_1_1</th>\n",
       "      <th>l_1_2</th>\n",
       "      <th>l_dot_0_0</th>\n",
       "      <th>l_dot_0_1</th>\n",
       "      <th>l_dot_0_2</th>\n",
       "      <th>l_dot_1_0</th>\n",
       "      <th>l_dot_1_1</th>\n",
       "      <th>l_dot_1_2</th>\n",
       "    </tr>\n",
       "  </thead>\n",
       "  <tbody>\n",
       "    <tr>\n",
       "      <th>0</th>\n",
       "      <td>0.00</td>\n",
       "      <td>0.000000</td>\n",
       "      <td>0.000000</td>\n",
       "      <td>0.000000</td>\n",
       "      <td>0.000000</td>\n",
       "      <td>0.000000</td>\n",
       "      <td>0.000000</td>\n",
       "      <td>0.000000</td>\n",
       "      <td>0.000000</td>\n",
       "      <td>0.000000</td>\n",
       "      <td>0.000000</td>\n",
       "      <td>0.000000</td>\n",
       "      <td>0.000000</td>\n",
       "    </tr>\n",
       "    <tr>\n",
       "      <th>1</th>\n",
       "      <td>0.01</td>\n",
       "      <td>-0.000059</td>\n",
       "      <td>0.000084</td>\n",
       "      <td>0.000087</td>\n",
       "      <td>-0.000036</td>\n",
       "      <td>0.000073</td>\n",
       "      <td>0.000075</td>\n",
       "      <td>-0.011102</td>\n",
       "      <td>0.017170</td>\n",
       "      <td>0.017801</td>\n",
       "      <td>-0.006271</td>\n",
       "      <td>0.014833</td>\n",
       "      <td>0.015308</td>\n",
       "    </tr>\n",
       "    <tr>\n",
       "      <th>2</th>\n",
       "      <td>0.02</td>\n",
       "      <td>-0.000209</td>\n",
       "      <td>0.000363</td>\n",
       "      <td>0.000378</td>\n",
       "      <td>-0.000093</td>\n",
       "      <td>0.000307</td>\n",
       "      <td>0.000317</td>\n",
       "      <td>-0.018717</td>\n",
       "      <td>0.040176</td>\n",
       "      <td>0.041997</td>\n",
       "      <td>-0.002826</td>\n",
       "      <td>0.032568</td>\n",
       "      <td>0.033743</td>\n",
       "    </tr>\n",
       "    <tr>\n",
       "      <th>3</th>\n",
       "      <td>0.03</td>\n",
       "      <td>-0.000440</td>\n",
       "      <td>0.000921</td>\n",
       "      <td>0.000963</td>\n",
       "      <td>-0.000042</td>\n",
       "      <td>0.000730</td>\n",
       "      <td>0.000756</td>\n",
       "      <td>-0.028439</td>\n",
       "      <td>0.072753</td>\n",
       "      <td>0.076650</td>\n",
       "      <td>0.015476</td>\n",
       "      <td>0.051937</td>\n",
       "      <td>0.053752</td>\n",
       "    </tr>\n",
       "    <tr>\n",
       "      <th>4</th>\n",
       "      <td>0.04</td>\n",
       "      <td>-0.000791</td>\n",
       "      <td>0.001837</td>\n",
       "      <td>0.001933</td>\n",
       "      <td>0.000265</td>\n",
       "      <td>0.001337</td>\n",
       "      <td>0.001382</td>\n",
       "      <td>-0.041547</td>\n",
       "      <td>0.110480</td>\n",
       "      <td>0.117566</td>\n",
       "      <td>0.048056</td>\n",
       "      <td>0.068585</td>\n",
       "      <td>0.070631</td>\n",
       "    </tr>\n",
       "    <tr>\n",
       "      <th>...</th>\n",
       "      <td>...</td>\n",
       "      <td>...</td>\n",
       "      <td>...</td>\n",
       "      <td>...</td>\n",
       "      <td>...</td>\n",
       "      <td>...</td>\n",
       "      <td>...</td>\n",
       "      <td>...</td>\n",
       "      <td>...</td>\n",
       "      <td>...</td>\n",
       "      <td>...</td>\n",
       "      <td>...</td>\n",
       "      <td>...</td>\n",
       "    </tr>\n",
       "    <tr>\n",
       "      <th>295</th>\n",
       "      <td>2.95</td>\n",
       "      <td>0.007553</td>\n",
       "      <td>0.008961</td>\n",
       "      <td>0.002514</td>\n",
       "      <td>0.006146</td>\n",
       "      <td>0.006236</td>\n",
       "      <td>0.006874</td>\n",
       "      <td>-0.005582</td>\n",
       "      <td>0.004402</td>\n",
       "      <td>0.001081</td>\n",
       "      <td>0.000460</td>\n",
       "      <td>-0.000776</td>\n",
       "      <td>0.000194</td>\n",
       "    </tr>\n",
       "    <tr>\n",
       "      <th>296</th>\n",
       "      <td>2.96</td>\n",
       "      <td>0.007497</td>\n",
       "      <td>0.009005</td>\n",
       "      <td>0.002525</td>\n",
       "      <td>0.006151</td>\n",
       "      <td>0.006229</td>\n",
       "      <td>0.006876</td>\n",
       "      <td>-0.005611</td>\n",
       "      <td>0.004345</td>\n",
       "      <td>0.001167</td>\n",
       "      <td>0.000469</td>\n",
       "      <td>-0.000775</td>\n",
       "      <td>0.000184</td>\n",
       "    </tr>\n",
       "    <tr>\n",
       "      <th>297</th>\n",
       "      <td>2.97</td>\n",
       "      <td>0.007441</td>\n",
       "      <td>0.009048</td>\n",
       "      <td>0.002537</td>\n",
       "      <td>0.006155</td>\n",
       "      <td>0.006221</td>\n",
       "      <td>0.006878</td>\n",
       "      <td>-0.005638</td>\n",
       "      <td>0.004286</td>\n",
       "      <td>0.001253</td>\n",
       "      <td>0.000477</td>\n",
       "      <td>-0.000775</td>\n",
       "      <td>0.000174</td>\n",
       "    </tr>\n",
       "    <tr>\n",
       "      <th>298</th>\n",
       "      <td>2.98</td>\n",
       "      <td>0.007384</td>\n",
       "      <td>0.009091</td>\n",
       "      <td>0.002550</td>\n",
       "      <td>0.006160</td>\n",
       "      <td>0.006213</td>\n",
       "      <td>0.006880</td>\n",
       "      <td>-0.005664</td>\n",
       "      <td>0.004227</td>\n",
       "      <td>0.001338</td>\n",
       "      <td>0.000485</td>\n",
       "      <td>-0.000774</td>\n",
       "      <td>0.000164</td>\n",
       "    </tr>\n",
       "    <tr>\n",
       "      <th>299</th>\n",
       "      <td>2.99</td>\n",
       "      <td>0.007328</td>\n",
       "      <td>0.009133</td>\n",
       "      <td>0.002564</td>\n",
       "      <td>0.006165</td>\n",
       "      <td>0.006205</td>\n",
       "      <td>0.006881</td>\n",
       "      <td>-0.005689</td>\n",
       "      <td>0.004167</td>\n",
       "      <td>0.001423</td>\n",
       "      <td>0.000494</td>\n",
       "      <td>-0.000772</td>\n",
       "      <td>0.000154</td>\n",
       "    </tr>\n",
       "  </tbody>\n",
       "</table>\n",
       "<p>300 rows × 13 columns</p>\n",
       "</div>"
      ],
      "text/plain": [
       "        t     l_0_0     l_0_1     l_0_2     l_1_0     l_1_1     l_1_2  \\\n",
       "0    0.00  0.000000  0.000000  0.000000  0.000000  0.000000  0.000000   \n",
       "1    0.01 -0.000059  0.000084  0.000087 -0.000036  0.000073  0.000075   \n",
       "2    0.02 -0.000209  0.000363  0.000378 -0.000093  0.000307  0.000317   \n",
       "3    0.03 -0.000440  0.000921  0.000963 -0.000042  0.000730  0.000756   \n",
       "4    0.04 -0.000791  0.001837  0.001933  0.000265  0.001337  0.001382   \n",
       "..    ...       ...       ...       ...       ...       ...       ...   \n",
       "295  2.95  0.007553  0.008961  0.002514  0.006146  0.006236  0.006874   \n",
       "296  2.96  0.007497  0.009005  0.002525  0.006151  0.006229  0.006876   \n",
       "297  2.97  0.007441  0.009048  0.002537  0.006155  0.006221  0.006878   \n",
       "298  2.98  0.007384  0.009091  0.002550  0.006160  0.006213  0.006880   \n",
       "299  2.99  0.007328  0.009133  0.002564  0.006165  0.006205  0.006881   \n",
       "\n",
       "     l_dot_0_0  l_dot_0_1  l_dot_0_2  l_dot_1_0  l_dot_1_1  l_dot_1_2  \n",
       "0     0.000000   0.000000   0.000000   0.000000   0.000000   0.000000  \n",
       "1    -0.011102   0.017170   0.017801  -0.006271   0.014833   0.015308  \n",
       "2    -0.018717   0.040176   0.041997  -0.002826   0.032568   0.033743  \n",
       "3    -0.028439   0.072753   0.076650   0.015476   0.051937   0.053752  \n",
       "4    -0.041547   0.110480   0.117566   0.048056   0.068585   0.070631  \n",
       "..         ...        ...        ...        ...        ...        ...  \n",
       "295  -0.005582   0.004402   0.001081   0.000460  -0.000776   0.000194  \n",
       "296  -0.005611   0.004345   0.001167   0.000469  -0.000775   0.000184  \n",
       "297  -0.005638   0.004286   0.001253   0.000477  -0.000775   0.000174  \n",
       "298  -0.005664   0.004227   0.001338   0.000485  -0.000774   0.000164  \n",
       "299  -0.005689   0.004167   0.001423   0.000494  -0.000772   0.000154  \n",
       "\n",
       "[300 rows x 13 columns]"
      ]
     },
     "execution_count": 4,
     "metadata": {},
     "output_type": "execute_result"
    }
   ],
   "source": [
    "data2"
   ]
  },
  {
   "cell_type": "markdown",
   "metadata": {},
   "source": [
    "データ列は\n",
    "```python\n",
    "df[\"ラベル\"]\n",
    "```\n",
    "で指定できる．"
   ]
  },
  {
   "cell_type": "code",
   "execution_count": 9,
   "metadata": {},
   "outputs": [
    {
     "data": {
      "text/plain": [
       "0      0.000000\n",
       "1     -0.000059\n",
       "2     -0.000209\n",
       "3     -0.000440\n",
       "4     -0.000791\n",
       "         ...   \n",
       "295    0.007553\n",
       "296    0.007497\n",
       "297    0.007441\n",
       "298    0.007384\n",
       "299    0.007328\n",
       "Name: l_0_0, Length: 300, dtype: float64"
      ]
     },
     "execution_count": 9,
     "metadata": {},
     "output_type": "execute_result"
    }
   ],
   "source": [
    "data2[\"l_0_0\"]"
   ]
  },
  {
   "cell_type": "markdown",
   "metadata": {},
   "source": [
    "グラフ作成はいつもどおり"
   ]
  },
  {
   "cell_type": "code",
   "execution_count": 11,
   "metadata": {},
   "outputs": [
    {
     "data": {
      "text/plain": [
       "<matplotlib.legend.Legend at 0x1ba2e692a30>"
      ]
     },
     "execution_count": 11,
     "metadata": {},
     "output_type": "execute_result"
    },
    {
     "data": {
      "image/png": "[encoded data removed]",
      "text/plain": [
       "<Figure size 432x288 with 1 Axes>"
      ]
     },
     "metadata": {
      "needs_background": "light"
     },
     "output_type": "display_data"
    }
   ],
   "source": [
    "plt.plot(data2[\"t\"], data2[\"l_0_0\"], label=\"l_0_0\")\n",
    "plt.plot(data2[\"t\"], data2[\"l_0_1\"], label=\"l_0_1\")\n",
    "plt.plot(data2[\"t\"], data2[\"l_0_2\"], label=\"l_0_2\")\n",
    "plt.legend()"
   ]
  }
 ],
 "metadata": {
  "interpreter": {
   "hash": "f4dfc3534a11df64ca8ab5b1d0d5f00bece38226cd6557b9a8a26359d97dd2dd"
  },
  "kernelspec": {
   "display_name": "Python 3.8.8 64-bit ('base': conda)",
   "language": "python",
   "name": "python3"
  },
  "language_info": {
   "codemirror_mode": {
    "name": "ipython",
    "version": 3
   },
   "file_extension": ".py",
   "mimetype": "text/x-python",
   "name": "python",
   "nbconvert_exporter": "python",
   "pygments_lexer": "ipython3",
   "version": "3.8.8"
  },
  "orig_nbformat": 4
 },
 "nbformat": 4,
 "nbformat_minor": 2
}
