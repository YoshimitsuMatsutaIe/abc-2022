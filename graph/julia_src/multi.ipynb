{
 "cells": [
  {
   "cell_type": "markdown",
   "metadata": {},
   "source": [
    "## 複数のグラフを並べて表示"
   ]
  },
  {
   "cell_type": "code",
   "execution_count": 2,
   "metadata": {},
   "outputs": [],
   "source": [
    "using Plots"
   ]
  },
  {
   "cell_type": "markdown",
   "metadata": {},
   "source": [
    "データを用意"
   ]
  },
  {
   "cell_type": "code",
   "execution_count": 3,
   "metadata": {},
   "outputs": [],
   "source": [
    "x1 = -1:0.01:1\n",
    "y1_1 = sin.(x1)\n",
    "y1_2 = cos.(x1)\n",
    "\n",
    "expsin(x) = exp(x) * sin(x)\n",
    "x2 = 0:0.01:5\n",
    "y2_1 = exp.(x2)\n",
    "y2_2 = expsin.(x2);"
   ]
  },
  {
   "cell_type": "markdown",
   "metadata": {},
   "source": [
    "次のようにする"
   ]
  },
  {
   "cell_type": "code",
   "execution_count": 4,
   "metadata": {},
   "outputs": [],
   "source": [
    "fig1 = plot(x1, y1_1, label=\"sin\")\n",
    "fig2 = plot(x1, y1_2, label=\"cos\")\n",
    "fig3 = plot(x2, y2_1, label=\"exp\")\n",
    "fig4 = plot(x2, y2_2, label=\"expsin\")\n",
    "\n",
    "fig = plot(fig1, fig2, fig3, fig4, layout=(2,2))\n",
    "savefig(\"m1.png\")"
   ]
  },
  {
   "cell_type": "markdown",
   "metadata": {},
   "source": [
    "![pic](picture/m1.png)"
   ]
  }
 ],
 "metadata": {
  "kernelspec": {
   "display_name": "Julia 1.6.2",
   "language": "julia",
   "name": "julia-1.6"
  },
  "language_info": {
   "file_extension": ".jl",
   "mimetype": "application/julia",
   "name": "julia",
   "version": "1.6.2"
  },
  "orig_nbformat": 4
 },
 "nbformat": 4,
 "nbformat_minor": 2
}
