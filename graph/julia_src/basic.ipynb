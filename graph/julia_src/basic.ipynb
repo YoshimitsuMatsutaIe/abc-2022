{
 "cells": [
  {
   "cell_type": "markdown",
   "metadata": {},
   "source": [
    "# 基本\n",
    "juliaの可視化ツールのPlots.jlを扱う．  \n",
    "Plotsには複数のバックエンドを扱えるという特徴があり，デフォルトのGR以外にもmatplotlibのpyplotが使えたりする．  \n",
    "pyplotのほうが安定していて視認性も高いが，せっかくなのでGRを使用する．  \n",
    "\n",
    "※ githubではjupyterのPlotsグラフが表示されない．そのためpngで保存したものを表示するようにしている．毎回行っている`savefig`はそのためのもので，実際は常にプロットを保存する必要はない．  "
   ]
  },
  {
   "cell_type": "code",
   "execution_count": 3,
   "metadata": {},
   "outputs": [],
   "source": [
    "using Plots"
   ]
  },
  {
   "cell_type": "code",
   "execution_count": 4,
   "metadata": {},
   "outputs": [],
   "source": [
    "# データ作成\n",
    "x = 0:0.01:2*pi\n",
    "y = sin.(x);"
   ]
  },
  {
   "cell_type": "markdown",
   "metadata": {},
   "source": [
    "## 基本のプロット"
   ]
  },
  {
   "cell_type": "code",
   "execution_count": 5,
   "metadata": {},
   "outputs": [],
   "source": [
    "plot(x, y)\n",
    "savefig(\"1.png\");  # savefigで保存"
   ]
  },
  {
   "cell_type": "markdown",
   "metadata": {},
   "source": [
    "![pic](picture/1.png)"
   ]
  },
  {
   "cell_type": "markdown",
   "metadata": {},
   "source": [
    "matplotlibには無い機能として関数のプロットがある  "
   ]
  },
  {
   "cell_type": "code",
   "execution_count": 9,
   "metadata": {},
   "outputs": [],
   "source": [
    "plot(sin)  # 関数を渡すと適当なグラフを作ってくれる\n",
    "savefig(\"2.png\")"
   ]
  },
  {
   "cell_type": "markdown",
   "metadata": {},
   "source": [
    "![pic](picture/2.png)"
   ]
  },
  {
   "cell_type": "markdown",
   "metadata": {},
   "source": [
    "### 軸ラベル，軸範囲，凡例などの設定\n",
    "```plot!(fig, ~)```でfigに設定や要素を追加できる"
   ]
  },
  {
   "cell_type": "code",
   "execution_count": 17,
   "metadata": {},
   "outputs": [],
   "source": [
    "fig = plot(x, y, label=\"sin\",)\n",
    "plot!(fig, label=\"sin\")\n",
    "plot!(fig, xlabel=\"x\", ylabel=\"y\")\n",
    "plot!(fig, xlim=(0, 2π))\n",
    "plot!(fig, size=(800, 200))\n",
    "plot!(fig, framestyle=:box)  # matplotlibと異なりデフォルトでついていない\n",
    "plot!(fig, margin=0.6Plots.cm)  # マージンを指定．軸ラベルがはみ出す場合は入れる\n",
    "savefig(\"3.png\")"
   ]
  },
  {
   "cell_type": "markdown",
   "metadata": {},
   "source": [
    "![pic](picture/3.png)"
   ]
  },
  {
   "cell_type": "markdown",
   "metadata": {},
   "source": [
    "複数データのプロット\n",
    "```plot!(fig, データ)```でプロットを追加"
   ]
  },
  {
   "cell_type": "code",
   "execution_count": 18,
   "metadata": {},
   "outputs": [],
   "source": [
    "plot!(fig, cos, label=\"cos\")\n",
    "savefig(\"4.png\")"
   ]
  },
  {
   "cell_type": "markdown",
   "metadata": {},
   "source": [
    "![pic](picture/4.png)"
   ]
  },
  {
   "cell_type": "markdown",
   "metadata": {},
   "source": [
    "#### ラインスタイル，色，マーカー等のセッティング"
   ]
  },
  {
   "cell_type": "code",
   "execution_count": 19,
   "metadata": {},
   "outputs": [],
   "source": [
    "fig2 = plot(sin, label=\"sin\", color=:red, markershape=:o, linestyle=:solid)\n",
    "plot!(fig2, cos, label=\"cos\", color=:magenta, markershape=:rect, linestyle=:dash)\n",
    "savefig(\"5.png\")"
   ]
  },
  {
   "cell_type": "markdown",
   "metadata": {},
   "source": [
    "![pic](picture/5.png)"
   ]
  }
 ],
 "metadata": {
  "kernelspec": {
   "display_name": "Julia 1.6.2",
   "language": "julia",
   "name": "julia-1.6"
  },
  "language_info": {
   "file_extension": ".jl",
   "mimetype": "application/julia",
   "name": "julia",
   "version": "1.6.2"
  },
  "orig_nbformat": 4
 },
 "nbformat": 4,
 "nbformat_minor": 2
}
