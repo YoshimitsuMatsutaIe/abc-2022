{
 "cells": [
  {
   "cell_type": "markdown",
   "metadata": {},
   "source": [
    "# 細かい調整"
   ]
  },
  {
   "cell_type": "code",
   "execution_count": 2,
   "metadata": {},
   "outputs": [],
   "source": [
    "using Plots\n",
    "using LaTeXStrings"
   ]
  },
  {
   "cell_type": "markdown",
   "metadata": {},
   "source": [
    "フォントやフォントサイズ等を一括指定"
   ]
  },
  {
   "cell_type": "code",
   "execution_count": 3,
   "metadata": {},
   "outputs": [],
   "source": [
    "plot_font = \"Computer Modern\"  # \"times\"でTimes New Romanに指定できるがLaTeXが表示できなくなる．なぜか不明\n",
    "default(\n",
    "    legendfont = (plot_font),\n",
    "    legendfontsize = 18,\n",
    "    guidefont = (18, plot_font),\n",
    "    tickfont = (12, plot_font),\n",
    "    framestyle = :box,\n",
    ")\n"
   ]
  },
  {
   "cell_type": "code",
   "execution_count": 4,
   "metadata": {},
   "outputs": [],
   "source": [
    "# データ作成\n",
    "x = 0:0.01:2*pi\n",
    "y = sin.(x)\n",
    "y2 = cos.(x);"
   ]
  },
  {
   "cell_type": "markdown",
   "metadata": {},
   "source": [
    "### プロット\n",
    "`L\"LaTeXスタイル\"`で数式を表示できる．  \n",
    "#### `L\"\"`の注意  \n",
    "* デフォルトは斜体  \n",
    "* 立体にしたいときは`\\textrm{ここにかく}`（¥はスラッシュ）  \n",
    "* 空白は`~`  \n",
    "などなど"
   ]
  },
  {
   "cell_type": "code",
   "execution_count": 14,
   "metadata": {},
   "outputs": [],
   "source": [
    "fig = plot(x, y, label=\"sin\", linestyle=:solid, linewidth=5)\n",
    "plot!(fig, x, y2, label = \"cos\", linestyle=:dash, linewidth=5)\n",
    "plot!(fig, xlabel=L\"\\textrm{Times}~t~\\textrm{[s]}\")\n",
    "plot!(fig, ylabel=L\"\\textrm{HogeHoge}~c^2_{hoge}~\\textrm{[m/s]}\")\n",
    "plot!(fig, xlim=(0, 2π))\n",
    "plot!(fig, size=(600, 400))\n",
    "plot!(fig, margin=0.5Plots.cm)  # マージンを指定．軸ラベルがはみ出す場合は入れる\n",
    "\n",
    "savefig(\"a1.png\")"
   ]
  },
  {
   "cell_type": "markdown",
   "metadata": {},
   "source": [
    "![pic](picture/a1.png)"
   ]
  }
 ],
 "metadata": {
  "kernelspec": {
   "display_name": "Julia 1.6.2",
   "language": "julia",
   "name": "julia-1.6"
  },
  "language_info": {
   "file_extension": ".jl",
   "mimetype": "application/julia",
   "name": "julia",
   "version": "1.6.2"
  },
  "orig_nbformat": 4
 },
 "nbformat": 4,
 "nbformat_minor": 2
}
