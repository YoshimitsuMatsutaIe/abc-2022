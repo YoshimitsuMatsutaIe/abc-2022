{
 "cells": [
  {
   "cell_type": "markdown",
   "metadata": {},
   "source": [
    "## 3Dグラフ\n",
    "インタラクティブでないため使いにくいです．  \n",
    "またmatplotlibと違って奥行き感が表現されないため，プロットの位置関係がわかりにくいと思います．  "
   ]
  },
  {
   "cell_type": "code",
   "execution_count": 1,
   "metadata": {},
   "outputs": [],
   "source": [
    "using Plots"
   ]
  },
  {
   "cell_type": "code",
   "execution_count": 2,
   "metadata": {},
   "outputs": [],
   "source": [
    "# データ用意\n",
    "\n",
    "z = -2π:0.1:2π\n",
    "x = cos.(z)\n",
    "y = sin.(z);"
   ]
  },
  {
   "cell_type": "markdown",
   "metadata": {},
   "source": [
    "x, yに追加でzデータ列を追加すれば良い"
   ]
  },
  {
   "cell_type": "code",
   "execution_count": 3,
   "metadata": {},
   "outputs": [],
   "source": [
    "plot(x, y, z)\n",
    "savefig(\"3d1.png\")"
   ]
  },
  {
   "cell_type": "markdown",
   "metadata": {},
   "source": [
    "![pic](picture/3d1.png)"
   ]
  },
  {
   "cell_type": "markdown",
   "metadata": {},
   "source": [
    "それ以外は2次元のときと同じ"
   ]
  },
  {
   "cell_type": "code",
   "execution_count": 4,
   "metadata": {},
   "outputs": [],
   "source": [
    "x2 = cos.(-z)\n",
    "y2 = sin.(-z)\n",
    "\n",
    "fig = plot(xlabel=\"x\", ylabel=\"y\", zlabel=\"z\", size=(500, 500))\n",
    "plot!(fig, x, y, z, label=\"data1\", markershape=:auto)\n",
    "plot!(x2, y2, z, label=\"data2\", markershape=:+)\n",
    "savefig(fig, \"3d2.png\")"
   ]
  },
  {
   "cell_type": "markdown",
   "metadata": {},
   "source": [
    "![pic](picture/3d2.png)"
   ]
  },
  {
   "cell_type": "markdown",
   "metadata": {},
   "source": [
    "### アングルの変更\n",
    "cameraで指定できる"
   ]
  },
  {
   "cell_type": "code",
   "execution_count": 5,
   "metadata": {},
   "outputs": [],
   "source": [
    "plot!(fig, camera=(45,60))\n",
    "savefig(fig, \"3d3.png\")"
   ]
  },
  {
   "cell_type": "markdown",
   "metadata": {},
   "source": [
    "![pic](picture/3d3.png)"
   ]
  }
 ],
 "metadata": {
  "kernelspec": {
   "display_name": "Julia 1.6.2",
   "language": "julia",
   "name": "julia-1.6"
  },
  "language_info": {
   "file_extension": ".jl",
   "mimetype": "application/julia",
   "name": "julia",
   "version": "1.6.2"
  },
  "orig_nbformat": 4
 },
 "nbformat": 4,
 "nbformat_minor": 2
}
